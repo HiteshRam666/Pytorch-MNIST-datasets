{
  "nbformat": 4,
  "nbformat_minor": 0,
  "metadata": {
    "colab": {
      "provenance": [],
      "gpuType": "T4"
    },
    "kernelspec": {
      "name": "python3",
      "display_name": "Python 3"
    },
    "language_info": {
      "name": "python"
    },
    "accelerator": "GPU",
    "widgets": {
      "application/vnd.jupyter.widget-state+json": {
        "209d5172edf94841a5ac7685d8c41d53": {
          "model_module": "@jupyter-widgets/controls",
          "model_name": "HBoxModel",
          "model_module_version": "1.5.0",
          "state": {
            "_dom_classes": [],
            "_model_module": "@jupyter-widgets/controls",
            "_model_module_version": "1.5.0",
            "_model_name": "HBoxModel",
            "_view_count": null,
            "_view_module": "@jupyter-widgets/controls",
            "_view_module_version": "1.5.0",
            "_view_name": "HBoxView",
            "box_style": "",
            "children": [
              "IPY_MODEL_ad20493d744c4502a9bf7169baad328d",
              "IPY_MODEL_db3c23c477e54accb71d0b5417df032a",
              "IPY_MODEL_03cea06f8fc9447586b21a0ee13b382e"
            ],
            "layout": "IPY_MODEL_fabf1edc55484f9ab7cf75c43dfcd9ca"
          }
        },
        "ad20493d744c4502a9bf7169baad328d": {
          "model_module": "@jupyter-widgets/controls",
          "model_name": "HTMLModel",
          "model_module_version": "1.5.0",
          "state": {
            "_dom_classes": [],
            "_model_module": "@jupyter-widgets/controls",
            "_model_module_version": "1.5.0",
            "_model_name": "HTMLModel",
            "_view_count": null,
            "_view_module": "@jupyter-widgets/controls",
            "_view_module_version": "1.5.0",
            "_view_name": "HTMLView",
            "description": "",
            "description_tooltip": null,
            "layout": "IPY_MODEL_8969ca8418294616bbf9b0e2333bc95b",
            "placeholder": "​",
            "style": "IPY_MODEL_23f1d551387645d68e9c32dfc7d077d2",
            "value": "100%"
          }
        },
        "db3c23c477e54accb71d0b5417df032a": {
          "model_module": "@jupyter-widgets/controls",
          "model_name": "FloatProgressModel",
          "model_module_version": "1.5.0",
          "state": {
            "_dom_classes": [],
            "_model_module": "@jupyter-widgets/controls",
            "_model_module_version": "1.5.0",
            "_model_name": "FloatProgressModel",
            "_view_count": null,
            "_view_module": "@jupyter-widgets/controls",
            "_view_module_version": "1.5.0",
            "_view_name": "ProgressView",
            "bar_style": "success",
            "description": "",
            "description_tooltip": null,
            "layout": "IPY_MODEL_30f75076491a4b3b8f6c4463eab8a95f",
            "max": 5,
            "min": 0,
            "orientation": "horizontal",
            "style": "IPY_MODEL_62ded3b70c064db08668915876eee5d1",
            "value": 5
          }
        },
        "03cea06f8fc9447586b21a0ee13b382e": {
          "model_module": "@jupyter-widgets/controls",
          "model_name": "HTMLModel",
          "model_module_version": "1.5.0",
          "state": {
            "_dom_classes": [],
            "_model_module": "@jupyter-widgets/controls",
            "_model_module_version": "1.5.0",
            "_model_name": "HTMLModel",
            "_view_count": null,
            "_view_module": "@jupyter-widgets/controls",
            "_view_module_version": "1.5.0",
            "_view_name": "HTMLView",
            "description": "",
            "description_tooltip": null,
            "layout": "IPY_MODEL_be6d74c00caa4d0f88e8cd524f3f5ac4",
            "placeholder": "​",
            "style": "IPY_MODEL_8fa19efe5b2949d78926e59dab55669c",
            "value": " 5/5 [04:45&lt;00:00, 57.10s/it]"
          }
        },
        "fabf1edc55484f9ab7cf75c43dfcd9ca": {
          "model_module": "@jupyter-widgets/base",
          "model_name": "LayoutModel",
          "model_module_version": "1.2.0",
          "state": {
            "_model_module": "@jupyter-widgets/base",
            "_model_module_version": "1.2.0",
            "_model_name": "LayoutModel",
            "_view_count": null,
            "_view_module": "@jupyter-widgets/base",
            "_view_module_version": "1.2.0",
            "_view_name": "LayoutView",
            "align_content": null,
            "align_items": null,
            "align_self": null,
            "border": null,
            "bottom": null,
            "display": null,
            "flex": null,
            "flex_flow": null,
            "grid_area": null,
            "grid_auto_columns": null,
            "grid_auto_flow": null,
            "grid_auto_rows": null,
            "grid_column": null,
            "grid_gap": null,
            "grid_row": null,
            "grid_template_areas": null,
            "grid_template_columns": null,
            "grid_template_rows": null,
            "height": null,
            "justify_content": null,
            "justify_items": null,
            "left": null,
            "margin": null,
            "max_height": null,
            "max_width": null,
            "min_height": null,
            "min_width": null,
            "object_fit": null,
            "object_position": null,
            "order": null,
            "overflow": null,
            "overflow_x": null,
            "overflow_y": null,
            "padding": null,
            "right": null,
            "top": null,
            "visibility": null,
            "width": null
          }
        },
        "8969ca8418294616bbf9b0e2333bc95b": {
          "model_module": "@jupyter-widgets/base",
          "model_name": "LayoutModel",
          "model_module_version": "1.2.0",
          "state": {
            "_model_module": "@jupyter-widgets/base",
            "_model_module_version": "1.2.0",
            "_model_name": "LayoutModel",
            "_view_count": null,
            "_view_module": "@jupyter-widgets/base",
            "_view_module_version": "1.2.0",
            "_view_name": "LayoutView",
            "align_content": null,
            "align_items": null,
            "align_self": null,
            "border": null,
            "bottom": null,
            "display": null,
            "flex": null,
            "flex_flow": null,
            "grid_area": null,
            "grid_auto_columns": null,
            "grid_auto_flow": null,
            "grid_auto_rows": null,
            "grid_column": null,
            "grid_gap": null,
            "grid_row": null,
            "grid_template_areas": null,
            "grid_template_columns": null,
            "grid_template_rows": null,
            "height": null,
            "justify_content": null,
            "justify_items": null,
            "left": null,
            "margin": null,
            "max_height": null,
            "max_width": null,
            "min_height": null,
            "min_width": null,
            "object_fit": null,
            "object_position": null,
            "order": null,
            "overflow": null,
            "overflow_x": null,
            "overflow_y": null,
            "padding": null,
            "right": null,
            "top": null,
            "visibility": null,
            "width": null
          }
        },
        "23f1d551387645d68e9c32dfc7d077d2": {
          "model_module": "@jupyter-widgets/controls",
          "model_name": "DescriptionStyleModel",
          "model_module_version": "1.5.0",
          "state": {
            "_model_module": "@jupyter-widgets/controls",
            "_model_module_version": "1.5.0",
            "_model_name": "DescriptionStyleModel",
            "_view_count": null,
            "_view_module": "@jupyter-widgets/base",
            "_view_module_version": "1.2.0",
            "_view_name": "StyleView",
            "description_width": ""
          }
        },
        "30f75076491a4b3b8f6c4463eab8a95f": {
          "model_module": "@jupyter-widgets/base",
          "model_name": "LayoutModel",
          "model_module_version": "1.2.0",
          "state": {
            "_model_module": "@jupyter-widgets/base",
            "_model_module_version": "1.2.0",
            "_model_name": "LayoutModel",
            "_view_count": null,
            "_view_module": "@jupyter-widgets/base",
            "_view_module_version": "1.2.0",
            "_view_name": "LayoutView",
            "align_content": null,
            "align_items": null,
            "align_self": null,
            "border": null,
            "bottom": null,
            "display": null,
            "flex": null,
            "flex_flow": null,
            "grid_area": null,
            "grid_auto_columns": null,
            "grid_auto_flow": null,
            "grid_auto_rows": null,
            "grid_column": null,
            "grid_gap": null,
            "grid_row": null,
            "grid_template_areas": null,
            "grid_template_columns": null,
            "grid_template_rows": null,
            "height": null,
            "justify_content": null,
            "justify_items": null,
            "left": null,
            "margin": null,
            "max_height": null,
            "max_width": null,
            "min_height": null,
            "min_width": null,
            "object_fit": null,
            "object_position": null,
            "order": null,
            "overflow": null,
            "overflow_x": null,
            "overflow_y": null,
            "padding": null,
            "right": null,
            "top": null,
            "visibility": null,
            "width": null
          }
        },
        "62ded3b70c064db08668915876eee5d1": {
          "model_module": "@jupyter-widgets/controls",
          "model_name": "ProgressStyleModel",
          "model_module_version": "1.5.0",
          "state": {
            "_model_module": "@jupyter-widgets/controls",
            "_model_module_version": "1.5.0",
            "_model_name": "ProgressStyleModel",
            "_view_count": null,
            "_view_module": "@jupyter-widgets/base",
            "_view_module_version": "1.2.0",
            "_view_name": "StyleView",
            "bar_color": null,
            "description_width": ""
          }
        },
        "be6d74c00caa4d0f88e8cd524f3f5ac4": {
          "model_module": "@jupyter-widgets/base",
          "model_name": "LayoutModel",
          "model_module_version": "1.2.0",
          "state": {
            "_model_module": "@jupyter-widgets/base",
            "_model_module_version": "1.2.0",
            "_model_name": "LayoutModel",
            "_view_count": null,
            "_view_module": "@jupyter-widgets/base",
            "_view_module_version": "1.2.0",
            "_view_name": "LayoutView",
            "align_content": null,
            "align_items": null,
            "align_self": null,
            "border": null,
            "bottom": null,
            "display": null,
            "flex": null,
            "flex_flow": null,
            "grid_area": null,
            "grid_auto_columns": null,
            "grid_auto_flow": null,
            "grid_auto_rows": null,
            "grid_column": null,
            "grid_gap": null,
            "grid_row": null,
            "grid_template_areas": null,
            "grid_template_columns": null,
            "grid_template_rows": null,
            "height": null,
            "justify_content": null,
            "justify_items": null,
            "left": null,
            "margin": null,
            "max_height": null,
            "max_width": null,
            "min_height": null,
            "min_width": null,
            "object_fit": null,
            "object_position": null,
            "order": null,
            "overflow": null,
            "overflow_x": null,
            "overflow_y": null,
            "padding": null,
            "right": null,
            "top": null,
            "visibility": null,
            "width": null
          }
        },
        "8fa19efe5b2949d78926e59dab55669c": {
          "model_module": "@jupyter-widgets/controls",
          "model_name": "DescriptionStyleModel",
          "model_module_version": "1.5.0",
          "state": {
            "_model_module": "@jupyter-widgets/controls",
            "_model_module_version": "1.5.0",
            "_model_name": "DescriptionStyleModel",
            "_view_count": null,
            "_view_module": "@jupyter-widgets/base",
            "_view_module_version": "1.2.0",
            "_view_name": "StyleView",
            "description_width": ""
          }
        },
        "ec6cab6ce03048d3abe4df1b25543063": {
          "model_module": "@jupyter-widgets/controls",
          "model_name": "HBoxModel",
          "model_module_version": "1.5.0",
          "state": {
            "_dom_classes": [],
            "_model_module": "@jupyter-widgets/controls",
            "_model_module_version": "1.5.0",
            "_model_name": "HBoxModel",
            "_view_count": null,
            "_view_module": "@jupyter-widgets/controls",
            "_view_module_version": "1.5.0",
            "_view_name": "HBoxView",
            "box_style": "",
            "children": [
              "IPY_MODEL_896bd2f608ff497aaf1c0c67947bde5f",
              "IPY_MODEL_152c3cb72fc6488da04123f0300dda77",
              "IPY_MODEL_f52d56fb81f5478da9d611aa74371fb1"
            ],
            "layout": "IPY_MODEL_ca66d60986e04532a2fbc155172fa576"
          }
        },
        "896bd2f608ff497aaf1c0c67947bde5f": {
          "model_module": "@jupyter-widgets/controls",
          "model_name": "HTMLModel",
          "model_module_version": "1.5.0",
          "state": {
            "_dom_classes": [],
            "_model_module": "@jupyter-widgets/controls",
            "_model_module_version": "1.5.0",
            "_model_name": "HTMLModel",
            "_view_count": null,
            "_view_module": "@jupyter-widgets/controls",
            "_view_module_version": "1.5.0",
            "_view_name": "HTMLView",
            "description": "",
            "description_tooltip": null,
            "layout": "IPY_MODEL_0c3990c177ba42bb91fd4bc2af59e4b3",
            "placeholder": "​",
            "style": "IPY_MODEL_a747745fe0184ab48f870d5c584c8723",
            "value": ""
          }
        },
        "152c3cb72fc6488da04123f0300dda77": {
          "model_module": "@jupyter-widgets/controls",
          "model_name": "FloatProgressModel",
          "model_module_version": "1.5.0",
          "state": {
            "_dom_classes": [],
            "_model_module": "@jupyter-widgets/controls",
            "_model_module_version": "1.5.0",
            "_model_name": "FloatProgressModel",
            "_view_count": null,
            "_view_module": "@jupyter-widgets/controls",
            "_view_module_version": "1.5.0",
            "_view_name": "ProgressView",
            "bar_style": "success",
            "description": "",
            "description_tooltip": null,
            "layout": "IPY_MODEL_80049e40faf147cab08dfdf2304790b8",
            "max": 1,
            "min": 0,
            "orientation": "horizontal",
            "style": "IPY_MODEL_ad2b2e4a3e1244aab0ace0fa2579f5b1",
            "value": 1
          }
        },
        "f52d56fb81f5478da9d611aa74371fb1": {
          "model_module": "@jupyter-widgets/controls",
          "model_name": "HTMLModel",
          "model_module_version": "1.5.0",
          "state": {
            "_dom_classes": [],
            "_model_module": "@jupyter-widgets/controls",
            "_model_module_version": "1.5.0",
            "_model_name": "HTMLModel",
            "_view_count": null,
            "_view_module": "@jupyter-widgets/controls",
            "_view_module_version": "1.5.0",
            "_view_name": "HTMLView",
            "description": "",
            "description_tooltip": null,
            "layout": "IPY_MODEL_9694db7dacbb49e7af5b93eb3a7ca1a3",
            "placeholder": "​",
            "style": "IPY_MODEL_0e7813595a55480ba8dfe3c724489d22",
            "value": " 313/? [00:05&lt;00:00, 52.69it/s]"
          }
        },
        "ca66d60986e04532a2fbc155172fa576": {
          "model_module": "@jupyter-widgets/base",
          "model_name": "LayoutModel",
          "model_module_version": "1.2.0",
          "state": {
            "_model_module": "@jupyter-widgets/base",
            "_model_module_version": "1.2.0",
            "_model_name": "LayoutModel",
            "_view_count": null,
            "_view_module": "@jupyter-widgets/base",
            "_view_module_version": "1.2.0",
            "_view_name": "LayoutView",
            "align_content": null,
            "align_items": null,
            "align_self": null,
            "border": null,
            "bottom": null,
            "display": null,
            "flex": null,
            "flex_flow": null,
            "grid_area": null,
            "grid_auto_columns": null,
            "grid_auto_flow": null,
            "grid_auto_rows": null,
            "grid_column": null,
            "grid_gap": null,
            "grid_row": null,
            "grid_template_areas": null,
            "grid_template_columns": null,
            "grid_template_rows": null,
            "height": null,
            "justify_content": null,
            "justify_items": null,
            "left": null,
            "margin": null,
            "max_height": null,
            "max_width": null,
            "min_height": null,
            "min_width": null,
            "object_fit": null,
            "object_position": null,
            "order": null,
            "overflow": null,
            "overflow_x": null,
            "overflow_y": null,
            "padding": null,
            "right": null,
            "top": null,
            "visibility": null,
            "width": null
          }
        },
        "0c3990c177ba42bb91fd4bc2af59e4b3": {
          "model_module": "@jupyter-widgets/base",
          "model_name": "LayoutModel",
          "model_module_version": "1.2.0",
          "state": {
            "_model_module": "@jupyter-widgets/base",
            "_model_module_version": "1.2.0",
            "_model_name": "LayoutModel",
            "_view_count": null,
            "_view_module": "@jupyter-widgets/base",
            "_view_module_version": "1.2.0",
            "_view_name": "LayoutView",
            "align_content": null,
            "align_items": null,
            "align_self": null,
            "border": null,
            "bottom": null,
            "display": null,
            "flex": null,
            "flex_flow": null,
            "grid_area": null,
            "grid_auto_columns": null,
            "grid_auto_flow": null,
            "grid_auto_rows": null,
            "grid_column": null,
            "grid_gap": null,
            "grid_row": null,
            "grid_template_areas": null,
            "grid_template_columns": null,
            "grid_template_rows": null,
            "height": null,
            "justify_content": null,
            "justify_items": null,
            "left": null,
            "margin": null,
            "max_height": null,
            "max_width": null,
            "min_height": null,
            "min_width": null,
            "object_fit": null,
            "object_position": null,
            "order": null,
            "overflow": null,
            "overflow_x": null,
            "overflow_y": null,
            "padding": null,
            "right": null,
            "top": null,
            "visibility": null,
            "width": null
          }
        },
        "a747745fe0184ab48f870d5c584c8723": {
          "model_module": "@jupyter-widgets/controls",
          "model_name": "DescriptionStyleModel",
          "model_module_version": "1.5.0",
          "state": {
            "_model_module": "@jupyter-widgets/controls",
            "_model_module_version": "1.5.0",
            "_model_name": "DescriptionStyleModel",
            "_view_count": null,
            "_view_module": "@jupyter-widgets/base",
            "_view_module_version": "1.2.0",
            "_view_name": "StyleView",
            "description_width": ""
          }
        },
        "80049e40faf147cab08dfdf2304790b8": {
          "model_module": "@jupyter-widgets/base",
          "model_name": "LayoutModel",
          "model_module_version": "1.2.0",
          "state": {
            "_model_module": "@jupyter-widgets/base",
            "_model_module_version": "1.2.0",
            "_model_name": "LayoutModel",
            "_view_count": null,
            "_view_module": "@jupyter-widgets/base",
            "_view_module_version": "1.2.0",
            "_view_name": "LayoutView",
            "align_content": null,
            "align_items": null,
            "align_self": null,
            "border": null,
            "bottom": null,
            "display": null,
            "flex": null,
            "flex_flow": null,
            "grid_area": null,
            "grid_auto_columns": null,
            "grid_auto_flow": null,
            "grid_auto_rows": null,
            "grid_column": null,
            "grid_gap": null,
            "grid_row": null,
            "grid_template_areas": null,
            "grid_template_columns": null,
            "grid_template_rows": null,
            "height": null,
            "justify_content": null,
            "justify_items": null,
            "left": null,
            "margin": null,
            "max_height": null,
            "max_width": null,
            "min_height": null,
            "min_width": null,
            "object_fit": null,
            "object_position": null,
            "order": null,
            "overflow": null,
            "overflow_x": null,
            "overflow_y": null,
            "padding": null,
            "right": null,
            "top": null,
            "visibility": null,
            "width": "20px"
          }
        },
        "ad2b2e4a3e1244aab0ace0fa2579f5b1": {
          "model_module": "@jupyter-widgets/controls",
          "model_name": "ProgressStyleModel",
          "model_module_version": "1.5.0",
          "state": {
            "_model_module": "@jupyter-widgets/controls",
            "_model_module_version": "1.5.0",
            "_model_name": "ProgressStyleModel",
            "_view_count": null,
            "_view_module": "@jupyter-widgets/base",
            "_view_module_version": "1.2.0",
            "_view_name": "StyleView",
            "bar_color": null,
            "description_width": ""
          }
        },
        "9694db7dacbb49e7af5b93eb3a7ca1a3": {
          "model_module": "@jupyter-widgets/base",
          "model_name": "LayoutModel",
          "model_module_version": "1.2.0",
          "state": {
            "_model_module": "@jupyter-widgets/base",
            "_model_module_version": "1.2.0",
            "_model_name": "LayoutModel",
            "_view_count": null,
            "_view_module": "@jupyter-widgets/base",
            "_view_module_version": "1.2.0",
            "_view_name": "LayoutView",
            "align_content": null,
            "align_items": null,
            "align_self": null,
            "border": null,
            "bottom": null,
            "display": null,
            "flex": null,
            "flex_flow": null,
            "grid_area": null,
            "grid_auto_columns": null,
            "grid_auto_flow": null,
            "grid_auto_rows": null,
            "grid_column": null,
            "grid_gap": null,
            "grid_row": null,
            "grid_template_areas": null,
            "grid_template_columns": null,
            "grid_template_rows": null,
            "height": null,
            "justify_content": null,
            "justify_items": null,
            "left": null,
            "margin": null,
            "max_height": null,
            "max_width": null,
            "min_height": null,
            "min_width": null,
            "object_fit": null,
            "object_position": null,
            "order": null,
            "overflow": null,
            "overflow_x": null,
            "overflow_y": null,
            "padding": null,
            "right": null,
            "top": null,
            "visibility": null,
            "width": null
          }
        },
        "0e7813595a55480ba8dfe3c724489d22": {
          "model_module": "@jupyter-widgets/controls",
          "model_name": "DescriptionStyleModel",
          "model_module_version": "1.5.0",
          "state": {
            "_model_module": "@jupyter-widgets/controls",
            "_model_module_version": "1.5.0",
            "_model_name": "DescriptionStyleModel",
            "_view_count": null,
            "_view_module": "@jupyter-widgets/base",
            "_view_module_version": "1.2.0",
            "_view_name": "StyleView",
            "description_width": ""
          }
        },
        "d26f89a7d8a84c48932b938e9576a060": {
          "model_module": "@jupyter-widgets/controls",
          "model_name": "HBoxModel",
          "model_module_version": "1.5.0",
          "state": {
            "_dom_classes": [],
            "_model_module": "@jupyter-widgets/controls",
            "_model_module_version": "1.5.0",
            "_model_name": "HBoxModel",
            "_view_count": null,
            "_view_module": "@jupyter-widgets/controls",
            "_view_module_version": "1.5.0",
            "_view_name": "HBoxView",
            "box_style": "",
            "children": [
              "IPY_MODEL_d75c6ae929944b37a34052632297dd3f",
              "IPY_MODEL_7009251d54304def8699b5dacf1eb4c1",
              "IPY_MODEL_ca8dd52a2acf478abb720e6bc9e4297f"
            ],
            "layout": "IPY_MODEL_89e0ddd9826d4e5497b9953ac8052b93"
          }
        },
        "d75c6ae929944b37a34052632297dd3f": {
          "model_module": "@jupyter-widgets/controls",
          "model_name": "HTMLModel",
          "model_module_version": "1.5.0",
          "state": {
            "_dom_classes": [],
            "_model_module": "@jupyter-widgets/controls",
            "_model_module_version": "1.5.0",
            "_model_name": "HTMLModel",
            "_view_count": null,
            "_view_module": "@jupyter-widgets/controls",
            "_view_module_version": "1.5.0",
            "_view_name": "HTMLView",
            "description": "",
            "description_tooltip": null,
            "layout": "IPY_MODEL_2558de93ac4a430eb5fb9ad321265efb",
            "placeholder": "​",
            "style": "IPY_MODEL_41022cbfa84f4774a92a9f0479d6182f",
            "value": "100%"
          }
        },
        "7009251d54304def8699b5dacf1eb4c1": {
          "model_module": "@jupyter-widgets/controls",
          "model_name": "FloatProgressModel",
          "model_module_version": "1.5.0",
          "state": {
            "_dom_classes": [],
            "_model_module": "@jupyter-widgets/controls",
            "_model_module_version": "1.5.0",
            "_model_name": "FloatProgressModel",
            "_view_count": null,
            "_view_module": "@jupyter-widgets/controls",
            "_view_module_version": "1.5.0",
            "_view_name": "ProgressView",
            "bar_style": "success",
            "description": "",
            "description_tooltip": null,
            "layout": "IPY_MODEL_2270c439937a4184926b8bcbac44cb76",
            "max": 5,
            "min": 0,
            "orientation": "horizontal",
            "style": "IPY_MODEL_75243c355af042dd89144ebc619f56b3",
            "value": 5
          }
        },
        "ca8dd52a2acf478abb720e6bc9e4297f": {
          "model_module": "@jupyter-widgets/controls",
          "model_name": "HTMLModel",
          "model_module_version": "1.5.0",
          "state": {
            "_dom_classes": [],
            "_model_module": "@jupyter-widgets/controls",
            "_model_module_version": "1.5.0",
            "_model_name": "HTMLModel",
            "_view_count": null,
            "_view_module": "@jupyter-widgets/controls",
            "_view_module_version": "1.5.0",
            "_view_name": "HTMLView",
            "description": "",
            "description_tooltip": null,
            "layout": "IPY_MODEL_3080ff812a0b450d96c35c2b6b0c9b11",
            "placeholder": "​",
            "style": "IPY_MODEL_902692f2f86e49c7ade00dbee9df64b7",
            "value": " 5/5 [04:55&lt;00:00, 59.14s/it]"
          }
        },
        "89e0ddd9826d4e5497b9953ac8052b93": {
          "model_module": "@jupyter-widgets/base",
          "model_name": "LayoutModel",
          "model_module_version": "1.2.0",
          "state": {
            "_model_module": "@jupyter-widgets/base",
            "_model_module_version": "1.2.0",
            "_model_name": "LayoutModel",
            "_view_count": null,
            "_view_module": "@jupyter-widgets/base",
            "_view_module_version": "1.2.0",
            "_view_name": "LayoutView",
            "align_content": null,
            "align_items": null,
            "align_self": null,
            "border": null,
            "bottom": null,
            "display": null,
            "flex": null,
            "flex_flow": null,
            "grid_area": null,
            "grid_auto_columns": null,
            "grid_auto_flow": null,
            "grid_auto_rows": null,
            "grid_column": null,
            "grid_gap": null,
            "grid_row": null,
            "grid_template_areas": null,
            "grid_template_columns": null,
            "grid_template_rows": null,
            "height": null,
            "justify_content": null,
            "justify_items": null,
            "left": null,
            "margin": null,
            "max_height": null,
            "max_width": null,
            "min_height": null,
            "min_width": null,
            "object_fit": null,
            "object_position": null,
            "order": null,
            "overflow": null,
            "overflow_x": null,
            "overflow_y": null,
            "padding": null,
            "right": null,
            "top": null,
            "visibility": null,
            "width": null
          }
        },
        "2558de93ac4a430eb5fb9ad321265efb": {
          "model_module": "@jupyter-widgets/base",
          "model_name": "LayoutModel",
          "model_module_version": "1.2.0",
          "state": {
            "_model_module": "@jupyter-widgets/base",
            "_model_module_version": "1.2.0",
            "_model_name": "LayoutModel",
            "_view_count": null,
            "_view_module": "@jupyter-widgets/base",
            "_view_module_version": "1.2.0",
            "_view_name": "LayoutView",
            "align_content": null,
            "align_items": null,
            "align_self": null,
            "border": null,
            "bottom": null,
            "display": null,
            "flex": null,
            "flex_flow": null,
            "grid_area": null,
            "grid_auto_columns": null,
            "grid_auto_flow": null,
            "grid_auto_rows": null,
            "grid_column": null,
            "grid_gap": null,
            "grid_row": null,
            "grid_template_areas": null,
            "grid_template_columns": null,
            "grid_template_rows": null,
            "height": null,
            "justify_content": null,
            "justify_items": null,
            "left": null,
            "margin": null,
            "max_height": null,
            "max_width": null,
            "min_height": null,
            "min_width": null,
            "object_fit": null,
            "object_position": null,
            "order": null,
            "overflow": null,
            "overflow_x": null,
            "overflow_y": null,
            "padding": null,
            "right": null,
            "top": null,
            "visibility": null,
            "width": null
          }
        },
        "41022cbfa84f4774a92a9f0479d6182f": {
          "model_module": "@jupyter-widgets/controls",
          "model_name": "DescriptionStyleModel",
          "model_module_version": "1.5.0",
          "state": {
            "_model_module": "@jupyter-widgets/controls",
            "_model_module_version": "1.5.0",
            "_model_name": "DescriptionStyleModel",
            "_view_count": null,
            "_view_module": "@jupyter-widgets/base",
            "_view_module_version": "1.2.0",
            "_view_name": "StyleView",
            "description_width": ""
          }
        },
        "2270c439937a4184926b8bcbac44cb76": {
          "model_module": "@jupyter-widgets/base",
          "model_name": "LayoutModel",
          "model_module_version": "1.2.0",
          "state": {
            "_model_module": "@jupyter-widgets/base",
            "_model_module_version": "1.2.0",
            "_model_name": "LayoutModel",
            "_view_count": null,
            "_view_module": "@jupyter-widgets/base",
            "_view_module_version": "1.2.0",
            "_view_name": "LayoutView",
            "align_content": null,
            "align_items": null,
            "align_self": null,
            "border": null,
            "bottom": null,
            "display": null,
            "flex": null,
            "flex_flow": null,
            "grid_area": null,
            "grid_auto_columns": null,
            "grid_auto_flow": null,
            "grid_auto_rows": null,
            "grid_column": null,
            "grid_gap": null,
            "grid_row": null,
            "grid_template_areas": null,
            "grid_template_columns": null,
            "grid_template_rows": null,
            "height": null,
            "justify_content": null,
            "justify_items": null,
            "left": null,
            "margin": null,
            "max_height": null,
            "max_width": null,
            "min_height": null,
            "min_width": null,
            "object_fit": null,
            "object_position": null,
            "order": null,
            "overflow": null,
            "overflow_x": null,
            "overflow_y": null,
            "padding": null,
            "right": null,
            "top": null,
            "visibility": null,
            "width": null
          }
        },
        "75243c355af042dd89144ebc619f56b3": {
          "model_module": "@jupyter-widgets/controls",
          "model_name": "ProgressStyleModel",
          "model_module_version": "1.5.0",
          "state": {
            "_model_module": "@jupyter-widgets/controls",
            "_model_module_version": "1.5.0",
            "_model_name": "ProgressStyleModel",
            "_view_count": null,
            "_view_module": "@jupyter-widgets/base",
            "_view_module_version": "1.2.0",
            "_view_name": "StyleView",
            "bar_color": null,
            "description_width": ""
          }
        },
        "3080ff812a0b450d96c35c2b6b0c9b11": {
          "model_module": "@jupyter-widgets/base",
          "model_name": "LayoutModel",
          "model_module_version": "1.2.0",
          "state": {
            "_model_module": "@jupyter-widgets/base",
            "_model_module_version": "1.2.0",
            "_model_name": "LayoutModel",
            "_view_count": null,
            "_view_module": "@jupyter-widgets/base",
            "_view_module_version": "1.2.0",
            "_view_name": "LayoutView",
            "align_content": null,
            "align_items": null,
            "align_self": null,
            "border": null,
            "bottom": null,
            "display": null,
            "flex": null,
            "flex_flow": null,
            "grid_area": null,
            "grid_auto_columns": null,
            "grid_auto_flow": null,
            "grid_auto_rows": null,
            "grid_column": null,
            "grid_gap": null,
            "grid_row": null,
            "grid_template_areas": null,
            "grid_template_columns": null,
            "grid_template_rows": null,
            "height": null,
            "justify_content": null,
            "justify_items": null,
            "left": null,
            "margin": null,
            "max_height": null,
            "max_width": null,
            "min_height": null,
            "min_width": null,
            "object_fit": null,
            "object_position": null,
            "order": null,
            "overflow": null,
            "overflow_x": null,
            "overflow_y": null,
            "padding": null,
            "right": null,
            "top": null,
            "visibility": null,
            "width": null
          }
        },
        "902692f2f86e49c7ade00dbee9df64b7": {
          "model_module": "@jupyter-widgets/controls",
          "model_name": "DescriptionStyleModel",
          "model_module_version": "1.5.0",
          "state": {
            "_model_module": "@jupyter-widgets/controls",
            "_model_module_version": "1.5.0",
            "_model_name": "DescriptionStyleModel",
            "_view_count": null,
            "_view_module": "@jupyter-widgets/base",
            "_view_module_version": "1.2.0",
            "_view_name": "StyleView",
            "description_width": ""
          }
        },
        "6c41c57a1d45415b8aedb0451465a2af": {
          "model_module": "@jupyter-widgets/controls",
          "model_name": "HBoxModel",
          "model_module_version": "1.5.0",
          "state": {
            "_dom_classes": [],
            "_model_module": "@jupyter-widgets/controls",
            "_model_module_version": "1.5.0",
            "_model_name": "HBoxModel",
            "_view_count": null,
            "_view_module": "@jupyter-widgets/controls",
            "_view_module_version": "1.5.0",
            "_view_name": "HBoxView",
            "box_style": "",
            "children": [
              "IPY_MODEL_7065881522e646a2859654aaffe7128f",
              "IPY_MODEL_7f46a7721b3544f9a946fc870114cf42",
              "IPY_MODEL_d4b76a5cdacc44c4b4e94e491670255e"
            ],
            "layout": "IPY_MODEL_8d26180003644b96a0042cba23c0e254"
          }
        },
        "7065881522e646a2859654aaffe7128f": {
          "model_module": "@jupyter-widgets/controls",
          "model_name": "HTMLModel",
          "model_module_version": "1.5.0",
          "state": {
            "_dom_classes": [],
            "_model_module": "@jupyter-widgets/controls",
            "_model_module_version": "1.5.0",
            "_model_name": "HTMLModel",
            "_view_count": null,
            "_view_module": "@jupyter-widgets/controls",
            "_view_module_version": "1.5.0",
            "_view_name": "HTMLView",
            "description": "",
            "description_tooltip": null,
            "layout": "IPY_MODEL_18d39118edcc44b3b909ff38ff66fd69",
            "placeholder": "​",
            "style": "IPY_MODEL_7633c9f5e8e3406996b70ee14ef13e2b",
            "value": "100%"
          }
        },
        "7f46a7721b3544f9a946fc870114cf42": {
          "model_module": "@jupyter-widgets/controls",
          "model_name": "FloatProgressModel",
          "model_module_version": "1.5.0",
          "state": {
            "_dom_classes": [],
            "_model_module": "@jupyter-widgets/controls",
            "_model_module_version": "1.5.0",
            "_model_name": "FloatProgressModel",
            "_view_count": null,
            "_view_module": "@jupyter-widgets/controls",
            "_view_module_version": "1.5.0",
            "_view_name": "ProgressView",
            "bar_style": "success",
            "description": "",
            "description_tooltip": null,
            "layout": "IPY_MODEL_834de2dbb62d4d35b059f173266dea1a",
            "max": 313,
            "min": 0,
            "orientation": "horizontal",
            "style": "IPY_MODEL_de6452613fde4e1e82bc8c373aa0161d",
            "value": 313
          }
        },
        "d4b76a5cdacc44c4b4e94e491670255e": {
          "model_module": "@jupyter-widgets/controls",
          "model_name": "HTMLModel",
          "model_module_version": "1.5.0",
          "state": {
            "_dom_classes": [],
            "_model_module": "@jupyter-widgets/controls",
            "_model_module_version": "1.5.0",
            "_model_name": "HTMLModel",
            "_view_count": null,
            "_view_module": "@jupyter-widgets/controls",
            "_view_module_version": "1.5.0",
            "_view_name": "HTMLView",
            "description": "",
            "description_tooltip": null,
            "layout": "IPY_MODEL_fe74b8b2b5a84f70bcb53a9f8ab1ce93",
            "placeholder": "​",
            "style": "IPY_MODEL_a1f4cbbedb21465aadfe8058fd8603dd",
            "value": " 313/313 [00:04&lt;00:00, 69.58it/s]"
          }
        },
        "8d26180003644b96a0042cba23c0e254": {
          "model_module": "@jupyter-widgets/base",
          "model_name": "LayoutModel",
          "model_module_version": "1.2.0",
          "state": {
            "_model_module": "@jupyter-widgets/base",
            "_model_module_version": "1.2.0",
            "_model_name": "LayoutModel",
            "_view_count": null,
            "_view_module": "@jupyter-widgets/base",
            "_view_module_version": "1.2.0",
            "_view_name": "LayoutView",
            "align_content": null,
            "align_items": null,
            "align_self": null,
            "border": null,
            "bottom": null,
            "display": null,
            "flex": null,
            "flex_flow": null,
            "grid_area": null,
            "grid_auto_columns": null,
            "grid_auto_flow": null,
            "grid_auto_rows": null,
            "grid_column": null,
            "grid_gap": null,
            "grid_row": null,
            "grid_template_areas": null,
            "grid_template_columns": null,
            "grid_template_rows": null,
            "height": null,
            "justify_content": null,
            "justify_items": null,
            "left": null,
            "margin": null,
            "max_height": null,
            "max_width": null,
            "min_height": null,
            "min_width": null,
            "object_fit": null,
            "object_position": null,
            "order": null,
            "overflow": null,
            "overflow_x": null,
            "overflow_y": null,
            "padding": null,
            "right": null,
            "top": null,
            "visibility": null,
            "width": null
          }
        },
        "18d39118edcc44b3b909ff38ff66fd69": {
          "model_module": "@jupyter-widgets/base",
          "model_name": "LayoutModel",
          "model_module_version": "1.2.0",
          "state": {
            "_model_module": "@jupyter-widgets/base",
            "_model_module_version": "1.2.0",
            "_model_name": "LayoutModel",
            "_view_count": null,
            "_view_module": "@jupyter-widgets/base",
            "_view_module_version": "1.2.0",
            "_view_name": "LayoutView",
            "align_content": null,
            "align_items": null,
            "align_self": null,
            "border": null,
            "bottom": null,
            "display": null,
            "flex": null,
            "flex_flow": null,
            "grid_area": null,
            "grid_auto_columns": null,
            "grid_auto_flow": null,
            "grid_auto_rows": null,
            "grid_column": null,
            "grid_gap": null,
            "grid_row": null,
            "grid_template_areas": null,
            "grid_template_columns": null,
            "grid_template_rows": null,
            "height": null,
            "justify_content": null,
            "justify_items": null,
            "left": null,
            "margin": null,
            "max_height": null,
            "max_width": null,
            "min_height": null,
            "min_width": null,
            "object_fit": null,
            "object_position": null,
            "order": null,
            "overflow": null,
            "overflow_x": null,
            "overflow_y": null,
            "padding": null,
            "right": null,
            "top": null,
            "visibility": null,
            "width": null
          }
        },
        "7633c9f5e8e3406996b70ee14ef13e2b": {
          "model_module": "@jupyter-widgets/controls",
          "model_name": "DescriptionStyleModel",
          "model_module_version": "1.5.0",
          "state": {
            "_model_module": "@jupyter-widgets/controls",
            "_model_module_version": "1.5.0",
            "_model_name": "DescriptionStyleModel",
            "_view_count": null,
            "_view_module": "@jupyter-widgets/base",
            "_view_module_version": "1.2.0",
            "_view_name": "StyleView",
            "description_width": ""
          }
        },
        "834de2dbb62d4d35b059f173266dea1a": {
          "model_module": "@jupyter-widgets/base",
          "model_name": "LayoutModel",
          "model_module_version": "1.2.0",
          "state": {
            "_model_module": "@jupyter-widgets/base",
            "_model_module_version": "1.2.0",
            "_model_name": "LayoutModel",
            "_view_count": null,
            "_view_module": "@jupyter-widgets/base",
            "_view_module_version": "1.2.0",
            "_view_name": "LayoutView",
            "align_content": null,
            "align_items": null,
            "align_self": null,
            "border": null,
            "bottom": null,
            "display": null,
            "flex": null,
            "flex_flow": null,
            "grid_area": null,
            "grid_auto_columns": null,
            "grid_auto_flow": null,
            "grid_auto_rows": null,
            "grid_column": null,
            "grid_gap": null,
            "grid_row": null,
            "grid_template_areas": null,
            "grid_template_columns": null,
            "grid_template_rows": null,
            "height": null,
            "justify_content": null,
            "justify_items": null,
            "left": null,
            "margin": null,
            "max_height": null,
            "max_width": null,
            "min_height": null,
            "min_width": null,
            "object_fit": null,
            "object_position": null,
            "order": null,
            "overflow": null,
            "overflow_x": null,
            "overflow_y": null,
            "padding": null,
            "right": null,
            "top": null,
            "visibility": null,
            "width": null
          }
        },
        "de6452613fde4e1e82bc8c373aa0161d": {
          "model_module": "@jupyter-widgets/controls",
          "model_name": "ProgressStyleModel",
          "model_module_version": "1.5.0",
          "state": {
            "_model_module": "@jupyter-widgets/controls",
            "_model_module_version": "1.5.0",
            "_model_name": "ProgressStyleModel",
            "_view_count": null,
            "_view_module": "@jupyter-widgets/base",
            "_view_module_version": "1.2.0",
            "_view_name": "StyleView",
            "bar_color": null,
            "description_width": ""
          }
        },
        "fe74b8b2b5a84f70bcb53a9f8ab1ce93": {
          "model_module": "@jupyter-widgets/base",
          "model_name": "LayoutModel",
          "model_module_version": "1.2.0",
          "state": {
            "_model_module": "@jupyter-widgets/base",
            "_model_module_version": "1.2.0",
            "_model_name": "LayoutModel",
            "_view_count": null,
            "_view_module": "@jupyter-widgets/base",
            "_view_module_version": "1.2.0",
            "_view_name": "LayoutView",
            "align_content": null,
            "align_items": null,
            "align_self": null,
            "border": null,
            "bottom": null,
            "display": null,
            "flex": null,
            "flex_flow": null,
            "grid_area": null,
            "grid_auto_columns": null,
            "grid_auto_flow": null,
            "grid_auto_rows": null,
            "grid_column": null,
            "grid_gap": null,
            "grid_row": null,
            "grid_template_areas": null,
            "grid_template_columns": null,
            "grid_template_rows": null,
            "height": null,
            "justify_content": null,
            "justify_items": null,
            "left": null,
            "margin": null,
            "max_height": null,
            "max_width": null,
            "min_height": null,
            "min_width": null,
            "object_fit": null,
            "object_position": null,
            "order": null,
            "overflow": null,
            "overflow_x": null,
            "overflow_y": null,
            "padding": null,
            "right": null,
            "top": null,
            "visibility": null,
            "width": null
          }
        },
        "a1f4cbbedb21465aadfe8058fd8603dd": {
          "model_module": "@jupyter-widgets/controls",
          "model_name": "DescriptionStyleModel",
          "model_module_version": "1.5.0",
          "state": {
            "_model_module": "@jupyter-widgets/controls",
            "_model_module_version": "1.5.0",
            "_model_name": "DescriptionStyleModel",
            "_view_count": null,
            "_view_module": "@jupyter-widgets/base",
            "_view_module_version": "1.2.0",
            "_view_name": "StyleView",
            "description_width": ""
          }
        }
      }
    }
  },
  "cells": [
    {
      "cell_type": "code",
      "execution_count": 2,
      "metadata": {
        "colab": {
          "base_uri": "https://localhost:8080/",
          "height": 35
        },
        "id": "0uO9ALATI2-Q",
        "outputId": "55cf8f0b-d09f-4a08-f9bb-4ad4658c41ee"
      },
      "outputs": [
        {
          "output_type": "execute_result",
          "data": {
            "text/plain": [
              "'cpu'"
            ],
            "application/vnd.google.colaboratory.intrinsic+json": {
              "type": "string"
            }
          },
          "metadata": {},
          "execution_count": 2
        }
      ],
      "source": [
        "import torch\n",
        "from torchvision import datasets\n",
        "from torchvision import transforms\n",
        "\n",
        "device = \"cuda\" if torch.cuda.is_available() else \"cpu\"\n",
        "device"
      ]
    },
    {
      "cell_type": "markdown",
      "source": [
        "###**Downloading Dataset**"
      ],
      "metadata": {
        "id": "DIGgSddCNcBX"
      }
    },
    {
      "cell_type": "code",
      "source": [
        "# Get the MNIST train dataset\n",
        "train_data = datasets.MNIST(root = \".\",\n",
        "                            train = True,\n",
        "                            download = True,\n",
        "                            transform = transforms.ToTensor())\n",
        "\n",
        "test_data = datasets.MNIST(root = \".\",\n",
        "                           train = False,\n",
        "                           download = True,\n",
        "                           transform = transforms.ToTensor())"
      ],
      "metadata": {
        "id": "tvHiR1hDJIkw",
        "colab": {
          "base_uri": "https://localhost:8080/"
        },
        "outputId": "df3f5bf4-269c-4c78-aaa8-dd9a4a2a7bfe"
      },
      "execution_count": 3,
      "outputs": [
        {
          "output_type": "stream",
          "name": "stdout",
          "text": [
            "Downloading http://yann.lecun.com/exdb/mnist/train-images-idx3-ubyte.gz\n",
            "Downloading http://yann.lecun.com/exdb/mnist/train-images-idx3-ubyte.gz to ./MNIST/raw/train-images-idx3-ubyte.gz\n"
          ]
        },
        {
          "output_type": "stream",
          "name": "stderr",
          "text": [
            "100%|██████████| 9912422/9912422 [00:00<00:00, 57960429.00it/s]\n"
          ]
        },
        {
          "output_type": "stream",
          "name": "stdout",
          "text": [
            "Extracting ./MNIST/raw/train-images-idx3-ubyte.gz to ./MNIST/raw\n",
            "\n",
            "Downloading http://yann.lecun.com/exdb/mnist/train-labels-idx1-ubyte.gz\n",
            "Downloading http://yann.lecun.com/exdb/mnist/train-labels-idx1-ubyte.gz to ./MNIST/raw/train-labels-idx1-ubyte.gz\n"
          ]
        },
        {
          "output_type": "stream",
          "name": "stderr",
          "text": [
            "100%|██████████| 28881/28881 [00:00<00:00, 31349817.24it/s]\n"
          ]
        },
        {
          "output_type": "stream",
          "name": "stdout",
          "text": [
            "Extracting ./MNIST/raw/train-labels-idx1-ubyte.gz to ./MNIST/raw\n",
            "\n",
            "Downloading http://yann.lecun.com/exdb/mnist/t10k-images-idx3-ubyte.gz\n",
            "Downloading http://yann.lecun.com/exdb/mnist/t10k-images-idx3-ubyte.gz to ./MNIST/raw/t10k-images-idx3-ubyte.gz\n"
          ]
        },
        {
          "output_type": "stream",
          "name": "stderr",
          "text": [
            "100%|██████████| 1648877/1648877 [00:00<00:00, 31556645.87it/s]\n"
          ]
        },
        {
          "output_type": "stream",
          "name": "stdout",
          "text": [
            "Extracting ./MNIST/raw/t10k-images-idx3-ubyte.gz to ./MNIST/raw\n",
            "\n",
            "Downloading http://yann.lecun.com/exdb/mnist/t10k-labels-idx1-ubyte.gz\n",
            "Downloading http://yann.lecun.com/exdb/mnist/t10k-labels-idx1-ubyte.gz to ./MNIST/raw/t10k-labels-idx1-ubyte.gz\n"
          ]
        },
        {
          "output_type": "stream",
          "name": "stderr",
          "text": [
            "100%|██████████| 4542/4542 [00:00<00:00, 13294158.25it/s]\n"
          ]
        },
        {
          "output_type": "stream",
          "name": "stdout",
          "text": [
            "Extracting ./MNIST/raw/t10k-labels-idx1-ubyte.gz to ./MNIST/raw\n",
            "\n"
          ]
        }
      ]
    },
    {
      "cell_type": "code",
      "source": [
        "train_data, test_data"
      ],
      "metadata": {
        "colab": {
          "base_uri": "https://localhost:8080/"
        },
        "id": "98N1CcxOKaMg",
        "outputId": "80ac2fb2-f583-4c60-89e4-fb5efab47502"
      },
      "execution_count": 4,
      "outputs": [
        {
          "output_type": "execute_result",
          "data": {
            "text/plain": [
              "(Dataset MNIST\n",
              "     Number of datapoints: 60000\n",
              "     Root location: .\n",
              "     Split: Train\n",
              "     StandardTransform\n",
              " Transform: ToTensor(),\n",
              " Dataset MNIST\n",
              "     Number of datapoints: 10000\n",
              "     Root location: .\n",
              "     Split: Test\n",
              "     StandardTransform\n",
              " Transform: ToTensor())"
            ]
          },
          "metadata": {},
          "execution_count": 4
        }
      ]
    },
    {
      "cell_type": "code",
      "source": [
        "len(train_data), len(test_data)"
      ],
      "metadata": {
        "colab": {
          "base_uri": "https://localhost:8080/"
        },
        "id": "LHhqdnXTKyC3",
        "outputId": "4d4700bb-49e1-4525-e087-2929590108dc"
      },
      "execution_count": 5,
      "outputs": [
        {
          "output_type": "execute_result",
          "data": {
            "text/plain": [
              "(60000, 10000)"
            ]
          },
          "metadata": {},
          "execution_count": 5
        }
      ]
    },
    {
      "cell_type": "code",
      "source": [
        "# Data is in tuple form (image, label)\n",
        "img = train_data[0][0]\n",
        "label = train_data[0][1]\n",
        "print(f'Image:\\n{img}')\n",
        "print(f'Label:\\n{label}')"
      ],
      "metadata": {
        "colab": {
          "base_uri": "https://localhost:8080/"
        },
        "id": "8tRVSK1iL-9G",
        "outputId": "2bcadbd6-0025-4209-fa51-8c354d095c3e"
      },
      "execution_count": 6,
      "outputs": [
        {
          "output_type": "stream",
          "name": "stdout",
          "text": [
            "Image:\n",
            "tensor([[[0.0000, 0.0000, 0.0000, 0.0000, 0.0000, 0.0000, 0.0000, 0.0000,\n",
            "          0.0000, 0.0000, 0.0000, 0.0000, 0.0000, 0.0000, 0.0000, 0.0000,\n",
            "          0.0000, 0.0000, 0.0000, 0.0000, 0.0000, 0.0000, 0.0000, 0.0000,\n",
            "          0.0000, 0.0000, 0.0000, 0.0000],\n",
            "         [0.0000, 0.0000, 0.0000, 0.0000, 0.0000, 0.0000, 0.0000, 0.0000,\n",
            "          0.0000, 0.0000, 0.0000, 0.0000, 0.0000, 0.0000, 0.0000, 0.0000,\n",
            "          0.0000, 0.0000, 0.0000, 0.0000, 0.0000, 0.0000, 0.0000, 0.0000,\n",
            "          0.0000, 0.0000, 0.0000, 0.0000],\n",
            "         [0.0000, 0.0000, 0.0000, 0.0000, 0.0000, 0.0000, 0.0000, 0.0000,\n",
            "          0.0000, 0.0000, 0.0000, 0.0000, 0.0000, 0.0000, 0.0000, 0.0000,\n",
            "          0.0000, 0.0000, 0.0000, 0.0000, 0.0000, 0.0000, 0.0000, 0.0000,\n",
            "          0.0000, 0.0000, 0.0000, 0.0000],\n",
            "         [0.0000, 0.0000, 0.0000, 0.0000, 0.0000, 0.0000, 0.0000, 0.0000,\n",
            "          0.0000, 0.0000, 0.0000, 0.0000, 0.0000, 0.0000, 0.0000, 0.0000,\n",
            "          0.0000, 0.0000, 0.0000, 0.0000, 0.0000, 0.0000, 0.0000, 0.0000,\n",
            "          0.0000, 0.0000, 0.0000, 0.0000],\n",
            "         [0.0000, 0.0000, 0.0000, 0.0000, 0.0000, 0.0000, 0.0000, 0.0000,\n",
            "          0.0000, 0.0000, 0.0000, 0.0000, 0.0000, 0.0000, 0.0000, 0.0000,\n",
            "          0.0000, 0.0000, 0.0000, 0.0000, 0.0000, 0.0000, 0.0000, 0.0000,\n",
            "          0.0000, 0.0000, 0.0000, 0.0000],\n",
            "         [0.0000, 0.0000, 0.0000, 0.0000, 0.0000, 0.0000, 0.0000, 0.0000,\n",
            "          0.0000, 0.0000, 0.0000, 0.0000, 0.0118, 0.0706, 0.0706, 0.0706,\n",
            "          0.4941, 0.5333, 0.6863, 0.1020, 0.6510, 1.0000, 0.9686, 0.4980,\n",
            "          0.0000, 0.0000, 0.0000, 0.0000],\n",
            "         [0.0000, 0.0000, 0.0000, 0.0000, 0.0000, 0.0000, 0.0000, 0.0000,\n",
            "          0.1176, 0.1412, 0.3686, 0.6039, 0.6667, 0.9922, 0.9922, 0.9922,\n",
            "          0.9922, 0.9922, 0.8824, 0.6745, 0.9922, 0.9490, 0.7647, 0.2510,\n",
            "          0.0000, 0.0000, 0.0000, 0.0000],\n",
            "         [0.0000, 0.0000, 0.0000, 0.0000, 0.0000, 0.0000, 0.0000, 0.1922,\n",
            "          0.9333, 0.9922, 0.9922, 0.9922, 0.9922, 0.9922, 0.9922, 0.9922,\n",
            "          0.9922, 0.9843, 0.3647, 0.3216, 0.3216, 0.2196, 0.1529, 0.0000,\n",
            "          0.0000, 0.0000, 0.0000, 0.0000],\n",
            "         [0.0000, 0.0000, 0.0000, 0.0000, 0.0000, 0.0000, 0.0000, 0.0706,\n",
            "          0.8588, 0.9922, 0.9922, 0.9922, 0.9922, 0.9922, 0.7765, 0.7137,\n",
            "          0.9686, 0.9451, 0.0000, 0.0000, 0.0000, 0.0000, 0.0000, 0.0000,\n",
            "          0.0000, 0.0000, 0.0000, 0.0000],\n",
            "         [0.0000, 0.0000, 0.0000, 0.0000, 0.0000, 0.0000, 0.0000, 0.0000,\n",
            "          0.3137, 0.6118, 0.4196, 0.9922, 0.9922, 0.8039, 0.0431, 0.0000,\n",
            "          0.1686, 0.6039, 0.0000, 0.0000, 0.0000, 0.0000, 0.0000, 0.0000,\n",
            "          0.0000, 0.0000, 0.0000, 0.0000],\n",
            "         [0.0000, 0.0000, 0.0000, 0.0000, 0.0000, 0.0000, 0.0000, 0.0000,\n",
            "          0.0000, 0.0549, 0.0039, 0.6039, 0.9922, 0.3529, 0.0000, 0.0000,\n",
            "          0.0000, 0.0000, 0.0000, 0.0000, 0.0000, 0.0000, 0.0000, 0.0000,\n",
            "          0.0000, 0.0000, 0.0000, 0.0000],\n",
            "         [0.0000, 0.0000, 0.0000, 0.0000, 0.0000, 0.0000, 0.0000, 0.0000,\n",
            "          0.0000, 0.0000, 0.0000, 0.5451, 0.9922, 0.7451, 0.0078, 0.0000,\n",
            "          0.0000, 0.0000, 0.0000, 0.0000, 0.0000, 0.0000, 0.0000, 0.0000,\n",
            "          0.0000, 0.0000, 0.0000, 0.0000],\n",
            "         [0.0000, 0.0000, 0.0000, 0.0000, 0.0000, 0.0000, 0.0000, 0.0000,\n",
            "          0.0000, 0.0000, 0.0000, 0.0431, 0.7451, 0.9922, 0.2745, 0.0000,\n",
            "          0.0000, 0.0000, 0.0000, 0.0000, 0.0000, 0.0000, 0.0000, 0.0000,\n",
            "          0.0000, 0.0000, 0.0000, 0.0000],\n",
            "         [0.0000, 0.0000, 0.0000, 0.0000, 0.0000, 0.0000, 0.0000, 0.0000,\n",
            "          0.0000, 0.0000, 0.0000, 0.0000, 0.1373, 0.9451, 0.8824, 0.6275,\n",
            "          0.4235, 0.0039, 0.0000, 0.0000, 0.0000, 0.0000, 0.0000, 0.0000,\n",
            "          0.0000, 0.0000, 0.0000, 0.0000],\n",
            "         [0.0000, 0.0000, 0.0000, 0.0000, 0.0000, 0.0000, 0.0000, 0.0000,\n",
            "          0.0000, 0.0000, 0.0000, 0.0000, 0.0000, 0.3176, 0.9412, 0.9922,\n",
            "          0.9922, 0.4667, 0.0980, 0.0000, 0.0000, 0.0000, 0.0000, 0.0000,\n",
            "          0.0000, 0.0000, 0.0000, 0.0000],\n",
            "         [0.0000, 0.0000, 0.0000, 0.0000, 0.0000, 0.0000, 0.0000, 0.0000,\n",
            "          0.0000, 0.0000, 0.0000, 0.0000, 0.0000, 0.0000, 0.1765, 0.7294,\n",
            "          0.9922, 0.9922, 0.5882, 0.1059, 0.0000, 0.0000, 0.0000, 0.0000,\n",
            "          0.0000, 0.0000, 0.0000, 0.0000],\n",
            "         [0.0000, 0.0000, 0.0000, 0.0000, 0.0000, 0.0000, 0.0000, 0.0000,\n",
            "          0.0000, 0.0000, 0.0000, 0.0000, 0.0000, 0.0000, 0.0000, 0.0627,\n",
            "          0.3647, 0.9882, 0.9922, 0.7333, 0.0000, 0.0000, 0.0000, 0.0000,\n",
            "          0.0000, 0.0000, 0.0000, 0.0000],\n",
            "         [0.0000, 0.0000, 0.0000, 0.0000, 0.0000, 0.0000, 0.0000, 0.0000,\n",
            "          0.0000, 0.0000, 0.0000, 0.0000, 0.0000, 0.0000, 0.0000, 0.0000,\n",
            "          0.0000, 0.9765, 0.9922, 0.9765, 0.2510, 0.0000, 0.0000, 0.0000,\n",
            "          0.0000, 0.0000, 0.0000, 0.0000],\n",
            "         [0.0000, 0.0000, 0.0000, 0.0000, 0.0000, 0.0000, 0.0000, 0.0000,\n",
            "          0.0000, 0.0000, 0.0000, 0.0000, 0.0000, 0.0000, 0.1804, 0.5098,\n",
            "          0.7176, 0.9922, 0.9922, 0.8118, 0.0078, 0.0000, 0.0000, 0.0000,\n",
            "          0.0000, 0.0000, 0.0000, 0.0000],\n",
            "         [0.0000, 0.0000, 0.0000, 0.0000, 0.0000, 0.0000, 0.0000, 0.0000,\n",
            "          0.0000, 0.0000, 0.0000, 0.0000, 0.1529, 0.5804, 0.8980, 0.9922,\n",
            "          0.9922, 0.9922, 0.9804, 0.7137, 0.0000, 0.0000, 0.0000, 0.0000,\n",
            "          0.0000, 0.0000, 0.0000, 0.0000],\n",
            "         [0.0000, 0.0000, 0.0000, 0.0000, 0.0000, 0.0000, 0.0000, 0.0000,\n",
            "          0.0000, 0.0000, 0.0941, 0.4471, 0.8667, 0.9922, 0.9922, 0.9922,\n",
            "          0.9922, 0.7882, 0.3059, 0.0000, 0.0000, 0.0000, 0.0000, 0.0000,\n",
            "          0.0000, 0.0000, 0.0000, 0.0000],\n",
            "         [0.0000, 0.0000, 0.0000, 0.0000, 0.0000, 0.0000, 0.0000, 0.0000,\n",
            "          0.0902, 0.2588, 0.8353, 0.9922, 0.9922, 0.9922, 0.9922, 0.7765,\n",
            "          0.3176, 0.0078, 0.0000, 0.0000, 0.0000, 0.0000, 0.0000, 0.0000,\n",
            "          0.0000, 0.0000, 0.0000, 0.0000],\n",
            "         [0.0000, 0.0000, 0.0000, 0.0000, 0.0000, 0.0000, 0.0706, 0.6706,\n",
            "          0.8588, 0.9922, 0.9922, 0.9922, 0.9922, 0.7647, 0.3137, 0.0353,\n",
            "          0.0000, 0.0000, 0.0000, 0.0000, 0.0000, 0.0000, 0.0000, 0.0000,\n",
            "          0.0000, 0.0000, 0.0000, 0.0000],\n",
            "         [0.0000, 0.0000, 0.0000, 0.0000, 0.2157, 0.6745, 0.8863, 0.9922,\n",
            "          0.9922, 0.9922, 0.9922, 0.9569, 0.5216, 0.0431, 0.0000, 0.0000,\n",
            "          0.0000, 0.0000, 0.0000, 0.0000, 0.0000, 0.0000, 0.0000, 0.0000,\n",
            "          0.0000, 0.0000, 0.0000, 0.0000],\n",
            "         [0.0000, 0.0000, 0.0000, 0.0000, 0.5333, 0.9922, 0.9922, 0.9922,\n",
            "          0.8314, 0.5294, 0.5176, 0.0627, 0.0000, 0.0000, 0.0000, 0.0000,\n",
            "          0.0000, 0.0000, 0.0000, 0.0000, 0.0000, 0.0000, 0.0000, 0.0000,\n",
            "          0.0000, 0.0000, 0.0000, 0.0000],\n",
            "         [0.0000, 0.0000, 0.0000, 0.0000, 0.0000, 0.0000, 0.0000, 0.0000,\n",
            "          0.0000, 0.0000, 0.0000, 0.0000, 0.0000, 0.0000, 0.0000, 0.0000,\n",
            "          0.0000, 0.0000, 0.0000, 0.0000, 0.0000, 0.0000, 0.0000, 0.0000,\n",
            "          0.0000, 0.0000, 0.0000, 0.0000],\n",
            "         [0.0000, 0.0000, 0.0000, 0.0000, 0.0000, 0.0000, 0.0000, 0.0000,\n",
            "          0.0000, 0.0000, 0.0000, 0.0000, 0.0000, 0.0000, 0.0000, 0.0000,\n",
            "          0.0000, 0.0000, 0.0000, 0.0000, 0.0000, 0.0000, 0.0000, 0.0000,\n",
            "          0.0000, 0.0000, 0.0000, 0.0000],\n",
            "         [0.0000, 0.0000, 0.0000, 0.0000, 0.0000, 0.0000, 0.0000, 0.0000,\n",
            "          0.0000, 0.0000, 0.0000, 0.0000, 0.0000, 0.0000, 0.0000, 0.0000,\n",
            "          0.0000, 0.0000, 0.0000, 0.0000, 0.0000, 0.0000, 0.0000, 0.0000,\n",
            "          0.0000, 0.0000, 0.0000, 0.0000]]])\n",
            "Label:\n",
            "5\n"
          ]
        }
      ]
    },
    {
      "cell_type": "code",
      "source": [
        "# Check out the shapes of our data\n",
        "print(f'Image Shape: {img.shape} -> [color_channels, height, width]')\n",
        "print(f'Label: {label}')"
      ],
      "metadata": {
        "colab": {
          "base_uri": "https://localhost:8080/"
        },
        "id": "92F2928PMR8d",
        "outputId": "3afc8e90-0a32-48e7-d5dd-20a12ed75dca"
      },
      "execution_count": 7,
      "outputs": [
        {
          "output_type": "stream",
          "name": "stdout",
          "text": [
            "Image Shape: torch.Size([1, 28, 28]) -> [color_channels, height, width]\n",
            "Label: 5\n"
          ]
        }
      ]
    },
    {
      "cell_type": "code",
      "source": [
        "# Get the class names from the dataset\n",
        "class_names = train_data.classes\n",
        "class_names"
      ],
      "metadata": {
        "colab": {
          "base_uri": "https://localhost:8080/"
        },
        "id": "Z1UNPtHaMt5m",
        "outputId": "d7f314bf-7920-48b2-e9eb-379a2df604b9"
      },
      "execution_count": 8,
      "outputs": [
        {
          "output_type": "execute_result",
          "data": {
            "text/plain": [
              "['0 - zero',\n",
              " '1 - one',\n",
              " '2 - two',\n",
              " '3 - three',\n",
              " '4 - four',\n",
              " '5 - five',\n",
              " '6 - six',\n",
              " '7 - seven',\n",
              " '8 - eight',\n",
              " '9 - nine']"
            ]
          },
          "metadata": {},
          "execution_count": 8
        }
      ]
    },
    {
      "cell_type": "markdown",
      "source": [
        "###**Visualize different samples of the MNIST training dataset.**"
      ],
      "metadata": {
        "id": "WDiTshhQNeX-"
      }
    },
    {
      "cell_type": "code",
      "source": [
        "import matplotlib.pyplot as plt\n",
        "\n",
        "num_images = 6\n",
        "num_cols = 3\n",
        "num_rows = (num_images + num_cols - 1) // num_cols  # Calculate number of rows needed\n",
        "\n",
        "plt.figure(figsize=(8, 8))\n",
        "\n",
        "for i in range(num_images):\n",
        "    img = train_data[i][0]\n",
        "    img_squeeze = img.squeeze()\n",
        "    label = train_data[i][1]\n",
        "\n",
        "    # Create individual subplot for each image\n",
        "    plt.subplot(num_rows, num_cols, i+1)\n",
        "    plt.imshow(img_squeeze, cmap='gray')\n",
        "    plt.title(label)\n",
        "    plt.axis(False)\n",
        "\n",
        "plt.tight_layout()\n",
        "plt.show()"
      ],
      "metadata": {
        "colab": {
          "base_uri": "https://localhost:8080/",
          "height": 660
        },
        "id": "UNJ6CJSxN5QO",
        "outputId": "7cc56e5b-4b6a-406b-849a-39e54888132f"
      },
      "execution_count": 9,
      "outputs": [
        {
          "output_type": "display_data",
          "data": {
            "text/plain": [
              "<Figure size 800x800 with 6 Axes>"
            ],
            "image/png": "[encoded data removed]"
          },
          "metadata": {}
        }
      ]
    },
    {
      "cell_type": "markdown",
      "source": [
        "###**Turn the MNIST train and test datasets into dataloaders using torch.utils.data.DataLoader, set the batch_size=32.**"
      ],
      "metadata": {
        "id": "gp0INr1kPbnX"
      }
    },
    {
      "cell_type": "code",
      "source": [
        "from torch.utils.data import DataLoader\n",
        "\n",
        "train_dataloader = DataLoader(dataset = train_data,\n",
        "                              batch_size = 32,\n",
        "                              shuffle = True)\n",
        "\n",
        "test_dataloader = DataLoader(dataset = test_data,\n",
        "                             batch_size = 32,\n",
        "                             shuffle = False)"
      ],
      "metadata": {
        "id": "P_u4VNBTOHxm"
      },
      "execution_count": 10,
      "outputs": []
    },
    {
      "cell_type": "code",
      "source": [
        "train_dataloader, test_dataloader"
      ],
      "metadata": {
        "colab": {
          "base_uri": "https://localhost:8080/"
        },
        "id": "FA8dFuHdPs5m",
        "outputId": "fca3c293-7b16-4666-98b4-3e4a5ed804a9"
      },
      "execution_count": 11,
      "outputs": [
        {
          "output_type": "execute_result",
          "data": {
            "text/plain": [
              "(<torch.utils.data.dataloader.DataLoader at 0x7905847cb3d0>,\n",
              " <torch.utils.data.dataloader.DataLoader at 0x7905847cb3a0>)"
            ]
          },
          "metadata": {},
          "execution_count": 11
        }
      ]
    },
    {
      "cell_type": "code",
      "source": [
        "for sample in next(iter(train_dataloader)):\n",
        "  print(sample.shape)"
      ],
      "metadata": {
        "colab": {
          "base_uri": "https://localhost:8080/"
        },
        "id": "aFjcmZNJPvHm",
        "outputId": "f6270418-7bc4-4747-ffb5-db13fa71306d"
      },
      "execution_count": 12,
      "outputs": [
        {
          "output_type": "stream",
          "name": "stdout",
          "text": [
            "torch.Size([32, 1, 28, 28])\n",
            "torch.Size([32])\n"
          ]
        }
      ]
    },
    {
      "cell_type": "code",
      "source": [
        "len(train_dataloader), len(test_dataloader)"
      ],
      "metadata": {
        "colab": {
          "base_uri": "https://localhost:8080/"
        },
        "id": "86PTEwXhP3s2",
        "outputId": "ba9559b5-1068-4dd8-a938-948615bdda87"
      },
      "execution_count": 13,
      "outputs": [
        {
          "output_type": "execute_result",
          "data": {
            "text/plain": [
              "(1875, 313)"
            ]
          },
          "metadata": {},
          "execution_count": 13
        }
      ]
    },
    {
      "cell_type": "markdown",
      "source": [
        "##**Model Building**"
      ],
      "metadata": {
        "id": "913Vn6lSP90W"
      }
    },
    {
      "cell_type": "code",
      "source": [
        "from torch import nn\n",
        "\n",
        "class ModelV1(nn.Module):\n",
        "  def __init__(self, input_shape: int, hidden_unit: int, output_shape: int):\n",
        "    super().__init__()\n",
        "    self.conv_block_1 = nn.Sequential(\n",
        "        nn.Conv2d(in_channels = input_shape,\n",
        "                  out_channels = hidden_unit,\n",
        "                  kernel_size = 3,\n",
        "                  stride = 1,\n",
        "                  padding = 1),\n",
        "        nn.ReLU(),\n",
        "        nn.Conv2d(in_channels = hidden_unit,\n",
        "                  out_channels = hidden_unit,\n",
        "                  kernel_size = 3,\n",
        "                  stride = 1,\n",
        "                  padding = 1),\n",
        "        nn.ReLU(),\n",
        "        nn.MaxPool2d(kernel_size = 2)\n",
        "    )\n",
        "    self.conv_block_2 = nn.Sequential(\n",
        "        nn.Conv2d(in_channels = hidden_unit,\n",
        "                  out_channels = hidden_unit,\n",
        "                  kernel_size = 3,\n",
        "                  stride = 1,\n",
        "                  padding = 1),\n",
        "        nn.ReLU(),\n",
        "        nn.Conv2d(in_channels = hidden_unit,\n",
        "                  out_channels = hidden_unit,\n",
        "                  kernel_size = 3,\n",
        "                  stride = 1,\n",
        "                  padding = 1),\n",
        "        nn.ReLU(),\n",
        "        nn.MaxPool2d(kernel_size = 2)\n",
        "    )\n",
        "    self.classifier = nn.Sequential(\n",
        "        nn.Flatten(),\n",
        "        nn.Linear(in_features = hidden_unit * 7 * 7,\n",
        "                  out_features = output_shape)\n",
        "    )\n",
        "\n",
        "  def forward(self, x):\n",
        "    x = self.conv_block_1(x)\n",
        "    x = self.conv_block_2(x)\n",
        "    x = self.classifier(x)\n",
        "    return x"
      ],
      "metadata": {
        "id": "i_Xox_fvP8RN"
      },
      "execution_count": 14,
      "outputs": []
    },
    {
      "cell_type": "code",
      "source": [
        "model_1 = ModelV1(input_shape=1,\n",
        "                  hidden_unit=10,\n",
        "                  output_shape = 10).to(device)"
      ],
      "metadata": {
        "id": "ewxpkFAdhGkv"
      },
      "execution_count": 15,
      "outputs": []
    },
    {
      "cell_type": "code",
      "source": [
        "model_1"
      ],
      "metadata": {
        "colab": {
          "base_uri": "https://localhost:8080/"
        },
        "id": "_4SeOQdMhReH",
        "outputId": "30f4f47a-b271-4eda-a497-e52aab5b1f5b"
      },
      "execution_count": 16,
      "outputs": [
        {
          "output_type": "execute_result",
          "data": {
            "text/plain": [
              "ModelV1(\n",
              "  (conv_block_1): Sequential(\n",
              "    (0): Conv2d(1, 10, kernel_size=(3, 3), stride=(1, 1), padding=(1, 1))\n",
              "    (1): ReLU()\n",
              "    (2): Conv2d(10, 10, kernel_size=(3, 3), stride=(1, 1), padding=(1, 1))\n",
              "    (3): ReLU()\n",
              "    (4): MaxPool2d(kernel_size=2, stride=2, padding=0, dilation=1, ceil_mode=False)\n",
              "  )\n",
              "  (conv_block_2): Sequential(\n",
              "    (0): Conv2d(10, 10, kernel_size=(3, 3), stride=(1, 1), padding=(1, 1))\n",
              "    (1): ReLU()\n",
              "    (2): Conv2d(10, 10, kernel_size=(3, 3), stride=(1, 1), padding=(1, 1))\n",
              "    (3): ReLU()\n",
              "    (4): MaxPool2d(kernel_size=2, stride=2, padding=0, dilation=1, ceil_mode=False)\n",
              "  )\n",
              "  (classifier): Sequential(\n",
              "    (0): Flatten(start_dim=1, end_dim=-1)\n",
              "    (1): Linear(in_features=490, out_features=10, bias=True)\n",
              "  )\n",
              ")"
            ]
          },
          "metadata": {},
          "execution_count": 16
        }
      ]
    },
    {
      "cell_type": "code",
      "source": [
        "model_1.state_dict()"
      ],
      "metadata": {
        "colab": {
          "base_uri": "https://localhost:8080/"
        },
        "id": "p6j678uNhS6O",
        "outputId": "d41c4901-7a91-4482-b0f8-018dfa80864e"
      },
      "execution_count": 17,
      "outputs": [
        {
          "output_type": "execute_result",
          "data": {
            "text/plain": [
              "OrderedDict([('conv_block_1.0.weight',\n",
              "              tensor([[[[-0.0896, -0.0167, -0.2194],\n",
              "                        [-0.0523,  0.2541,  0.0084],\n",
              "                        [ 0.0280, -0.1814,  0.1315]]],\n",
              "              \n",
              "              \n",
              "                      [[[ 0.0459,  0.1865,  0.0919],\n",
              "                        [-0.3200,  0.1714, -0.1741],\n",
              "                        [ 0.1696,  0.1979, -0.3270]]],\n",
              "              \n",
              "              \n",
              "                      [[[ 0.0534, -0.1346,  0.1812],\n",
              "                        [-0.2806,  0.0333,  0.3218],\n",
              "                        [-0.1394,  0.1925,  0.2643]]],\n",
              "              \n",
              "              \n",
              "                      [[[-0.1801,  0.0438, -0.0672],\n",
              "                        [-0.1031, -0.2092,  0.2534],\n",
              "                        [ 0.1913, -0.2010,  0.0583]]],\n",
              "              \n",
              "              \n",
              "                      [[[-0.0803, -0.1428,  0.3118],\n",
              "                        [-0.0973, -0.2937,  0.0880],\n",
              "                        [ 0.2583,  0.0252, -0.1206]]],\n",
              "              \n",
              "              \n",
              "                      [[[-0.3246,  0.0635,  0.1757],\n",
              "                        [-0.0749,  0.0342,  0.1152],\n",
              "                        [ 0.2495,  0.1425,  0.2919]]],\n",
              "              \n",
              "              \n",
              "                      [[[ 0.1947, -0.1798,  0.0664],\n",
              "                        [-0.3118, -0.0087, -0.2088],\n",
              "                        [ 0.2486,  0.1731, -0.0532]]],\n",
              "              \n",
              "              \n",
              "                      [[[ 0.2938, -0.1140,  0.1919],\n",
              "                        [-0.2444, -0.0381, -0.2187],\n",
              "                        [-0.1501,  0.1082, -0.3076]]],\n",
              "              \n",
              "              \n",
              "                      [[[ 0.0148, -0.2065,  0.2581],\n",
              "                        [-0.2048, -0.0194,  0.0265],\n",
              "                        [ 0.1175, -0.2673,  0.1716]]],\n",
              "              \n",
              "              \n",
              "                      [[[ 0.1235, -0.1075,  0.0436],\n",
              "                        [ 0.0897,  0.3318, -0.0921],\n",
              "                        [ 0.1110, -0.2112, -0.0995]]]])),\n",
              "             ('conv_block_1.0.bias',\n",
              "              tensor([-0.3059, -0.3298, -0.2753, -0.0730, -0.0844, -0.1314,  0.3272, -0.1358,\n",
              "                       0.3193,  0.3011])),\n",
              "             ('conv_block_1.2.weight',\n",
              "              tensor([[[[-6.5110e-02, -2.3475e-02,  1.7705e-02],\n",
              "                        [-6.4164e-02, -7.8674e-02,  8.4502e-02],\n",
              "                        [-2.5247e-02,  7.0293e-02, -6.6051e-02]],\n",
              "              \n",
              "                       [[ 8.5858e-02, -5.3595e-02, -6.0064e-02],\n",
              "                        [-7.0883e-02,  2.5137e-02,  2.0754e-02],\n",
              "                        [-6.9010e-02,  9.7211e-02,  2.5341e-02]],\n",
              "              \n",
              "                       [[ 1.0160e-01,  6.5284e-02,  3.8996e-02],\n",
              "                        [-6.6119e-02,  4.1855e-02,  6.8807e-02],\n",
              "                        [ 8.5174e-02, -9.2935e-02,  1.3571e-02]],\n",
              "              \n",
              "                       [[-5.2979e-02,  4.1394e-02,  6.8656e-02],\n",
              "                        [ 9.5030e-02,  2.3020e-02,  7.3413e-02],\n",
              "                        [ 4.1024e-02, -9.9988e-02,  1.6516e-02]],\n",
              "              \n",
              "                       [[ 1.6649e-02,  4.0790e-02,  3.1075e-02],\n",
              "                        [-1.0149e-01, -6.4105e-02, -4.1466e-02],\n",
              "                        [-1.0466e-01,  1.6131e-02, -5.0509e-02]],\n",
              "              \n",
              "                       [[ 7.0240e-03, -3.7431e-02, -1.0222e-01],\n",
              "                        [-8.6029e-02,  1.9643e-02,  3.0726e-03],\n",
              "                        [ 6.6255e-02,  8.7593e-02,  4.5193e-02]],\n",
              "              \n",
              "                       [[ 3.2219e-02, -1.2921e-02, -3.2951e-02],\n",
              "                        [ 6.4628e-02, -7.0113e-02,  1.0189e-01],\n",
              "                        [-2.5549e-02,  9.5504e-02,  1.0468e-02]],\n",
              "              \n",
              "                       [[-9.9610e-03,  8.0489e-02, -2.1478e-02],\n",
              "                        [-2.4984e-02, -7.7094e-02,  8.9106e-03],\n",
              "                        [ 6.3448e-02, -3.8139e-02,  2.0916e-02]],\n",
              "              \n",
              "                       [[-9.8585e-02, -2.7434e-02, -3.1091e-02],\n",
              "                        [ 5.5623e-03,  8.5378e-02,  8.9425e-02],\n",
              "                        [ 1.9186e-02, -9.4664e-02, -2.5850e-02]],\n",
              "              \n",
              "                       [[-6.5363e-02, -7.1730e-02,  1.6009e-02],\n",
              "                        [ 1.7330e-02, -8.7831e-02, -4.3082e-02],\n",
              "                        [ 7.3286e-02, -5.1092e-02,  1.0527e-01]]],\n",
              "              \n",
              "              \n",
              "                      [[[-6.8332e-02,  6.5248e-02, -7.2702e-02],\n",
              "                        [ 2.9481e-02, -2.6730e-02,  7.1018e-02],\n",
              "                        [-4.7266e-03,  3.0241e-02, -1.0088e-01]],\n",
              "              \n",
              "                       [[ 6.7005e-02, -6.7707e-02, -9.6766e-02],\n",
              "                        [-1.3318e-02, -8.7206e-02, -7.7055e-02],\n",
              "                        [-4.4840e-02, -4.8387e-02, -5.0746e-02]],\n",
              "              \n",
              "                       [[-1.0088e-01, -3.0911e-02, -2.3883e-02],\n",
              "                        [-9.9178e-02,  6.8977e-02,  6.6825e-03],\n",
              "                        [-2.4001e-02, -2.7890e-02, -1.6913e-02]],\n",
              "              \n",
              "                       [[ 4.4627e-02, -4.4055e-02, -4.4903e-02],\n",
              "                        [-1.0408e-01, -5.4097e-02,  3.1657e-02],\n",
              "                        [ 8.4021e-02, -4.2746e-02,  1.7325e-02]],\n",
              "              \n",
              "                       [[-9.9078e-02, -2.0479e-02,  7.6842e-02],\n",
              "                        [ 7.5937e-02, -8.2026e-02, -3.9378e-02],\n",
              "                        [ 2.6505e-02,  6.5999e-02, -2.4040e-02]],\n",
              "              \n",
              "                       [[ 3.0077e-02,  9.5881e-02,  1.0631e-05],\n",
              "                        [ 7.5112e-02,  4.3612e-02, -4.5390e-02],\n",
              "                        [ 5.9088e-03, -8.4159e-02,  3.2448e-03]],\n",
              "              \n",
              "                       [[-5.4809e-02,  7.4198e-02,  2.8550e-02],\n",
              "                        [ 3.8578e-02,  1.8169e-02, -6.5851e-02],\n",
              "                        [-8.9366e-02,  4.0802e-02, -2.7395e-02]],\n",
              "              \n",
              "                       [[-4.8037e-02,  7.6269e-02, -2.0476e-02],\n",
              "                        [ 3.6457e-02, -8.2742e-02, -7.0922e-02],\n",
              "                        [-3.4187e-02,  8.4069e-02, -9.7268e-02]],\n",
              "              \n",
              "                       [[ 1.7343e-02, -3.7002e-02, -8.6354e-02],\n",
              "                        [-6.6537e-02,  5.4886e-02,  1.2024e-02],\n",
              "                        [ 3.1662e-02, -1.9854e-02, -8.7940e-02]],\n",
              "              \n",
              "                       [[ 4.7513e-02, -1.1726e-02,  1.0141e-01],\n",
              "                        [ 3.1353e-02, -5.3895e-02,  4.6194e-04],\n",
              "                        [ 3.7827e-02, -1.5068e-02,  1.9491e-02]]],\n",
              "              \n",
              "              \n",
              "                      [[[-1.6069e-03, -2.6247e-02,  4.6490e-02],\n",
              "                        [-3.3040e-02, -2.2305e-02,  7.2217e-02],\n",
              "                        [ 5.2630e-02, -7.5578e-02,  1.0024e-01]],\n",
              "              \n",
              "                       [[ 7.3446e-02, -6.0547e-02,  1.1577e-02],\n",
              "                        [-2.3384e-02, -8.5461e-02,  6.9322e-02],\n",
              "                        [-5.4333e-02,  2.9155e-02,  3.3471e-02]],\n",
              "              \n",
              "                       [[ 9.0096e-02,  2.2538e-02,  4.0254e-02],\n",
              "                        [ 2.1838e-02,  7.0517e-02, -9.2059e-02],\n",
              "                        [ 6.7583e-03,  9.9349e-02,  5.6883e-02]],\n",
              "              \n",
              "                       [[-3.5147e-02, -4.7864e-02,  9.5876e-02],\n",
              "                        [-7.2334e-02, -3.3051e-02,  7.3146e-02],\n",
              "                        [ 6.0388e-02, -9.1955e-02,  8.3021e-02]],\n",
              "              \n",
              "                       [[-4.1493e-02,  7.7635e-02,  1.0358e-01],\n",
              "                        [ 8.5459e-02,  7.7060e-02,  4.7997e-02],\n",
              "                        [ 3.2484e-03, -9.5029e-03, -9.1467e-02]],\n",
              "              \n",
              "                       [[-1.7677e-02,  5.8597e-02, -5.4088e-02],\n",
              "                        [ 3.5690e-02, -4.8986e-02,  6.3622e-03],\n",
              "                        [ 4.2982e-02, -9.1747e-02,  5.4840e-02]],\n",
              "              \n",
              "                       [[-1.1621e-02,  7.8021e-03, -5.9964e-03],\n",
              "                        [-3.5198e-02, -8.7648e-02, -1.3734e-02],\n",
              "                        [-3.3667e-03, -1.5497e-02,  4.1327e-03]],\n",
              "              \n",
              "                       [[ 8.4638e-02,  1.0537e-01,  5.5108e-02],\n",
              "                        [ 7.6775e-02,  7.4428e-02, -7.9781e-02],\n",
              "                        [-4.8024e-02, -6.7367e-02,  2.4775e-03]],\n",
              "              \n",
              "                       [[-4.1997e-02, -6.4915e-02,  8.2463e-02],\n",
              "                        [ 8.6101e-02,  1.0316e-02,  5.1592e-02],\n",
              "                        [ 1.0350e-01, -8.8596e-02,  3.0189e-03]],\n",
              "              \n",
              "                       [[ 2.0379e-02,  5.4533e-02,  8.9854e-02],\n",
              "                        [ 6.0166e-02, -5.1638e-02,  5.3549e-02],\n",
              "                        [-8.0520e-02, -7.8801e-02,  3.6316e-02]]],\n",
              "              \n",
              "              \n",
              "                      [[[ 1.7594e-02, -1.7511e-03,  8.8412e-02],\n",
              "                        [-9.8851e-03, -5.2352e-02, -7.8746e-04],\n",
              "                        [ 7.4656e-02, -7.9259e-02,  9.8342e-02]],\n",
              "              \n",
              "                       [[ 5.4475e-02, -3.8203e-02,  4.5187e-02],\n",
              "                        [ 3.1442e-02, -7.7480e-02, -1.4345e-02],\n",
              "                        [-2.2813e-02, -2.8120e-03, -4.4508e-02]],\n",
              "              \n",
              "                       [[-3.9712e-02, -3.9275e-02,  7.7639e-02],\n",
              "                        [ 3.3320e-02,  6.4343e-02,  7.8348e-02],\n",
              "                        [ 1.0503e-01, -6.4766e-03,  9.6475e-02]],\n",
              "              \n",
              "                       [[-6.1718e-02, -5.1374e-02, -4.5181e-02],\n",
              "                        [-1.8539e-02, -5.9969e-02, -5.1087e-02],\n",
              "                        [ 6.1067e-02, -1.2033e-02,  4.7829e-03]],\n",
              "              \n",
              "                       [[ 3.4968e-02, -6.4301e-02, -1.6366e-02],\n",
              "                        [ 2.9871e-02,  5.9027e-02, -2.9863e-02],\n",
              "                        [-6.7348e-02,  8.8160e-02, -4.8218e-02]],\n",
              "              \n",
              "                       [[ 4.1807e-02, -8.2780e-02,  6.3842e-02],\n",
              "                        [ 7.3736e-02,  6.5606e-02,  6.2846e-02],\n",
              "                        [-8.7710e-02,  2.1288e-02, -1.8009e-02]],\n",
              "              \n",
              "                       [[ 2.8426e-02, -1.9773e-02, -2.8175e-02],\n",
              "                        [ 9.5483e-02,  4.9823e-03,  6.2929e-03],\n",
              "                        [-1.3360e-02, -7.1758e-02,  5.1707e-02]],\n",
              "              \n",
              "                       [[-6.3899e-02, -1.3688e-03,  1.0061e-01],\n",
              "                        [-7.1336e-02, -7.1500e-02,  1.1574e-02],\n",
              "                        [ 9.5816e-02, -2.1467e-02,  6.7552e-02]],\n",
              "              \n",
              "                       [[ 8.1081e-03,  4.0176e-02, -6.7189e-02],\n",
              "                        [ 6.3550e-02, -3.5992e-02,  5.1622e-02],\n",
              "                        [-9.8573e-02, -9.0555e-02, -6.2759e-02]],\n",
              "              \n",
              "                       [[-4.2342e-03,  8.3295e-02, -8.9293e-02],\n",
              "                        [-1.8874e-02,  6.5482e-02, -9.3431e-02],\n",
              "                        [ 5.0094e-02,  1.1444e-02,  2.6653e-04]]],\n",
              "              \n",
              "              \n",
              "                      [[[-9.6525e-02,  7.7195e-02,  5.8415e-02],\n",
              "                        [-3.1648e-02,  8.1573e-02, -7.3574e-02],\n",
              "                        [-7.1822e-02,  6.3517e-02,  1.9188e-02]],\n",
              "              \n",
              "                       [[-1.5033e-02, -1.0361e-01, -7.5543e-02],\n",
              "                        [-1.3263e-02, -2.4225e-02, -5.3084e-02],\n",
              "                        [-6.2832e-02, -5.1146e-02,  6.6369e-02]],\n",
              "              \n",
              "                       [[-7.7675e-02,  1.0070e-01, -3.9654e-02],\n",
              "                        [ 4.2082e-02,  4.8303e-02,  4.3278e-02],\n",
              "                        [ 5.2645e-02,  2.0806e-02,  7.8141e-02]],\n",
              "              \n",
              "                       [[ 1.2034e-02,  4.3592e-02, -5.1680e-02],\n",
              "                        [-5.8487e-02, -4.1738e-02, -4.0943e-02],\n",
              "                        [-4.4135e-02, -8.7691e-02, -5.3242e-02]],\n",
              "              \n",
              "                       [[-8.4383e-02, -5.0055e-02,  7.1364e-02],\n",
              "                        [-6.7837e-02,  5.2707e-02,  5.2287e-02],\n",
              "                        [-5.6366e-04, -2.6685e-02,  4.9384e-02]],\n",
              "              \n",
              "                       [[-7.9575e-02, -3.3897e-02, -5.0016e-02],\n",
              "                        [ 3.5459e-02,  9.5486e-02,  7.9112e-02],\n",
              "                        [ 7.4615e-02, -1.7117e-02,  7.7618e-02]],\n",
              "              \n",
              "                       [[ 1.3859e-02, -1.8263e-02,  5.7371e-02],\n",
              "                        [ 4.0908e-02,  3.1293e-02,  6.3238e-02],\n",
              "                        [-5.8241e-02, -3.2351e-02, -7.2539e-02]],\n",
              "              \n",
              "                       [[ 1.9721e-02, -5.4064e-02,  6.8159e-02],\n",
              "                        [ 2.9369e-02, -2.9937e-02,  4.8259e-04],\n",
              "                        [-6.1772e-03, -1.5619e-02, -3.6058e-02]],\n",
              "              \n",
              "                       [[-3.3162e-02, -5.7223e-03,  3.3666e-02],\n",
              "                        [-8.3021e-02,  7.6768e-02, -8.2541e-02],\n",
              "                        [-3.2295e-02,  2.3546e-02, -6.6415e-03]],\n",
              "              \n",
              "                       [[ 2.6376e-02,  1.0381e-01, -1.5623e-03],\n",
              "                        [ 7.6136e-02,  9.2282e-02,  5.4948e-02],\n",
              "                        [ 4.5659e-02, -6.3141e-02, -6.3972e-02]]],\n",
              "              \n",
              "              \n",
              "                      [[[-7.5865e-02, -9.4517e-02, -9.6860e-02],\n",
              "                        [ 6.3917e-02,  7.4585e-02,  6.7783e-03],\n",
              "                        [ 7.9764e-02, -4.5400e-02, -7.4539e-02]],\n",
              "              \n",
              "                       [[ 3.2984e-02, -2.5274e-02,  8.2039e-02],\n",
              "                        [-9.2879e-02,  1.0090e-01, -5.5167e-02],\n",
              "                        [-8.9109e-02,  2.9174e-02,  9.5161e-02]],\n",
              "              \n",
              "                       [[-7.3980e-02, -2.2829e-02, -5.5158e-02],\n",
              "                        [ 1.8457e-02, -6.7601e-02, -1.2331e-02],\n",
              "                        [ 5.1761e-03, -8.0614e-02, -2.0280e-02]],\n",
              "              \n",
              "                       [[ 9.7213e-03, -6.3909e-02,  5.4630e-02],\n",
              "                        [ 7.2061e-02, -4.0719e-02,  9.6308e-02],\n",
              "                        [-5.2958e-02,  9.7701e-02, -5.6967e-02]],\n",
              "              \n",
              "                       [[-6.4900e-02, -2.5867e-03, -2.5190e-02],\n",
              "                        [-4.3924e-02, -2.8089e-02, -6.5844e-03],\n",
              "                        [ 1.6596e-02, -4.5279e-02, -4.5254e-02]],\n",
              "              \n",
              "                       [[-5.2367e-02, -9.6165e-02, -6.2741e-02],\n",
              "                        [ 4.5682e-03, -3.2995e-02, -7.4518e-02],\n",
              "                        [-1.0023e-01,  7.5579e-02,  6.8163e-02]],\n",
              "              \n",
              "                       [[-1.2752e-03, -5.8574e-02, -1.3522e-02],\n",
              "                        [-6.2550e-02,  9.2318e-02, -5.9539e-03],\n",
              "                        [-9.8186e-02,  2.0969e-02, -1.0069e-01]],\n",
              "              \n",
              "                       [[-2.1250e-02,  9.6419e-02,  1.0089e-01],\n",
              "                        [ 8.5202e-02,  8.8548e-02, -6.2960e-02],\n",
              "                        [ 9.3715e-02, -3.6397e-02,  3.9085e-02]],\n",
              "              \n",
              "                       [[-8.9742e-02,  1.2008e-03,  6.0253e-02],\n",
              "                        [ 8.3087e-02,  2.4737e-02, -6.2354e-02],\n",
              "                        [ 9.0954e-02, -9.0817e-02,  9.1615e-02]],\n",
              "              \n",
              "                       [[ 4.0718e-02, -9.3119e-02, -4.8428e-02],\n",
              "                        [-7.3167e-02,  7.7768e-02, -3.1978e-02],\n",
              "                        [-6.2276e-02, -1.0460e-03,  5.9660e-02]]],\n",
              "              \n",
              "              \n",
              "                      [[[ 6.1651e-02,  6.6199e-02,  8.2481e-02],\n",
              "                        [ 5.8143e-03, -1.7246e-02,  1.5792e-02],\n",
              "                        [ 8.0486e-02,  5.5736e-02, -9.8988e-02]],\n",
              "              \n",
              "                       [[ 5.2359e-02,  8.2894e-02,  7.2814e-02],\n",
              "                        [ 2.8987e-02,  2.1249e-03,  4.0209e-02],\n",
              "                        [-6.8415e-02, -4.5328e-02, -5.8022e-02]],\n",
              "              \n",
              "                       [[ 6.1074e-02, -2.8465e-03, -1.0513e-01],\n",
              "                        [-5.1494e-02,  1.0295e-01, -9.0182e-02],\n",
              "                        [ 6.3134e-02, -3.1078e-02,  9.9574e-02]],\n",
              "              \n",
              "                       [[ 6.1036e-02,  2.4596e-02, -3.4564e-02],\n",
              "                        [-6.6379e-02,  8.6485e-02, -8.0587e-02],\n",
              "                        [ 6.4229e-02, -4.3388e-02,  3.6619e-02]],\n",
              "              \n",
              "                       [[ 3.9211e-02, -4.7633e-02, -9.3875e-02],\n",
              "                        [ 6.5314e-02,  9.6256e-02,  8.3918e-02],\n",
              "                        [-4.2596e-02,  3.2944e-02, -3.4888e-02]],\n",
              "              \n",
              "                       [[ 4.7382e-02, -5.5626e-02,  2.6679e-02],\n",
              "                        [ 7.1713e-02,  3.8281e-02, -9.5281e-02],\n",
              "                        [-4.1570e-02, -9.1826e-02, -5.1907e-02]],\n",
              "              \n",
              "                       [[-4.2757e-02,  6.5204e-03,  7.3112e-02],\n",
              "                        [-2.2745e-02,  9.1556e-02, -7.2321e-02],\n",
              "                        [ 6.9917e-02, -8.0872e-02, -2.4355e-02]],\n",
              "              \n",
              "                       [[ 2.9928e-02, -8.4945e-03,  3.0077e-02],\n",
              "                        [ 8.6941e-03, -1.4290e-02, -8.7817e-02],\n",
              "                        [ 2.7858e-02, -3.2750e-02,  2.1460e-02]],\n",
              "              \n",
              "                       [[-9.9140e-02, -3.7145e-02, -8.4279e-02],\n",
              "                        [ 6.7635e-02,  1.0015e-01,  7.3364e-02],\n",
              "                        [-1.5928e-02,  8.3884e-02,  2.9466e-02]],\n",
              "              \n",
              "                       [[-6.8868e-02, -4.8775e-02,  7.8256e-02],\n",
              "                        [ 8.6190e-02, -1.8933e-02, -1.0202e-01],\n",
              "                        [-2.2170e-02,  2.3327e-02, -2.7872e-02]]],\n",
              "              \n",
              "              \n",
              "                      [[[ 6.9535e-02,  9.9738e-02, -6.7617e-02],\n",
              "                        [-6.4368e-02,  6.5819e-02,  6.3676e-02],\n",
              "                        [ 1.9325e-02, -6.5720e-02, -9.1324e-02]],\n",
              "              \n",
              "                       [[-4.6301e-02, -7.9515e-03,  4.8127e-02],\n",
              "                        [ 8.4353e-02,  2.3434e-02,  5.6602e-02],\n",
              "                        [ 1.0442e-01,  7.0001e-02,  1.0357e-01]],\n",
              "              \n",
              "                       [[ 1.0014e-01,  6.6024e-02,  9.5086e-02],\n",
              "                        [ 2.2415e-02,  5.6339e-02,  6.4986e-02],\n",
              "                        [ 8.7470e-02, -7.6306e-02,  8.2682e-02]],\n",
              "              \n",
              "                       [[ 5.5551e-02,  7.7228e-02, -6.9069e-02],\n",
              "                        [-8.7241e-03,  5.6020e-03, -5.7617e-02],\n",
              "                        [-1.0205e-01, -9.2237e-02,  2.7569e-03]],\n",
              "              \n",
              "                       [[-6.7932e-02,  8.9153e-02,  8.2281e-02],\n",
              "                        [-3.0540e-02, -4.2848e-02, -7.0867e-02],\n",
              "                        [-6.6889e-02,  6.5908e-02, -5.0050e-03]],\n",
              "              \n",
              "                       [[-1.0045e-01,  9.8806e-02, -1.3004e-02],\n",
              "                        [-3.0619e-02,  8.8442e-02, -9.6594e-02],\n",
              "                        [ 4.3711e-02, -4.4548e-02, -4.6121e-02]],\n",
              "              \n",
              "                       [[ 4.8444e-02,  4.6968e-02, -9.4442e-02],\n",
              "                        [ 5.0778e-03,  3.0215e-02, -1.1520e-02],\n",
              "                        [ 2.4287e-02,  4.1496e-02,  2.1322e-04]],\n",
              "              \n",
              "                       [[ 8.7686e-02,  4.9626e-02, -5.6562e-02],\n",
              "                        [-1.6150e-02, -4.7021e-03,  8.7850e-02],\n",
              "                        [-2.1439e-02, -6.0784e-02, -6.7045e-02]],\n",
              "              \n",
              "                       [[-3.6910e-02, -1.0028e-01,  1.0213e-01],\n",
              "                        [-1.2405e-02,  9.9932e-02, -4.1104e-02],\n",
              "                        [-5.5885e-02,  3.5126e-02,  4.9606e-02]],\n",
              "              \n",
              "                       [[-6.1215e-03,  7.4382e-02, -3.4455e-02],\n",
              "                        [ 4.0754e-02, -6.7350e-02,  1.7118e-03],\n",
              "                        [ 1.9551e-02, -5.2733e-02,  1.8157e-02]]],\n",
              "              \n",
              "              \n",
              "                      [[[ 5.3733e-02,  8.6618e-04, -1.7907e-02],\n",
              "                        [-3.5323e-02,  8.8940e-02,  1.6952e-02],\n",
              "                        [ 1.0402e-01, -7.3147e-02, -7.1726e-02]],\n",
              "              \n",
              "                       [[-5.5186e-02,  4.1808e-02,  3.4170e-02],\n",
              "                        [ 5.5651e-02,  3.4225e-02, -1.2072e-02],\n",
              "                        [-5.9954e-02, -9.0635e-02, -4.9786e-02]],\n",
              "              \n",
              "                       [[-2.1651e-02,  8.5106e-02, -2.7534e-02],\n",
              "                        [ 7.7677e-02,  7.8588e-02, -1.8644e-03],\n",
              "                        [ 1.6100e-03,  2.1952e-03, -3.9385e-02]],\n",
              "              \n",
              "                       [[-6.8659e-02,  6.5374e-02,  7.6251e-02],\n",
              "                        [-1.3436e-02, -8.1287e-03, -3.0644e-02],\n",
              "                        [-5.1860e-02,  5.2234e-02, -3.8582e-03]],\n",
              "              \n",
              "                       [[-3.5990e-02,  9.8548e-03, -8.8948e-02],\n",
              "                        [-2.5446e-02,  6.2772e-02,  6.9496e-02],\n",
              "                        [ 2.6333e-02,  3.0369e-02, -2.9347e-02]],\n",
              "              \n",
              "                       [[-1.7767e-02, -1.7484e-02,  1.4836e-02],\n",
              "                        [ 2.1672e-02, -1.0077e-02,  4.8961e-02],\n",
              "                        [ 1.6011e-02,  4.6138e-02, -3.3917e-02]],\n",
              "              \n",
              "                       [[ 8.6787e-02, -6.3214e-02, -6.3297e-02],\n",
              "                        [-8.8590e-02, -5.2850e-02, -7.4720e-02],\n",
              "                        [ 7.8839e-02, -3.7198e-02, -8.8493e-02]],\n",
              "              \n",
              "                       [[ 9.9599e-02, -5.3466e-02,  9.4684e-02],\n",
              "                        [ 9.4933e-02,  7.6187e-02,  3.5483e-02],\n",
              "                        [ 6.2200e-02,  7.2083e-02, -7.0190e-02]],\n",
              "              \n",
              "                       [[-5.3080e-02, -1.0219e-01,  8.3628e-02],\n",
              "                        [ 5.3076e-02, -3.0592e-03, -7.2987e-02],\n",
              "                        [-8.1632e-02, -5.7626e-02, -7.0574e-02]],\n",
              "              \n",
              "                       [[-6.7176e-02,  3.5008e-02,  1.7542e-02],\n",
              "                        [-1.0417e-01,  1.1845e-02, -5.3907e-02],\n",
              "                        [ 5.2792e-02, -9.8917e-02, -9.4597e-02]]],\n",
              "              \n",
              "              \n",
              "                      [[[-8.6300e-02, -5.5626e-02, -6.3328e-02],\n",
              "                        [ 3.6470e-02, -3.3059e-02, -3.0621e-02],\n",
              "                        [ 3.1649e-02, -5.6718e-02,  4.3777e-02]],\n",
              "              \n",
              "                       [[-2.8989e-02,  6.7445e-02,  2.6323e-02],\n",
              "                        [-8.6373e-02,  7.1118e-02,  9.1254e-02],\n",
              "                        [ 7.8621e-02,  6.9777e-02, -1.7465e-02]],\n",
              "              \n",
              "                       [[ 3.0544e-03, -2.0166e-02,  1.4593e-02],\n",
              "                        [-5.7434e-02, -3.0832e-02,  8.8521e-02],\n",
              "                        [-2.2094e-02,  9.6442e-02, -9.7646e-02]],\n",
              "              \n",
              "                       [[-3.1199e-02, -9.6700e-02, -7.4235e-02],\n",
              "                        [ 7.1043e-02,  8.7300e-02, -2.4312e-02],\n",
              "                        [ 7.6142e-02, -8.7789e-02, -2.2288e-02]],\n",
              "              \n",
              "                       [[ 5.7707e-02,  5.6714e-02, -1.0187e-01],\n",
              "                        [-4.9642e-03,  4.1775e-02, -7.6981e-02],\n",
              "                        [-8.4176e-03,  6.9892e-02,  6.2783e-03]],\n",
              "              \n",
              "                       [[ 5.4672e-02, -8.5645e-02,  2.7036e-03],\n",
              "                        [-6.5036e-02, -9.6835e-02, -3.3557e-02],\n",
              "                        [-7.3601e-02,  6.6221e-02, -7.3516e-02]],\n",
              "              \n",
              "                       [[-1.4479e-02,  3.1015e-02,  5.4773e-02],\n",
              "                        [-9.1174e-02,  1.1082e-02,  2.8623e-02],\n",
              "                        [-8.1977e-02, -3.2873e-02, -4.7029e-03]],\n",
              "              \n",
              "                       [[-9.1349e-02, -2.0219e-02, -6.2655e-02],\n",
              "                        [-5.3622e-02, -2.9959e-02,  7.4973e-02],\n",
              "                        [-2.0285e-02,  1.0087e-01,  1.8663e-02]],\n",
              "              \n",
              "                       [[-7.1712e-02,  4.2578e-02,  6.0006e-02],\n",
              "                        [ 6.3161e-02,  9.4267e-02, -9.4904e-02],\n",
              "                        [ 1.0248e-01,  6.2886e-02, -6.8735e-02]],\n",
              "              \n",
              "                       [[ 1.0372e-01, -8.9523e-03,  1.2717e-05],\n",
              "                        [ 2.7248e-03, -7.4655e-02, -4.8590e-02],\n",
              "                        [-3.7524e-02,  6.9413e-02, -3.1992e-05]]]])),\n",
              "             ('conv_block_1.2.bias',\n",
              "              tensor([ 0.0098,  0.0495, -0.0700,  0.0828,  0.1029, -0.0151,  0.0415,  0.0463,\n",
              "                       0.0544,  0.0529])),\n",
              "             ('conv_block_2.0.weight',\n",
              "              tensor([[[[-4.4327e-02,  5.1798e-02,  4.7597e-03],\n",
              "                        [-5.3106e-02, -5.0707e-02, -8.1119e-02],\n",
              "                        [-2.9274e-02, -8.0005e-02, -7.8708e-02]],\n",
              "              \n",
              "                       [[ 9.6327e-02, -3.1067e-02,  8.9485e-02],\n",
              "                        [-7.4616e-02,  1.0138e-01,  3.9817e-02],\n",
              "                        [-2.6423e-02,  3.6101e-02,  2.5595e-02]],\n",
              "              \n",
              "                       [[ 8.2786e-02,  4.2180e-02,  4.2230e-03],\n",
              "                        [-2.7873e-02,  3.7113e-03,  2.0533e-02],\n",
              "                        [ 5.3470e-02, -8.8113e-02, -9.7170e-02]],\n",
              "              \n",
              "                       [[-1.5720e-02,  1.3661e-02,  3.4021e-02],\n",
              "                        [ 7.1234e-02, -9.1270e-02, -3.8282e-02],\n",
              "                        [ 4.6805e-02,  9.6216e-02, -1.7797e-02]],\n",
              "              \n",
              "                       [[-1.8784e-02,  2.5117e-02,  1.0198e-01],\n",
              "                        [-8.6053e-02, -5.1378e-02,  3.9616e-02],\n",
              "                        [-1.7401e-02,  9.6642e-02, -7.1700e-02]],\n",
              "              \n",
              "                       [[-9.9013e-02, -1.0198e-01, -4.7977e-02],\n",
              "                        [-6.4643e-02,  1.0419e-01,  5.7974e-02],\n",
              "                        [ 7.8462e-02, -7.1594e-02,  8.8480e-02]],\n",
              "              \n",
              "                       [[-2.4949e-02,  2.0211e-03,  9.0780e-02],\n",
              "                        [ 6.8645e-03,  1.9589e-02, -4.3274e-02],\n",
              "                        [-1.5524e-02, -9.2348e-02,  6.2914e-02]],\n",
              "              \n",
              "                       [[ 3.3021e-03,  1.0153e-01, -1.0479e-01],\n",
              "                        [-4.1359e-02,  3.1286e-02, -5.9213e-02],\n",
              "                        [-3.4862e-02,  5.0287e-02,  9.6736e-02]],\n",
              "              \n",
              "                       [[ 6.8217e-02, -5.6559e-02, -6.7523e-02],\n",
              "                        [-9.2291e-02,  3.7162e-02,  1.6867e-02],\n",
              "                        [ 8.3676e-02, -1.8440e-02,  8.9622e-04]],\n",
              "              \n",
              "                       [[ 1.9226e-02,  9.1621e-02, -5.4324e-02],\n",
              "                        [ 6.1953e-02, -4.5585e-02,  4.7156e-02],\n",
              "                        [-7.0601e-02, -6.0601e-02,  4.1548e-02]]],\n",
              "              \n",
              "              \n",
              "                      [[[-9.5674e-02,  8.5505e-02, -7.8486e-02],\n",
              "                        [-3.8741e-02,  2.3082e-02, -3.4196e-02],\n",
              "                        [-1.9376e-02, -3.1909e-02, -6.5742e-02]],\n",
              "              \n",
              "                       [[ 6.8974e-02,  2.1958e-02,  8.0522e-02],\n",
              "                        [ 3.2225e-02,  1.7893e-02, -7.1637e-02],\n",
              "                        [ 4.3474e-02, -8.4314e-02, -5.3609e-03]],\n",
              "              \n",
              "                       [[ 6.3541e-03, -1.2399e-03, -5.1611e-02],\n",
              "                        [ 7.6087e-02, -7.9177e-02,  5.2248e-02],\n",
              "                        [ 4.5946e-02, -9.2829e-02, -7.9228e-02]],\n",
              "              \n",
              "                       [[-1.1202e-02,  2.9897e-02, -1.5788e-02],\n",
              "                        [ 6.2791e-02, -5.9329e-02, -2.3840e-02],\n",
              "                        [ 3.4778e-02,  4.9770e-02,  4.6450e-02]],\n",
              "              \n",
              "                       [[ 5.3306e-02,  9.0772e-02,  3.1605e-02],\n",
              "                        [-8.2069e-02,  1.3908e-02, -2.9916e-02],\n",
              "                        [-1.0304e-01,  5.0227e-02, -8.3248e-02]],\n",
              "              \n",
              "                       [[-1.5991e-02, -1.0474e-01, -3.2798e-02],\n",
              "                        [-8.4440e-02,  8.9113e-02,  8.5545e-02],\n",
              "                        [ 3.2615e-02,  9.2413e-02,  7.1188e-02]],\n",
              "              \n",
              "                       [[ 6.1470e-02, -9.1930e-02, -9.9315e-02],\n",
              "                        [-4.0152e-03, -2.0401e-02,  9.8349e-02],\n",
              "                        [ 3.1537e-02,  9.8474e-03, -7.3434e-02]],\n",
              "              \n",
              "                       [[ 9.8525e-02,  3.7522e-02, -9.4810e-02],\n",
              "                        [-3.8804e-02, -2.0424e-02,  6.0970e-02],\n",
              "                        [-3.7895e-02,  7.6141e-02, -4.6217e-02]],\n",
              "              \n",
              "                       [[ 1.1263e-02, -9.2249e-02, -3.7377e-02],\n",
              "                        [ 5.2573e-02, -7.6411e-02, -4.5459e-04],\n",
              "                        [-9.9776e-02, -1.0060e-01,  9.2106e-02]],\n",
              "              \n",
              "                       [[ 7.8273e-02,  5.0976e-02,  8.3734e-02],\n",
              "                        [-4.5202e-02,  4.1700e-02, -8.7970e-02],\n",
              "                        [ 9.8518e-02, -2.0171e-02, -3.3446e-02]]],\n",
              "              \n",
              "              \n",
              "                      [[[-3.5875e-02, -4.3452e-02, -3.2986e-02],\n",
              "                        [ 9.1762e-02,  6.6915e-02, -2.8337e-02],\n",
              "                        [-4.7556e-02,  1.0300e-02,  2.0390e-02]],\n",
              "              \n",
              "                       [[ 8.3112e-02, -8.4523e-02,  7.2075e-02],\n",
              "                        [ 4.6077e-02,  7.7406e-02, -1.0414e-01],\n",
              "                        [-9.9043e-02, -6.9165e-02, -2.3935e-03]],\n",
              "              \n",
              "                       [[-9.0070e-02, -8.5573e-02,  5.8743e-02],\n",
              "                        [ 4.4047e-02,  8.9082e-02, -7.1324e-02],\n",
              "                        [-1.5766e-02,  9.0529e-04, -2.2980e-02]],\n",
              "              \n",
              "                       [[ 1.0233e-01,  8.5294e-02, -7.1644e-02],\n",
              "                        [-3.5986e-02,  9.0528e-02,  6.9548e-03],\n",
              "                        [-9.1588e-02,  8.1316e-02, -3.8086e-02]],\n",
              "              \n",
              "                       [[-1.0157e-01,  1.0136e-01,  7.3320e-02],\n",
              "                        [ 2.6516e-02,  8.0309e-02, -3.1457e-02],\n",
              "                        [-7.2751e-02, -7.4261e-02,  4.6224e-02]],\n",
              "              \n",
              "                       [[ 9.5176e-02, -2.2633e-02, -3.0730e-02],\n",
              "                        [-1.0342e-01,  6.9998e-02,  7.4205e-03],\n",
              "                        [-4.3620e-02,  8.5040e-02, -7.5894e-02]],\n",
              "              \n",
              "                       [[-7.5165e-02, -3.6540e-02, -2.1832e-02],\n",
              "                        [ 1.0042e-01,  2.6035e-02,  5.0336e-02],\n",
              "                        [-3.0705e-02,  6.8951e-02,  9.4686e-04]],\n",
              "              \n",
              "                       [[ 8.8588e-02, -9.4291e-02, -4.4504e-02],\n",
              "                        [-4.0151e-02,  8.4058e-02, -1.7009e-02],\n",
              "                        [-7.2010e-02,  8.7185e-02, -4.6048e-02]],\n",
              "              \n",
              "                       [[-2.1430e-02,  7.0227e-02, -6.2214e-02],\n",
              "                        [-9.3591e-02, -5.1587e-02,  6.0209e-02],\n",
              "                        [ 1.0254e-01, -9.6883e-02,  8.8692e-02]],\n",
              "              \n",
              "                       [[-5.4995e-02, -3.4384e-02, -2.0311e-02],\n",
              "                        [-5.2898e-02, -6.7430e-03,  6.5981e-02],\n",
              "                        [-8.1968e-02, -9.2524e-02,  8.4435e-02]]],\n",
              "              \n",
              "              \n",
              "                      [[[ 4.8544e-02,  8.5260e-02,  4.7274e-02],\n",
              "                        [ 6.7069e-02,  5.8146e-02,  1.4606e-02],\n",
              "                        [-6.0646e-02, -8.3508e-02, -8.3136e-02]],\n",
              "              \n",
              "                       [[ 1.2686e-02,  2.8562e-02,  5.3046e-02],\n",
              "                        [ 4.2662e-02, -7.1846e-02, -3.9255e-02],\n",
              "                        [-1.0536e-01, -7.0457e-02, -7.8634e-02]],\n",
              "              \n",
              "                       [[-9.4098e-02,  9.9073e-02, -6.9063e-02],\n",
              "                        [ 3.7848e-02, -8.9302e-02,  8.1633e-02],\n",
              "                        [-1.1665e-02,  5.4498e-03,  5.9972e-02]],\n",
              "              \n",
              "                       [[ 8.5139e-04, -8.8861e-02,  5.1970e-02],\n",
              "                        [-5.1715e-02,  3.9990e-02, -8.5538e-02],\n",
              "                        [ 3.2869e-02, -3.3510e-02,  9.0136e-02]],\n",
              "              \n",
              "                       [[ 1.0187e-01, -1.7701e-02,  8.4048e-02],\n",
              "                        [ 9.6428e-02,  5.7092e-02,  6.8148e-02],\n",
              "                        [ 9.0040e-03,  9.1879e-02, -5.2376e-02]],\n",
              "              \n",
              "                       [[ 6.1081e-02,  2.5355e-02,  6.0119e-02],\n",
              "                        [ 1.7005e-02, -4.8853e-02,  4.3727e-02],\n",
              "                        [-2.5423e-03, -1.0956e-02,  9.1605e-02]],\n",
              "              \n",
              "                       [[-9.7305e-02,  4.9496e-02, -6.5639e-02],\n",
              "                        [-7.9640e-02,  3.3227e-03,  7.9250e-02],\n",
              "                        [ 1.4816e-02,  3.7771e-02,  1.6712e-02]],\n",
              "              \n",
              "                       [[ 9.1959e-03, -6.6976e-02, -8.0047e-02],\n",
              "                        [ 1.3224e-02,  8.1424e-02,  9.4131e-02],\n",
              "                        [-9.5365e-02,  8.8907e-02, -7.2018e-02]],\n",
              "              \n",
              "                       [[ 6.0016e-03, -9.0945e-02,  5.3199e-02],\n",
              "                        [-3.7556e-02,  1.0889e-02,  3.9349e-02],\n",
              "                        [ 9.9965e-02,  1.7838e-02,  3.0828e-02]],\n",
              "              \n",
              "                       [[ 2.3713e-03,  1.9475e-02, -1.0353e-01],\n",
              "                        [ 7.8141e-02, -1.7021e-02, -8.2569e-02],\n",
              "                        [ 8.5362e-02,  7.1268e-02, -4.3515e-02]]],\n",
              "              \n",
              "              \n",
              "                      [[[-5.6332e-02, -9.3321e-02, -4.6044e-03],\n",
              "                        [-8.2585e-02, -8.1693e-02, -4.4967e-02],\n",
              "                        [-1.5026e-02, -5.5256e-02,  6.3297e-02]],\n",
              "              \n",
              "                       [[ 8.5018e-02, -3.0753e-02, -5.4432e-02],\n",
              "                        [ 4.9420e-02,  2.6709e-02, -1.2591e-02],\n",
              "                        [ 7.0591e-02, -1.0058e-01, -6.6802e-02]],\n",
              "              \n",
              "                       [[ 2.3622e-02, -4.3635e-02,  2.9115e-02],\n",
              "                        [ 8.3792e-02, -5.2127e-02, -8.3228e-02],\n",
              "                        [-9.0723e-02,  8.8112e-02,  1.4191e-02]],\n",
              "              \n",
              "                       [[ 9.0364e-02,  1.4267e-02, -1.6787e-02],\n",
              "                        [ 8.4683e-02, -1.4670e-02, -9.4271e-02],\n",
              "                        [-9.1990e-02,  5.9918e-02,  8.2789e-02]],\n",
              "              \n",
              "                       [[ 6.0559e-02, -6.8189e-02, -1.8928e-02],\n",
              "                        [ 8.9739e-02, -3.7627e-02,  1.4534e-02],\n",
              "                        [ 4.1676e-02,  9.9364e-02, -5.8376e-02]],\n",
              "              \n",
              "                       [[ 2.8198e-02,  6.9505e-02, -4.5797e-02],\n",
              "                        [ 9.4881e-03,  5.4665e-02, -2.2900e-02],\n",
              "                        [-7.8425e-02, -6.7865e-02, -1.3169e-02]],\n",
              "              \n",
              "                       [[ 5.1622e-02,  1.0272e-01,  3.3284e-02],\n",
              "                        [ 2.4659e-02,  1.8266e-02, -1.3984e-02],\n",
              "                        [-6.3910e-02, -3.1894e-03,  1.0178e-01]],\n",
              "              \n",
              "                       [[-6.8266e-02, -2.0470e-02,  4.5717e-02],\n",
              "                        [-1.0467e-01, -1.3524e-02,  4.3185e-02],\n",
              "                        [-1.5475e-02,  1.7195e-02, -3.7177e-02]],\n",
              "              \n",
              "                       [[ 4.7228e-02,  2.4447e-03,  3.3011e-02],\n",
              "                        [-6.2438e-02, -6.3725e-02,  5.2034e-02],\n",
              "                        [-5.2690e-02, -5.8879e-02,  7.0216e-02]],\n",
              "              \n",
              "                       [[-4.2929e-02,  3.9563e-02, -6.5598e-02],\n",
              "                        [-4.1498e-02, -4.7958e-02, -8.8378e-02],\n",
              "                        [-8.8011e-02, -3.6358e-02, -1.0316e-01]]],\n",
              "              \n",
              "              \n",
              "                      [[[-6.8430e-02,  6.1292e-02,  6.8372e-02],\n",
              "                        [ 9.9917e-02,  5.8892e-02,  8.7419e-02],\n",
              "                        [ 8.3397e-02,  5.8358e-02, -6.9882e-02]],\n",
              "              \n",
              "                       [[-1.0306e-01,  4.2088e-02,  7.2709e-02],\n",
              "                        [ 8.8457e-02, -6.1943e-04,  2.3251e-02],\n",
              "                        [-9.9459e-02, -6.5857e-02,  8.7438e-02]],\n",
              "              \n",
              "                       [[-8.2515e-02, -3.2821e-02,  3.8420e-02],\n",
              "                        [ 2.3231e-02, -2.3331e-02,  1.2733e-02],\n",
              "                        [-7.8200e-02,  7.5286e-02, -3.2185e-02]],\n",
              "              \n",
              "                       [[ 2.9024e-03, -1.4585e-02,  2.8470e-02],\n",
              "                        [ 1.9422e-03,  1.2278e-02,  3.8964e-02],\n",
              "                        [ 6.5192e-02,  6.8394e-02, -4.4509e-02]],\n",
              "              \n",
              "                       [[ 6.7500e-02, -5.8017e-02, -1.1106e-02],\n",
              "                        [-6.3951e-02,  6.4575e-02,  8.7427e-02],\n",
              "                        [-5.9450e-02,  7.0659e-02, -3.9293e-02]],\n",
              "              \n",
              "                       [[ 6.5353e-02,  7.2357e-02, -2.2106e-02],\n",
              "                        [-9.2731e-02, -3.6449e-02,  4.9917e-03],\n",
              "                        [ 7.6514e-03, -5.5266e-02,  7.2468e-02]],\n",
              "              \n",
              "                       [[-4.8690e-02, -1.0164e-02,  6.5079e-02],\n",
              "                        [-9.2563e-02, -5.4283e-02, -5.4939e-02],\n",
              "                        [-7.9448e-02, -9.1033e-02,  2.2225e-02]],\n",
              "              \n",
              "                       [[-1.3000e-02, -8.1913e-03,  7.0764e-02],\n",
              "                        [-2.3404e-02, -8.7807e-02, -6.7814e-02],\n",
              "                        [ 8.0871e-02, -8.6350e-02,  7.3479e-02]],\n",
              "              \n",
              "                       [[-1.6703e-02, -4.6925e-02,  8.0856e-02],\n",
              "                        [-7.4164e-02,  6.4474e-02,  2.1496e-02],\n",
              "                        [-2.8194e-02, -9.2515e-02,  8.6652e-02]],\n",
              "              \n",
              "                       [[ 6.5286e-02, -7.8474e-02,  8.1364e-02],\n",
              "                        [-6.7537e-02, -6.2339e-02, -7.2664e-02],\n",
              "                        [ 9.6902e-02, -8.6584e-02, -4.9056e-02]]],\n",
              "              \n",
              "              \n",
              "                      [[[-4.6680e-02,  5.6631e-02,  6.9171e-02],\n",
              "                        [ 8.4471e-02, -3.8151e-03, -9.7067e-02],\n",
              "                        [-8.1134e-02,  6.1792e-02, -4.0368e-03]],\n",
              "              \n",
              "                       [[ 1.8579e-03,  8.8984e-02, -4.7405e-02],\n",
              "                        [-4.4868e-02, -5.7898e-02, -5.6440e-02],\n",
              "                        [ 4.7277e-02,  8.9573e-02,  2.5351e-02]],\n",
              "              \n",
              "                       [[ 4.6969e-02,  1.9501e-02,  9.8347e-02],\n",
              "                        [ 5.7352e-03, -3.5932e-02, -5.3941e-02],\n",
              "                        [-9.0026e-02,  1.9506e-02, -1.0392e-01]],\n",
              "              \n",
              "                       [[-9.0946e-02, -8.2255e-02,  9.9252e-02],\n",
              "                        [-8.5217e-02, -1.8440e-02, -1.0397e-01],\n",
              "                        [ 5.2780e-02,  3.5882e-02,  5.7306e-02]],\n",
              "              \n",
              "                       [[-9.9977e-02, -2.2208e-02, -1.0036e-02],\n",
              "                        [ 7.1763e-02,  3.4737e-02, -2.3147e-02],\n",
              "                        [-6.2995e-02,  3.3670e-02,  2.8126e-02]],\n",
              "              \n",
              "                       [[ 1.2274e-02, -9.2421e-02,  4.7742e-02],\n",
              "                        [-9.3802e-02,  3.8737e-02,  9.4516e-03],\n",
              "                        [ 5.9458e-02, -9.6339e-02, -2.6327e-02]],\n",
              "              \n",
              "                       [[ 7.0372e-02,  3.1410e-02,  8.6356e-02],\n",
              "                        [-3.9432e-02, -3.5588e-02, -6.6784e-02],\n",
              "                        [ 7.3190e-02,  6.0239e-02,  5.6738e-02]],\n",
              "              \n",
              "                       [[-1.7968e-02, -2.2438e-02, -3.4737e-02],\n",
              "                        [ 4.2878e-02, -1.8984e-02, -7.1767e-02],\n",
              "                        [ 4.3206e-03,  6.0053e-02, -1.0265e-01]],\n",
              "              \n",
              "                       [[-2.7519e-02,  9.7784e-02,  4.6083e-02],\n",
              "                        [-3.7197e-02,  3.0351e-02, -1.5300e-02],\n",
              "                        [-3.3774e-02,  4.5813e-02, -3.8222e-02]],\n",
              "              \n",
              "                       [[ 3.9145e-02, -1.5863e-02,  8.8784e-02],\n",
              "                        [ 1.0188e-01,  2.8899e-02,  4.5376e-02],\n",
              "                        [-7.2850e-02, -4.3353e-02,  9.6945e-03]]],\n",
              "              \n",
              "              \n",
              "                      [[[-8.0236e-03, -5.6273e-02, -1.4592e-02],\n",
              "                        [-9.9521e-06, -1.3797e-02, -5.7813e-02],\n",
              "                        [-8.9383e-02, -9.7678e-02,  5.1519e-02]],\n",
              "              \n",
              "                       [[-2.1922e-02,  4.9096e-02,  2.6749e-02],\n",
              "                        [ 3.9436e-02,  3.5913e-02,  7.7250e-02],\n",
              "                        [ 1.1517e-02,  1.4867e-02, -1.7295e-02]],\n",
              "              \n",
              "                       [[-8.4618e-02,  2.6137e-02,  8.9925e-02],\n",
              "                        [-2.4986e-02,  8.0042e-02, -2.4362e-02],\n",
              "                        [-3.6428e-02, -9.6169e-02, -5.6703e-02]],\n",
              "              \n",
              "                       [[ 4.3465e-02,  3.1203e-03, -3.2416e-02],\n",
              "                        [ 4.9078e-02, -9.2515e-02,  1.9486e-03],\n",
              "                        [-4.7880e-02,  4.3029e-02, -6.8478e-02]],\n",
              "              \n",
              "                       [[-2.7179e-02, -1.0362e-01, -2.4370e-02],\n",
              "                        [ 8.8640e-02, -1.0627e-02,  2.7082e-02],\n",
              "                        [-4.7983e-03,  8.0978e-02,  5.4595e-02]],\n",
              "              \n",
              "                       [[-7.7571e-03, -1.4142e-02, -3.8018e-02],\n",
              "                        [ 3.3186e-02, -9.2970e-02, -8.0458e-02],\n",
              "                        [ 4.6624e-03, -3.7929e-02, -3.0139e-02]],\n",
              "              \n",
              "                       [[ 5.4560e-02, -1.6209e-02, -7.8547e-02],\n",
              "                        [ 4.2166e-02,  1.9716e-02,  8.4970e-02],\n",
              "                        [-2.5237e-02,  5.9172e-02,  8.3437e-05]],\n",
              "              \n",
              "                       [[ 8.5587e-02,  4.8989e-02,  3.4861e-02],\n",
              "                        [-5.7543e-02, -5.1990e-03,  5.9695e-02],\n",
              "                        [ 7.4550e-02, -3.3364e-03,  2.9365e-02]],\n",
              "              \n",
              "                       [[ 5.2563e-02, -2.9477e-02,  9.0605e-02],\n",
              "                        [ 2.4336e-02, -3.1133e-02, -1.0367e-01],\n",
              "                        [-8.2441e-02,  9.4840e-02, -5.1009e-02]],\n",
              "              \n",
              "                       [[ 7.3436e-02,  1.6452e-03,  6.9981e-02],\n",
              "                        [ 8.5194e-02, -3.8182e-02,  1.0031e-01],\n",
              "                        [-9.4550e-02, -1.3189e-02,  4.3268e-02]]],\n",
              "              \n",
              "              \n",
              "                      [[[ 6.5108e-02, -5.7910e-02,  9.2044e-02],\n",
              "                        [ 1.3386e-02, -9.0381e-02,  3.3898e-02],\n",
              "                        [-2.1579e-02, -1.5833e-02, -6.0284e-02]],\n",
              "              \n",
              "                       [[ 8.4286e-03, -3.9463e-02, -9.9525e-02],\n",
              "                        [ 9.6373e-02, -5.0122e-03,  5.5409e-02],\n",
              "                        [ 5.8624e-02,  6.7952e-04, -6.5716e-02]],\n",
              "              \n",
              "                       [[ 9.9422e-02,  2.9335e-02,  5.6560e-03],\n",
              "                        [-4.4821e-02, -9.0595e-02, -5.8604e-02],\n",
              "                        [ 1.1469e-02,  5.0815e-02, -7.8021e-02]],\n",
              "              \n",
              "                       [[ 8.5428e-03,  8.3704e-03, -7.3786e-02],\n",
              "                        [-3.4972e-02,  8.7603e-03,  2.5954e-02],\n",
              "                        [-8.3048e-02,  1.3132e-02,  5.0473e-02]],\n",
              "              \n",
              "                       [[-7.7533e-02,  4.2761e-02, -8.6892e-02],\n",
              "                        [-3.1137e-02, -3.2015e-02, -7.7218e-02],\n",
              "                        [-5.0350e-02, -9.6353e-04,  2.8256e-02]],\n",
              "              \n",
              "                       [[-6.9967e-02, -1.0476e-01, -9.4614e-02],\n",
              "                        [ 2.9948e-02,  5.4888e-02, -8.6565e-02],\n",
              "                        [ 6.5477e-03, -5.4453e-02,  1.8202e-02]],\n",
              "              \n",
              "                       [[-5.5683e-02,  1.6250e-02,  5.8536e-02],\n",
              "                        [-9.9264e-02,  6.0775e-02, -7.4274e-02],\n",
              "                        [-5.9792e-02,  4.5232e-02,  5.9107e-02]],\n",
              "              \n",
              "                       [[-1.1597e-02,  8.1692e-02,  6.6261e-02],\n",
              "                        [ 1.0131e-01, -8.0012e-02, -7.6877e-02],\n",
              "                        [ 1.6631e-02, -7.4176e-02, -4.4938e-03]],\n",
              "              \n",
              "                       [[-4.0508e-03,  1.0396e-01, -3.6128e-02],\n",
              "                        [-8.7994e-02,  1.5832e-02,  5.5154e-02],\n",
              "                        [-6.9099e-02,  8.9531e-02, -3.6657e-02]],\n",
              "              \n",
              "                       [[ 1.0170e-01,  8.8323e-02,  5.5566e-02],\n",
              "                        [ 1.0176e-02, -1.4523e-02, -2.6606e-02],\n",
              "                        [ 2.9802e-02,  4.0453e-02,  6.2514e-03]]],\n",
              "              \n",
              "              \n",
              "                      [[[ 7.7162e-02,  1.2292e-02, -2.6337e-02],\n",
              "                        [ 6.4968e-02, -4.2275e-02, -7.4996e-02],\n",
              "                        [-4.0341e-02, -2.3144e-02,  1.9288e-02]],\n",
              "              \n",
              "                       [[ 3.5678e-02, -8.2940e-02, -1.0461e-01],\n",
              "                        [ 5.7841e-02, -5.2729e-02, -6.7161e-02],\n",
              "                        [-9.6914e-02,  7.9619e-02,  2.8790e-02]],\n",
              "              \n",
              "                       [[ 3.2338e-02, -3.6742e-02, -3.2727e-02],\n",
              "                        [ 1.0366e-02,  5.0094e-02, -7.0248e-02],\n",
              "                        [ 2.3690e-02, -9.0617e-03,  1.8807e-02]],\n",
              "              \n",
              "                       [[ 8.3890e-02,  1.0369e-01,  5.9675e-02],\n",
              "                        [-7.2394e-02,  2.6167e-02,  3.7121e-02],\n",
              "                        [-7.4693e-02, -4.1570e-02, -4.9524e-02]],\n",
              "              \n",
              "                       [[ 1.0251e-01, -3.1841e-02, -8.6731e-02],\n",
              "                        [-9.8723e-02, -4.1509e-02, -9.4390e-03],\n",
              "                        [ 5.1281e-02, -4.4765e-02, -6.6143e-02]],\n",
              "              \n",
              "                       [[ 4.4152e-02,  4.6129e-02, -3.7562e-02],\n",
              "                        [-7.7528e-02, -6.3104e-02,  6.7073e-02],\n",
              "                        [-9.1083e-02,  1.9893e-02, -9.6073e-02]],\n",
              "              \n",
              "                       [[ 2.7571e-02, -4.5816e-02,  4.7578e-03],\n",
              "                        [-6.2346e-02,  9.0392e-02, -4.2169e-02],\n",
              "                        [-2.9889e-02, -9.1609e-02,  3.0560e-02]],\n",
              "              \n",
              "                       [[-5.4483e-02, -4.1664e-03, -6.1164e-02],\n",
              "                        [-8.5831e-02,  7.4583e-02, -7.4763e-03],\n",
              "                        [-1.9137e-02,  2.8324e-02,  5.2101e-02]],\n",
              "              \n",
              "                       [[ 8.8671e-02, -6.9806e-02, -4.3502e-03],\n",
              "                        [-4.5906e-02, -9.3639e-02,  1.6846e-02],\n",
              "                        [-2.1065e-02,  5.2168e-02,  1.6229e-02]],\n",
              "              \n",
              "                       [[ 6.5271e-02, -8.0347e-02, -1.1033e-02],\n",
              "                        [ 1.7052e-03,  8.2253e-02,  8.2957e-03],\n",
              "                        [ 6.9938e-02,  7.3970e-02,  4.7325e-02]]]])),\n",
              "             ('conv_block_2.0.bias',\n",
              "              tensor([-0.0677,  0.0353,  0.0499, -0.0501, -0.0643, -0.0802, -0.0384,  0.0820,\n",
              "                      -0.0008,  0.0711])),\n",
              "             ('conv_block_2.2.weight',\n",
              "              tensor([[[[ 7.2558e-02, -3.2117e-02,  1.6136e-02],\n",
              "                        [ 2.5223e-02, -7.6645e-02, -9.0860e-02],\n",
              "                        [-3.1299e-02, -4.2777e-02,  2.5840e-03]],\n",
              "              \n",
              "                       [[ 1.8308e-02,  7.9632e-02, -5.9000e-02],\n",
              "                        [ 3.3802e-02, -2.8165e-02,  3.4194e-02],\n",
              "                        [-3.8145e-02, -9.4926e-02,  6.9080e-02]],\n",
              "              \n",
              "                       [[-4.3374e-02,  3.0486e-02,  2.6280e-02],\n",
              "                        [-2.8892e-02,  6.8465e-02, -8.0433e-02],\n",
              "                        [-5.8337e-02,  9.4754e-02, -4.3058e-02]],\n",
              "              \n",
              "                       [[ 1.5643e-02,  9.6045e-02, -7.6496e-02],\n",
              "                        [ 2.8550e-02, -3.6681e-02, -6.4627e-02],\n",
              "                        [-6.9604e-02,  1.4956e-02, -2.6149e-02]],\n",
              "              \n",
              "                       [[-1.0225e-01,  8.0882e-02,  2.0486e-02],\n",
              "                        [-1.0303e-02,  1.0042e-01,  2.8870e-02],\n",
              "                        [-5.8623e-02,  4.8345e-02,  4.8817e-03]],\n",
              "              \n",
              "                       [[ 5.2429e-02,  3.1615e-03, -3.1854e-03],\n",
              "                        [-4.5301e-02, -8.7742e-02, -8.4417e-02],\n",
              "                        [ 1.0291e-01,  1.3832e-02,  2.0688e-02]],\n",
              "              \n",
              "                       [[ 2.2241e-02, -1.0068e-01,  2.1958e-02],\n",
              "                        [ 2.2015e-02, -2.9553e-03,  8.2032e-02],\n",
              "                        [-9.2651e-03,  7.0045e-02,  3.6402e-02]],\n",
              "              \n",
              "                       [[ 2.1652e-02, -7.8917e-02,  8.7595e-02],\n",
              "                        [ 6.4358e-03,  6.6051e-02,  6.4422e-03],\n",
              "                        [ 2.7409e-02,  3.2780e-02, -3.4416e-02]],\n",
              "              \n",
              "                       [[-5.8385e-02,  6.9560e-02, -7.0017e-02],\n",
              "                        [ 1.5366e-02,  5.4547e-02, -8.2262e-02],\n",
              "                        [-8.2861e-02,  1.4083e-02,  5.6104e-02]],\n",
              "              \n",
              "                       [[-7.1554e-02, -2.1617e-02, -2.2694e-02],\n",
              "                        [-9.0333e-02, -6.5099e-02,  3.6371e-02],\n",
              "                        [-6.8606e-02,  5.2584e-02, -8.8105e-02]]],\n",
              "              \n",
              "              \n",
              "                      [[[ 1.5333e-02, -6.6724e-02,  2.5518e-02],\n",
              "                        [ 7.6404e-02, -1.4040e-02,  9.6813e-03],\n",
              "                        [-4.1651e-02,  6.6499e-03,  4.1373e-02]],\n",
              "              \n",
              "                       [[-6.1536e-02,  7.5694e-03, -2.6461e-02],\n",
              "                        [-3.9843e-02,  1.7228e-02,  5.8107e-02],\n",
              "                        [ 8.2688e-02, -2.8316e-02,  4.3996e-02]],\n",
              "              \n",
              "                       [[-7.8007e-02, -1.5589e-03,  8.5095e-02],\n",
              "                        [-8.9439e-02,  2.8173e-02, -2.1836e-02],\n",
              "                        [-9.7370e-02, -6.7931e-02, -1.0143e-01]],\n",
              "              \n",
              "                       [[ 3.4038e-02, -3.6380e-02, -6.0999e-02],\n",
              "                        [-6.8619e-02, -3.0582e-02, -5.9254e-02],\n",
              "                        [-7.5367e-02, -6.4190e-02, -7.5980e-02]],\n",
              "              \n",
              "                       [[-3.4500e-02,  6.7679e-02,  3.0131e-02],\n",
              "                        [ 1.5973e-02, -7.1939e-02,  7.6846e-03],\n",
              "                        [-3.1515e-05, -6.7501e-02, -8.3366e-02]],\n",
              "              \n",
              "                       [[-2.6622e-02,  9.8360e-02, -2.7039e-02],\n",
              "                        [ 2.8589e-02, -1.0122e-01,  8.6028e-03],\n",
              "                        [-4.2615e-02,  2.7858e-02, -2.6468e-02]],\n",
              "              \n",
              "                       [[-3.4865e-02, -9.9965e-02, -7.3084e-02],\n",
              "                        [ 1.0281e-02, -6.9551e-03, -6.7640e-02],\n",
              "                        [ 3.7805e-02, -9.3797e-02,  1.0120e-01]],\n",
              "              \n",
              "                       [[-9.8121e-03, -3.9112e-02,  7.5993e-02],\n",
              "                        [-1.6439e-02, -7.4257e-02,  4.3015e-02],\n",
              "                        [ 3.8888e-02,  6.2708e-02,  6.6682e-02]],\n",
              "              \n",
              "                       [[-2.7720e-02, -1.5268e-02, -6.2630e-02],\n",
              "                        [ 1.0184e-01,  1.0475e-01, -1.0191e-01],\n",
              "                        [ 2.1677e-02, -2.1636e-02, -7.8293e-03]],\n",
              "              \n",
              "                       [[ 8.4739e-02,  9.1615e-03,  9.1100e-03],\n",
              "                        [-3.1571e-02,  2.6328e-02,  6.5824e-02],\n",
              "                        [ 2.1152e-02, -1.0406e-01,  5.8360e-02]]],\n",
              "              \n",
              "              \n",
              "                      [[[-9.9588e-02, -3.8966e-02,  3.0337e-02],\n",
              "                        [-1.0285e-01, -8.3089e-03, -4.5814e-03],\n",
              "                        [-8.0625e-03, -9.2989e-02, -5.2769e-02]],\n",
              "              \n",
              "                       [[-5.6415e-02, -6.0226e-02, -8.9855e-02],\n",
              "                        [-3.8436e-02,  3.8426e-02, -8.4542e-02],\n",
              "                        [ 8.1878e-02, -9.1482e-02,  1.0540e-01]],\n",
              "              \n",
              "                       [[ 6.8256e-02, -5.6067e-02, -5.5717e-02],\n",
              "                        [-9.2120e-02, -9.8757e-02,  5.3691e-02],\n",
              "                        [ 7.2422e-02, -1.2821e-02, -8.0831e-02]],\n",
              "              \n",
              "                       [[ 4.5033e-02, -7.7047e-02,  7.3826e-02],\n",
              "                        [-8.7783e-02, -1.5522e-02, -3.3654e-02],\n",
              "                        [-8.0419e-02,  6.0342e-02,  2.9182e-02]],\n",
              "              \n",
              "                       [[ 1.7503e-03,  3.8633e-02,  2.5118e-02],\n",
              "                        [ 5.6479e-02, -8.3580e-02,  2.4895e-02],\n",
              "                        [ 4.2619e-02,  7.9023e-02,  8.5524e-02]],\n",
              "              \n",
              "                       [[ 1.0135e-01, -6.4554e-02, -4.9480e-02],\n",
              "                        [-2.4954e-02,  7.7698e-02,  1.1058e-03],\n",
              "                        [ 5.0389e-02, -5.3333e-02,  1.2862e-02]],\n",
              "              \n",
              "                       [[-3.4675e-02,  2.9411e-02,  7.3582e-02],\n",
              "                        [ 4.6223e-02,  3.1129e-02,  8.1800e-02],\n",
              "                        [ 5.2231e-02,  2.7683e-02, -7.3378e-02]],\n",
              "              \n",
              "                       [[ 1.0865e-02,  8.4237e-02, -1.6666e-02],\n",
              "                        [-7.3125e-02,  4.9379e-03, -7.3901e-02],\n",
              "                        [ 5.3108e-02, -1.6524e-02,  7.8750e-02]],\n",
              "              \n",
              "                       [[ 4.0496e-03,  2.8570e-02,  9.1197e-02],\n",
              "                        [ 9.3213e-02,  6.7682e-02,  9.4771e-02],\n",
              "                        [ 3.1328e-03,  7.9766e-02,  4.0695e-03]],\n",
              "              \n",
              "                       [[-1.5125e-02,  3.8831e-02,  3.0125e-02],\n",
              "                        [-7.1391e-02, -7.0140e-02,  5.0194e-02],\n",
              "                        [-2.1206e-02,  3.9207e-02,  8.6808e-02]]],\n",
              "              \n",
              "              \n",
              "                      [[[ 6.2116e-02, -6.9617e-02, -1.8348e-02],\n",
              "                        [ 2.9212e-02, -7.3189e-02, -9.2384e-02],\n",
              "                        [-4.3127e-02,  9.4413e-02, -5.3179e-02]],\n",
              "              \n",
              "                       [[ 8.3456e-02,  6.5730e-02,  8.2685e-03],\n",
              "                        [ 6.9416e-02, -2.0364e-02,  9.5041e-02],\n",
              "                        [-6.2121e-02,  8.9536e-02,  1.0078e-01]],\n",
              "              \n",
              "                       [[ 6.0225e-02,  6.4598e-02,  2.0575e-02],\n",
              "                        [-1.1353e-02,  3.1230e-03,  4.7347e-02],\n",
              "                        [ 2.2148e-02, -7.2086e-02, -7.8986e-02]],\n",
              "              \n",
              "                       [[-8.2510e-02,  1.0393e-01, -5.6513e-02],\n",
              "                        [-4.3979e-04, -2.2319e-02,  7.5305e-02],\n",
              "                        [-1.7233e-02,  1.0159e-01, -6.9619e-02]],\n",
              "              \n",
              "                       [[ 1.6460e-02,  8.1954e-02,  7.9263e-02],\n",
              "                        [ 3.7310e-02,  7.1277e-02, -3.8515e-02],\n",
              "                        [-4.2295e-03,  4.8133e-02, -2.1055e-02]],\n",
              "              \n",
              "                       [[ 5.9651e-02,  4.0390e-02, -7.4700e-03],\n",
              "                        [-6.1144e-03, -5.6006e-02, -1.0069e-01],\n",
              "                        [ 1.0480e-01, -7.5848e-02, -5.6571e-02]],\n",
              "              \n",
              "                       [[-4.7024e-02, -5.1794e-02, -6.1071e-03],\n",
              "                        [ 9.0120e-02,  7.5662e-02, -1.3077e-02],\n",
              "                        [-7.7744e-02,  5.2316e-02,  2.6126e-02]],\n",
              "              \n",
              "                       [[-9.5128e-02,  5.1279e-02, -7.9984e-02],\n",
              "                        [ 2.1159e-02,  2.7377e-02,  1.0014e-01],\n",
              "                        [-6.0083e-02, -1.3147e-02,  2.4997e-02]],\n",
              "              \n",
              "                       [[-4.3451e-02, -5.6964e-02, -1.0003e-01],\n",
              "                        [-9.2766e-02, -4.1560e-03,  3.0457e-02],\n",
              "                        [ 2.4554e-03, -1.8194e-02,  6.6373e-03]],\n",
              "              \n",
              "                       [[ 5.5031e-02,  9.7771e-02,  6.9816e-02],\n",
              "                        [ 4.5333e-02,  1.0424e-01,  1.3089e-02],\n",
              "                        [-9.8261e-02, -6.2386e-03, -5.2822e-02]]],\n",
              "              \n",
              "              \n",
              "                      [[[ 2.1652e-02,  7.8598e-02, -2.9893e-02],\n",
              "                        [ 5.8916e-02, -2.9853e-02,  1.3342e-03],\n",
              "                        [-3.7446e-02,  9.4138e-02,  5.6645e-02]],\n",
              "              \n",
              "                       [[-8.5584e-02,  8.8006e-02,  8.5948e-02],\n",
              "                        [-5.6343e-02,  8.4288e-02, -7.8717e-02],\n",
              "                        [-4.0691e-03, -9.1921e-02, -1.8562e-03]],\n",
              "              \n",
              "                       [[-1.0191e-01,  2.3054e-03, -8.6751e-02],\n",
              "                        [-2.1237e-02, -1.6866e-02, -1.0904e-02],\n",
              "                        [-2.9519e-02,  8.6937e-02,  8.1983e-02]],\n",
              "              \n",
              "                       [[ 1.2896e-02, -4.5397e-02, -2.2915e-02],\n",
              "                        [ 1.0120e-01,  4.1681e-02,  4.8422e-02],\n",
              "                        [ 4.6830e-02,  8.6531e-02, -7.0663e-02]],\n",
              "              \n",
              "                       [[ 3.9617e-04,  9.3556e-04, -1.9407e-02],\n",
              "                        [ 2.8793e-02, -6.1650e-02,  8.6211e-02],\n",
              "                        [ 7.8671e-02,  7.9410e-02, -8.6252e-03]],\n",
              "              \n",
              "                       [[ 6.4087e-02, -7.0611e-02,  4.5539e-02],\n",
              "                        [ 3.9419e-02, -4.6959e-03,  6.9936e-02],\n",
              "                        [-8.7393e-02,  3.4336e-02, -1.2594e-02]],\n",
              "              \n",
              "                       [[ 4.9563e-02, -8.0248e-02, -8.7318e-02],\n",
              "                        [ 4.6629e-02,  1.6326e-02,  1.0492e-01],\n",
              "                        [-2.6566e-03,  8.1098e-02, -8.5082e-02]],\n",
              "              \n",
              "                       [[ 3.8280e-02,  9.1610e-02,  3.8048e-03],\n",
              "                        [-7.0242e-02, -7.0006e-02, -1.0160e-01],\n",
              "                        [-7.1256e-02, -8.6356e-02,  2.7493e-02]],\n",
              "              \n",
              "                       [[ 5.6809e-02, -5.4944e-02, -5.3762e-02],\n",
              "                        [ 3.0726e-02, -4.2360e-02, -5.1178e-02],\n",
              "                        [ 8.4504e-02,  4.7281e-02,  7.8485e-02]],\n",
              "              \n",
              "                       [[-9.8029e-02,  3.2254e-02, -6.1775e-02],\n",
              "                        [ 4.7830e-02, -2.4970e-02,  9.5633e-02],\n",
              "                        [-5.2519e-02,  4.6378e-02, -4.5033e-02]]],\n",
              "              \n",
              "              \n",
              "                      [[[-5.9252e-03,  4.5603e-02,  1.2799e-02],\n",
              "                        [ 3.0756e-02, -1.7651e-02,  3.4710e-02],\n",
              "                        [ 5.5839e-02, -1.0407e-01, -2.7608e-02]],\n",
              "              \n",
              "                       [[ 6.7059e-02, -3.6063e-02, -7.3700e-02],\n",
              "                        [ 4.1896e-02, -7.5978e-02, -4.7522e-02],\n",
              "                        [ 5.7710e-02, -8.1696e-02,  1.0424e-01]],\n",
              "              \n",
              "                       [[ 6.0555e-02,  9.4604e-02, -8.2577e-02],\n",
              "                        [ 9.7934e-02, -7.0555e-02,  7.8951e-02],\n",
              "                        [-4.7164e-02,  4.4030e-02,  4.4606e-02]],\n",
              "              \n",
              "                       [[ 2.5095e-02,  3.9561e-02, -4.2966e-02],\n",
              "                        [-7.4693e-02, -5.1295e-02, -6.9373e-02],\n",
              "                        [-2.0121e-02,  1.9533e-03, -1.4001e-02]],\n",
              "              \n",
              "                       [[-1.3366e-02, -5.3216e-02, -2.3307e-02],\n",
              "                        [ 3.0780e-02, -4.8471e-02,  2.6141e-02],\n",
              "                        [ 4.1568e-03,  5.2289e-02,  7.5303e-02]],\n",
              "              \n",
              "                       [[-7.1431e-02,  9.6315e-03, -8.2780e-02],\n",
              "                        [-9.9434e-02, -2.5509e-02,  2.8377e-02],\n",
              "                        [-6.5895e-02, -9.4131e-02,  2.7284e-02]],\n",
              "              \n",
              "                       [[ 1.0232e-01, -7.0789e-02, -4.2159e-02],\n",
              "                        [ 6.9306e-03, -7.4365e-02, -9.4175e-03],\n",
              "                        [ 2.3057e-02, -2.8174e-02,  4.9350e-03]],\n",
              "              \n",
              "                       [[-7.1962e-03,  2.8844e-03,  1.4778e-02],\n",
              "                        [ 7.8462e-02, -9.0204e-02,  3.6639e-02],\n",
              "                        [-2.1092e-02, -4.8111e-02, -7.0677e-02]],\n",
              "              \n",
              "                       [[ 3.3830e-04,  6.9574e-02, -4.8887e-02],\n",
              "                        [-1.1214e-02, -4.9845e-02, -4.5183e-02],\n",
              "                        [ 8.8831e-02,  2.9182e-02,  2.2790e-02]],\n",
              "              \n",
              "                       [[-2.0616e-03, -1.6097e-02, -9.7213e-02],\n",
              "                        [-8.3071e-04,  3.2670e-02,  9.7162e-02],\n",
              "                        [ 1.9257e-02,  8.4534e-02,  4.5225e-02]]],\n",
              "              \n",
              "              \n",
              "                      [[[ 7.5614e-03, -4.0347e-02,  9.9140e-02],\n",
              "                        [-8.9218e-02,  7.3110e-02,  6.4152e-02],\n",
              "                        [-9.1815e-02,  1.0118e-01, -4.6982e-02]],\n",
              "              \n",
              "                       [[ 2.4862e-02, -2.9420e-02, -2.6655e-02],\n",
              "                        [ 2.7506e-02, -6.5497e-02, -2.8607e-02],\n",
              "                        [ 6.9435e-03,  9.9209e-02, -6.5189e-02]],\n",
              "              \n",
              "                       [[ 2.1417e-02,  1.6143e-02, -8.6025e-02],\n",
              "                        [-8.9295e-02,  5.7855e-02, -2.5581e-02],\n",
              "                        [-7.5157e-02, -2.5621e-02, -2.0608e-02]],\n",
              "              \n",
              "                       [[-5.1857e-02,  4.8493e-02, -8.8396e-02],\n",
              "                        [ 3.7037e-02,  2.4009e-02,  8.1481e-02],\n",
              "                        [-3.4675e-02, -5.5702e-02, -6.1225e-03]],\n",
              "              \n",
              "                       [[ 6.5058e-02,  6.8809e-02,  7.3983e-02],\n",
              "                        [ 9.0319e-03, -2.5901e-02,  7.2532e-04],\n",
              "                        [ 1.8184e-02,  4.3431e-02, -9.0802e-02]],\n",
              "              \n",
              "                       [[ 7.4087e-02,  9.0288e-02,  3.7902e-02],\n",
              "                        [-8.5876e-02, -1.5636e-02, -9.5906e-03],\n",
              "                        [ 8.0896e-02, -6.4368e-02, -8.9941e-02]],\n",
              "              \n",
              "                       [[ 7.4700e-03, -8.9368e-02, -1.0285e-01],\n",
              "                        [ 7.3249e-02,  6.5527e-02,  5.3189e-02],\n",
              "                        [-9.4170e-02, -7.6080e-02, -1.0091e-01]],\n",
              "              \n",
              "                       [[-4.4017e-02, -1.5518e-02,  2.4352e-02],\n",
              "                        [ 2.1046e-02, -8.2531e-02, -3.5027e-02],\n",
              "                        [-9.5587e-02,  7.8472e-02,  7.6508e-03]],\n",
              "              \n",
              "                       [[-4.9197e-02,  2.0435e-02, -5.9730e-02],\n",
              "                        [ 1.6247e-02,  4.7570e-02, -3.4533e-02],\n",
              "                        [-5.8022e-02,  8.1295e-02, -9.7436e-02]],\n",
              "              \n",
              "                       [[ 3.3331e-02,  3.5057e-03,  8.3066e-02],\n",
              "                        [ 1.5117e-02,  3.0161e-02, -4.1563e-02],\n",
              "                        [-9.0062e-02,  4.8949e-02, -5.7427e-02]]],\n",
              "              \n",
              "              \n",
              "                      [[[-1.1645e-02,  4.3976e-02, -9.5417e-02],\n",
              "                        [ 9.5502e-02,  2.5724e-02, -5.3508e-02],\n",
              "                        [-1.6683e-02, -4.0393e-02,  1.9286e-02]],\n",
              "              \n",
              "                       [[-8.1734e-02,  2.5361e-02, -1.6614e-02],\n",
              "                        [-1.0354e-02, -6.4885e-02,  9.2526e-02],\n",
              "                        [ 1.9131e-03,  3.2796e-02, -6.5397e-02]],\n",
              "              \n",
              "                       [[ 9.2183e-02, -3.4828e-02,  4.4399e-02],\n",
              "                        [ 1.4433e-02, -5.7163e-02, -4.8677e-02],\n",
              "                        [ 9.3166e-02,  4.3158e-02,  5.7697e-02]],\n",
              "              \n",
              "                       [[ 1.0032e-01,  1.0879e-02, -3.8430e-02],\n",
              "                        [ 1.7684e-02,  4.3474e-02,  3.3214e-02],\n",
              "                        [-2.1027e-02,  3.9585e-02,  4.4828e-02]],\n",
              "              \n",
              "                       [[-7.9663e-02, -1.0635e-03,  5.5681e-02],\n",
              "                        [ 1.3246e-02, -1.7770e-02,  1.0497e-01],\n",
              "                        [-5.0359e-02, -3.2681e-02,  1.0346e-01]],\n",
              "              \n",
              "                       [[ 4.3593e-02, -7.2888e-02, -2.4967e-02],\n",
              "                        [-2.0142e-02, -2.5314e-02, -9.6417e-02],\n",
              "                        [-6.4067e-02,  6.2776e-02,  7.4651e-02]],\n",
              "              \n",
              "                       [[ 4.4361e-02, -4.2984e-02,  9.4827e-02],\n",
              "                        [ 2.8485e-02, -3.3169e-02,  4.7950e-02],\n",
              "                        [ 6.9231e-02,  8.6726e-02,  7.7785e-02]],\n",
              "              \n",
              "                       [[-1.8643e-02, -8.2339e-02, -1.5057e-02],\n",
              "                        [-2.6138e-02, -1.7806e-02, -8.0254e-02],\n",
              "                        [-6.4330e-02,  7.2892e-02,  1.5051e-02]],\n",
              "              \n",
              "                       [[-1.0534e-01,  6.2894e-02,  6.7609e-02],\n",
              "                        [-7.8701e-02,  3.2003e-02,  6.7448e-04],\n",
              "                        [-4.4611e-02, -8.8394e-02, -3.7781e-02]],\n",
              "              \n",
              "                       [[-1.0147e-01,  5.1175e-02, -4.5756e-02],\n",
              "                        [-2.7527e-02,  4.0123e-02,  2.4278e-02],\n",
              "                        [ 6.3493e-02, -8.2219e-02,  2.5085e-02]]],\n",
              "              \n",
              "              \n",
              "                      [[[-4.9545e-02, -3.8374e-02,  8.2685e-02],\n",
              "                        [-7.3866e-02, -5.6537e-02, -3.4640e-02],\n",
              "                        [ 1.3900e-02, -1.0043e-01,  5.8101e-02]],\n",
              "              \n",
              "                       [[ 6.3460e-02,  5.3592e-02, -5.1619e-02],\n",
              "                        [ 1.4920e-02,  8.4540e-02,  7.7320e-02],\n",
              "                        [ 2.5618e-02, -7.7486e-03, -8.9919e-02]],\n",
              "              \n",
              "                       [[ 2.7964e-02,  6.8969e-02,  6.8978e-02],\n",
              "                        [-9.3841e-02, -9.3910e-03,  2.6407e-02],\n",
              "                        [ 3.2845e-02,  4.2838e-02, -6.6863e-02]],\n",
              "              \n",
              "                       [[ 7.7274e-02, -3.5400e-02,  8.5632e-02],\n",
              "                        [-2.5376e-02, -5.3776e-02, -7.8342e-03],\n",
              "                        [ 5.2190e-02,  9.7081e-02, -1.0010e-01]],\n",
              "              \n",
              "                       [[ 6.4060e-02, -7.8951e-02,  7.9145e-02],\n",
              "                        [-3.3953e-02,  1.7327e-04,  3.1812e-02],\n",
              "                        [ 7.2920e-02, -9.5982e-03, -1.9153e-02]],\n",
              "              \n",
              "                       [[ 1.0319e-01, -2.8441e-02, -3.6461e-03],\n",
              "                        [ 7.3910e-02, -7.9883e-02,  7.2710e-02],\n",
              "                        [-1.6374e-02, -8.9229e-02,  1.4911e-02]],\n",
              "              \n",
              "                       [[-6.6026e-02, -9.5966e-02, -3.2972e-02],\n",
              "                        [ 1.1078e-02, -2.0000e-02, -7.7768e-02],\n",
              "                        [ 8.4553e-03,  1.1259e-02, -1.9016e-02]],\n",
              "              \n",
              "                       [[-6.4956e-02,  8.7420e-03, -4.7668e-02],\n",
              "                        [ 3.7396e-02,  4.8871e-02, -7.6620e-02],\n",
              "                        [ 6.4623e-02,  2.7561e-02,  1.0472e-01]],\n",
              "              \n",
              "                       [[ 6.0873e-02, -4.9126e-02,  9.6204e-02],\n",
              "                        [-6.3889e-02,  2.1849e-02, -7.8267e-02],\n",
              "                        [ 6.7508e-02,  5.1209e-02, -6.6451e-02]],\n",
              "              \n",
              "                       [[-4.7273e-03,  9.0488e-02, -5.5842e-02],\n",
              "                        [ 1.0389e-01, -4.7742e-02, -1.0472e-01],\n",
              "                        [ 9.1165e-02, -1.0667e-02,  2.0007e-02]]],\n",
              "              \n",
              "              \n",
              "                      [[[ 4.2330e-02,  7.4192e-02,  4.2418e-02],\n",
              "                        [-2.9177e-02, -3.1358e-02, -2.3442e-02],\n",
              "                        [ 1.6922e-02, -9.5813e-03,  7.8376e-03]],\n",
              "              \n",
              "                       [[ 1.6075e-02,  7.4356e-02,  2.6528e-02],\n",
              "                        [ 6.8977e-02,  4.7765e-02,  7.8492e-02],\n",
              "                        [ 2.3773e-02,  1.0311e-01, -8.4534e-02]],\n",
              "              \n",
              "                       [[ 4.2997e-02, -1.0383e-01,  5.8995e-02],\n",
              "                        [ 8.9183e-02,  5.9590e-02, -3.2773e-02],\n",
              "                        [ 4.5284e-02, -4.5242e-02, -1.7357e-02]],\n",
              "              \n",
              "                       [[-6.5041e-02, -6.5056e-02,  4.4218e-02],\n",
              "                        [ 7.2773e-02, -6.5588e-02, -3.7291e-02],\n",
              "                        [ 9.9450e-02, -3.3946e-02,  9.4365e-02]],\n",
              "              \n",
              "                       [[ 2.8510e-02,  1.0035e-01, -4.6580e-02],\n",
              "                        [-4.1847e-02,  2.8441e-02, -5.3093e-02],\n",
              "                        [ 5.7197e-02,  9.4459e-02, -9.3399e-02]],\n",
              "              \n",
              "                       [[ 5.8799e-02,  1.3801e-02, -8.0388e-02],\n",
              "                        [-6.9755e-02,  2.2732e-02, -9.5516e-02],\n",
              "                        [ 4.4661e-02, -1.6857e-02, -8.4228e-02]],\n",
              "              \n",
              "                       [[ 9.0374e-03,  8.9639e-02,  5.0215e-02],\n",
              "                        [ 8.4983e-02,  7.1743e-02, -9.7581e-02],\n",
              "                        [ 7.8435e-02, -1.6641e-02,  8.4182e-02]],\n",
              "              \n",
              "                       [[-8.1001e-02,  2.2795e-02, -2.8021e-02],\n",
              "                        [-7.7265e-02,  1.7034e-03, -4.3470e-02],\n",
              "                        [ 7.2924e-02,  1.6971e-02, -1.5121e-02]],\n",
              "              \n",
              "                       [[-4.4941e-02,  8.5026e-02, -1.7426e-02],\n",
              "                        [ 7.0354e-02, -3.2109e-02,  7.3010e-02],\n",
              "                        [-5.7743e-02,  4.5114e-02,  1.4657e-02]],\n",
              "              \n",
              "                       [[ 7.4991e-02,  5.1307e-02,  5.5216e-02],\n",
              "                        [-8.5052e-02,  8.7544e-02, -2.0031e-02],\n",
              "                        [ 4.3531e-02,  1.0104e-01, -3.1262e-02]]]])),\n",
              "             ('conv_block_2.2.bias',\n",
              "              tensor([ 0.1043,  0.0364,  0.0918, -0.0029,  0.0367,  0.0639, -0.0475,  0.0685,\n",
              "                       0.0602, -0.0293])),\n",
              "             ('classifier.1.weight',\n",
              "              tensor([[-0.0125,  0.0401,  0.0061,  ..., -0.0061,  0.0357, -0.0102],\n",
              "                      [ 0.0196, -0.0364, -0.0447,  ..., -0.0240, -0.0287, -0.0049],\n",
              "                      [ 0.0231,  0.0403,  0.0366,  ...,  0.0050,  0.0225,  0.0093],\n",
              "                      ...,\n",
              "                      [-0.0120, -0.0395,  0.0299,  ..., -0.0195, -0.0182,  0.0151],\n",
              "                      [ 0.0266, -0.0160, -0.0434,  ..., -0.0086,  0.0084,  0.0385],\n",
              "                      [ 0.0409,  0.0334, -0.0163,  ...,  0.0435,  0.0124,  0.0214]])),\n",
              "             ('classifier.1.bias',\n",
              "              tensor([ 0.0129,  0.0260, -0.0302, -0.0100, -0.0173, -0.0416,  0.0446,  0.0303,\n",
              "                       0.0415, -0.0026]))])"
            ]
          },
          "metadata": {},
          "execution_count": 17
        }
      ]
    },
    {
      "cell_type": "code",
      "source": [
        "# Try a dummy forward pass to see what shapes our data is\n",
        "dummy_x = torch.rand(size = (1, 28, 28)).unsqueeze(dim = 0).to(device)\n",
        "model_1(dummy_x)"
      ],
      "metadata": {
        "colab": {
          "base_uri": "https://localhost:8080/"
        },
        "id": "aW7cuoYHhXVm",
        "outputId": "56c8bfdb-22fc-4356-a481-9134592735bb"
      },
      "execution_count": 18,
      "outputs": [
        {
          "output_type": "execute_result",
          "data": {
            "text/plain": [
              "tensor([[-0.0585,  0.0240,  0.0404, -0.0733, -0.0098, -0.0023,  0.0411,  0.0488,\n",
              "          0.0515,  0.0086]], grad_fn=<AddmmBackward0>)"
            ]
          },
          "metadata": {},
          "execution_count": 18
        }
      ]
    },
    {
      "cell_type": "code",
      "source": [
        "dummy_x_2 = torch.rand(size = [1, 10, 7, 7])\n",
        "dummy_x_2.shape"
      ],
      "metadata": {
        "colab": {
          "base_uri": "https://localhost:8080/"
        },
        "id": "Yxfur1WdhwWG",
        "outputId": "8db25795-54ef-4e49-b32a-f3f5048395e7"
      },
      "execution_count": 19,
      "outputs": [
        {
          "output_type": "execute_result",
          "data": {
            "text/plain": [
              "torch.Size([1, 10, 7, 7])"
            ]
          },
          "metadata": {},
          "execution_count": 19
        }
      ]
    },
    {
      "cell_type": "code",
      "source": [
        "flatten_layer = nn.Flatten()\n",
        "flatten_layer(dummy_x_2).shape"
      ],
      "metadata": {
        "colab": {
          "base_uri": "https://localhost:8080/"
        },
        "id": "gI7LLQKlh5cm",
        "outputId": "d70496ca-6a16-44ba-d9d2-2e05d4606e34"
      },
      "execution_count": 20,
      "outputs": [
        {
          "output_type": "execute_result",
          "data": {
            "text/plain": [
              "torch.Size([1, 490])"
            ]
          },
          "metadata": {},
          "execution_count": 20
        }
      ]
    },
    {
      "cell_type": "code",
      "source": [
        "%%time\n",
        "from tqdm.auto import tqdm\n",
        "\n",
        "loss_fn = nn.CrossEntropyLoss()\n",
        "optimizer = torch.optim.SGD(params = model_1.parameters(),\n",
        "                            lr = 0.1)\n",
        "\n",
        "# Training loop\n",
        "epochs = 5\n",
        "for epoch in tqdm(range(epochs)):\n",
        "  train_loss = 0\n",
        "  model_1.train()\n",
        "\n",
        "  for batch, (X, y) in enumerate(train_dataloader):\n",
        "    X, y = X.to(device), y.to(device)\n",
        "\n",
        "    # Forward pass\n",
        "    y_pred = model_1(X)\n",
        "\n",
        "    # Loss\n",
        "    loss = loss_fn(y_pred, y)\n",
        "    train_loss += loss\n",
        "\n",
        "    # Optimizer zero grad\n",
        "    optimizer.zero_grad()\n",
        "\n",
        "    # Loss backward\n",
        "    loss.backward()\n",
        "\n",
        "    # Optimizer step\n",
        "    optimizer.step()\n",
        "\n",
        "  # Adjust the train loss to number of batches\n",
        "  train_loss /= len(train_dataloader)\n",
        "\n",
        "  ## Testing Loop\n",
        "  test_loss_total = 0\n",
        "  # Put the model into eval mode\n",
        "  model_1.eval()\n",
        "  with torch.inference_mode():\n",
        "    for batch, (X_test, y_test) in enumerate(test_dataloader):\n",
        "      X_test, y_test = X_test.to(device), y_test.to(device)\n",
        "\n",
        "      test_pred = model_1(X_test)\n",
        "      test_loss = loss_fn(test_pred, y_test)\n",
        "\n",
        "      test_loss_total += test_loss\n",
        "\n",
        "    test_loss_total /= len(test_dataloader)\n",
        "\n",
        "  print(f\"Epoch: {epoch} | Loss: {train_loss:.3f} | Test loss: {test_loss_total:.3f}\")"
      ],
      "metadata": {
        "colab": {
          "base_uri": "https://localhost:8080/",
          "height": 171,
          "referenced_widgets": [
            "209d5172edf94841a5ac7685d8c41d53",
            "ad20493d744c4502a9bf7169baad328d",
            "db3c23c477e54accb71d0b5417df032a",
            "03cea06f8fc9447586b21a0ee13b382e",
            "fabf1edc55484f9ab7cf75c43dfcd9ca",
            "8969ca8418294616bbf9b0e2333bc95b",
            "23f1d551387645d68e9c32dfc7d077d2",
            "30f75076491a4b3b8f6c4463eab8a95f",
            "62ded3b70c064db08668915876eee5d1",
            "be6d74c00caa4d0f88e8cd524f3f5ac4",
            "8fa19efe5b2949d78926e59dab55669c"
          ]
        },
        "id": "8nP0Us4_iJ6e",
        "outputId": "8dff8fe6-6b69-4e7e-f56e-6d1cfa793f19"
      },
      "execution_count": 21,
      "outputs": [
        {
          "output_type": "display_data",
          "data": {
            "text/plain": [
              "  0%|          | 0/5 [00:00<?, ?it/s]"
            ],
            "application/vnd.jupyter.widget-view+json": {
              "version_major": 2,
              "version_minor": 0,
              "model_id": "209d5172edf94841a5ac7685d8c41d53"
            }
          },
          "metadata": {}
        },
        {
          "output_type": "stream",
          "name": "stdout",
          "text": [
            "Epoch: 0 | Loss: 0.308 | Test loss: 0.067\n",
            "Epoch: 1 | Loss: 0.073 | Test loss: 0.055\n",
            "Epoch: 2 | Loss: 0.057 | Test loss: 0.042\n",
            "Epoch: 3 | Loss: 0.049 | Test loss: 0.038\n",
            "Epoch: 4 | Loss: 0.044 | Test loss: 0.038\n",
            "CPU times: user 4min 40s, sys: 2.39 s, total: 4min 43s\n",
            "Wall time: 4min 45s\n"
          ]
        }
      ]
    },
    {
      "cell_type": "markdown",
      "source": [
        "###**Make predictions using your trained model and visualize at least 5 of them comparing the prediciton to the target label.**"
      ],
      "metadata": {
        "id": "XftUXpMwsjcD"
      }
    },
    {
      "cell_type": "code",
      "source": [
        "# Make predictions with the trained model\n",
        "plt.imshow(test_data[0][0].squeeze(), cmap = 'gray')"
      ],
      "metadata": {
        "colab": {
          "base_uri": "https://localhost:8080/",
          "height": 447
        },
        "id": "HpmF8xC-rq_v",
        "outputId": "371f18af-d58c-49ef-ccfd-848c545328d7"
      },
      "execution_count": 22,
      "outputs": [
        {
          "output_type": "execute_result",
          "data": {
            "text/plain": [
              "<matplotlib.image.AxesImage at 0x790582433220>"
            ]
          },
          "metadata": {},
          "execution_count": 22
        },
        {
          "output_type": "display_data",
          "data": {
            "text/plain": [
              "<Figure size 640x480 with 1 Axes>"
            ],
            "image/png": "[encoded data removed]"
          },
          "metadata": {}
        }
      ]
    },
    {
      "cell_type": "code",
      "source": [
        "# Logits -> Prediction probabilities -> Prediction labels\n",
        "model_pred_logits = model_1(test_data[0][0].unsqueeze(dim = 0).to(device))\n",
        "model_pred_probs = torch.softmax(model_pred_logits, dim = 1)\n",
        "model_pred_labels = torch.argmax(model_pred_probs, dim = 1)\n",
        "model_pred_labels"
      ],
      "metadata": {
        "colab": {
          "base_uri": "https://localhost:8080/"
        },
        "id": "Jxi27T7mssau",
        "outputId": "f32e1fb7-deb1-4739-8fe3-20bef1e32650"
      },
      "execution_count": 23,
      "outputs": [
        {
          "output_type": "execute_result",
          "data": {
            "text/plain": [
              "tensor([7])"
            ]
          },
          "metadata": {},
          "execution_count": 23
        }
      ]
    },
    {
      "cell_type": "code",
      "source": [
        "plt.imshow(test_data[0][0].squeeze(), cmap = 'gray')\n",
        "plt.title(f'Prediction: {model_pred_labels.item()}')"
      ],
      "metadata": {
        "colab": {
          "base_uri": "https://localhost:8080/",
          "height": 469
        },
        "id": "sEfyDl9OtDLP",
        "outputId": "fc0794c0-0470-41b9-91ff-e670df36ea61"
      },
      "execution_count": 24,
      "outputs": [
        {
          "output_type": "execute_result",
          "data": {
            "text/plain": [
              "Text(0.5, 1.0, 'Prediction: 7')"
            ]
          },
          "metadata": {},
          "execution_count": 24
        },
        {
          "output_type": "display_data",
          "data": {
            "text/plain": [
              "<Figure size 640x480 with 1 Axes>"
            ],
            "image/png": "[encoded data removed]"
          },
          "metadata": {}
        }
      ]
    },
    {
      "cell_type": "code",
      "source": [
        "num_to_plot = 5\n",
        "for i in range(num_to_plot):\n",
        "  # Get image and labels from the test data\n",
        "  img = test_data[i][0]\n",
        "  label = test_data[i][1]\n",
        "\n",
        "  # Make prediction on image\n",
        "  model_pred_logits = model_1(img.unsqueeze(dim = 0).to(device))\n",
        "  model_pred_probs = torch.softmax(model_pred_logits, dim = 1)\n",
        "  model_pred_labels = torch.argmax(model_pred_probs, dim = 1)\n",
        "\n",
        "  # Plot the image and prediction\n",
        "  plt.figure()\n",
        "  plt.imshow(img.squeeze(), cmap = 'gray')\n",
        "  plt.title(f'Truth: {label} | Pred: {model_pred_labels.cpu().item()}')\n",
        "  plt.axis(False);"
      ],
      "metadata": {
        "colab": {
          "base_uri": "https://localhost:8080/",
          "height": 1000
        },
        "id": "zRNXNb8otNCu",
        "outputId": "615fc891-374b-46d7-b435-4960ca0709a1"
      },
      "execution_count": 25,
      "outputs": [
        {
          "output_type": "display_data",
          "data": {
            "text/plain": [
              "<Figure size 640x480 with 1 Axes>"
            ],
            "image/png": "[encoded data removed]"
          },
          "metadata": {}
        },
        {
          "output_type": "display_data",
          "data": {
            "text/plain": [
              "<Figure size 640x480 with 1 Axes>"
            ],
            "image/png": "[encoded data removed]"
          },
          "metadata": {}
        },
        {
          "output_type": "display_data",
          "data": {
            "text/plain": [
              "<Figure size 640x480 with 1 Axes>"
            ],
            "image/png": "[encoded data removed]"
          },
          "metadata": {}
        },
        {
          "output_type": "display_data",
          "data": {
            "text/plain": [
              "<Figure size 640x480 with 1 Axes>"
            ],
            "image/png": "[encoded data removed]"
          },
          "metadata": {}
        },
        {
          "output_type": "display_data",
          "data": {
            "text/plain": [
              "<Figure size 640x480 with 1 Axes>"
            ],
            "image/png": "[encoded data removed]"
          },
          "metadata": {}
        }
      ]
    },
    {
      "cell_type": "markdown",
      "source": [
        "###**Plot a confusion matrix comparing your model's predictions to the truth labels.**"
      ],
      "metadata": {
        "id": "p7zt43FJuVkB"
      }
    },
    {
      "cell_type": "code",
      "source": [
        "!pip install -q torchmetrics -U mlxtend"
      ],
      "metadata": {
        "colab": {
          "base_uri": "https://localhost:8080/"
        },
        "id": "Ka521DWFuR8P",
        "outputId": "9b440464-b887-458e-df57-a4831bda4eaa"
      },
      "execution_count": 28,
      "outputs": [
        {
          "output_type": "stream",
          "name": "stdout",
          "text": [
            "\u001b[2K     \u001b[90m━━━━━━━━━━━━━━━━━━━━━━━━━━━━━━━━━━━━━━━━\u001b[0m \u001b[32m841.5/841.5 kB\u001b[0m \u001b[31m3.6 MB/s\u001b[0m eta \u001b[36m0:00:00\u001b[0m\n",
            "\u001b[2K     \u001b[90m━━━━━━━━━━━━━━━━━━━━━━━━━━━━━━━━━━━━━━━━\u001b[0m \u001b[32m1.4/1.4 MB\u001b[0m \u001b[31m6.3 MB/s\u001b[0m eta \u001b[36m0:00:00\u001b[0m\n",
            "\u001b[2K     \u001b[90m━━━━━━━━━━━━━━━━━━━━━━━━━━━━━━━━━━━━━━━━\u001b[0m \u001b[32m23.7/23.7 MB\u001b[0m \u001b[31m15.8 MB/s\u001b[0m eta \u001b[36m0:00:00\u001b[0m\n",
            "\u001b[2K     \u001b[90m━━━━━━━━━━━━━━━━━━━━━━━━━━━━━━━━━━━━━━━━\u001b[0m \u001b[32m823.6/823.6 kB\u001b[0m \u001b[31m14.9 MB/s\u001b[0m eta \u001b[36m0:00:00\u001b[0m\n",
            "\u001b[2K     \u001b[90m━━━━━━━━━━━━━━━━━━━━━━━━━━━━━━━━━━━━━━━━\u001b[0m \u001b[32m14.1/14.1 MB\u001b[0m \u001b[31m20.2 MB/s\u001b[0m eta \u001b[36m0:00:00\u001b[0m\n",
            "\u001b[2K     \u001b[90m━━━━━━━━━━━━━━━━━━━━━━━━━━━━━━━━━━━━━━━━\u001b[0m \u001b[32m731.7/731.7 MB\u001b[0m \u001b[31m1.5 MB/s\u001b[0m eta \u001b[36m0:00:00\u001b[0m\n",
            "\u001b[2K     \u001b[90m━━━━━━━━━━━━━━━━━━━━━━━━━━━━━━━━━━━━━━━━\u001b[0m \u001b[32m410.6/410.6 MB\u001b[0m \u001b[31m2.1 MB/s\u001b[0m eta \u001b[36m0:00:00\u001b[0m\n",
            "\u001b[2K     \u001b[90m━━━━━━━━━━━━━━━━━━━━━━━━━━━━━━━━━━━━━━━━\u001b[0m \u001b[32m121.6/121.6 MB\u001b[0m \u001b[31m7.5 MB/s\u001b[0m eta \u001b[36m0:00:00\u001b[0m\n",
            "\u001b[2K     \u001b[90m━━━━━━━━━━━━━━━━━━━━━━━━━━━━━━━━━━━━━━━━\u001b[0m \u001b[32m56.5/56.5 MB\u001b[0m \u001b[31m9.9 MB/s\u001b[0m eta \u001b[36m0:00:00\u001b[0m\n",
            "\u001b[2K     \u001b[90m━━━━━━━━━━━━━━━━━━━━━━━━━━━━━━━━━━━━━━━━\u001b[0m \u001b[32m124.2/124.2 MB\u001b[0m \u001b[31m3.1 MB/s\u001b[0m eta \u001b[36m0:00:00\u001b[0m\n",
            "\u001b[2K     \u001b[90m━━━━━━━━━━━━━━━━━━━━━━━━━━━━━━━━━━━━━━━━\u001b[0m \u001b[32m196.0/196.0 MB\u001b[0m \u001b[31m6.1 MB/s\u001b[0m eta \u001b[36m0:00:00\u001b[0m\n",
            "\u001b[2K     \u001b[90m━━━━━━━━━━━━━━━━━━━━━━━━━━━━━━━━━━━━━━━━\u001b[0m \u001b[32m166.0/166.0 MB\u001b[0m \u001b[31m5.5 MB/s\u001b[0m eta \u001b[36m0:00:00\u001b[0m\n",
            "\u001b[2K     \u001b[90m━━━━━━━━━━━━━━━━━━━━━━━━━━━━━━━━━━━━━━━━\u001b[0m \u001b[32m99.1/99.1 kB\u001b[0m \u001b[31m11.1 MB/s\u001b[0m eta \u001b[36m0:00:00\u001b[0m\n",
            "\u001b[2K     \u001b[90m━━━━━━━━━━━━━━━━━━━━━━━━━━━━━━━━━━━━━━━━\u001b[0m \u001b[32m21.1/21.1 MB\u001b[0m \u001b[31m20.4 MB/s\u001b[0m eta \u001b[36m0:00:00\u001b[0m\n",
            "\u001b[?25h"
          ]
        }
      ]
    },
    {
      "cell_type": "code",
      "source": [
        "# Make predictions across all test data\n",
        "from tqdm.auto import tqdm\n",
        "model_1.eval()\n",
        "y_preds = []\n",
        "with torch.inference_mode():\n",
        "  for batch, (X, y) in tqdm(enumerate(test_dataloader)):\n",
        "    X, y = X.to(device), y.to(device)\n",
        "\n",
        "    # Forward pass\n",
        "    y_pred_logits = model_1(X)\n",
        "    # Logits -> Pred probs -> Pred label\n",
        "    y_pred_labels = torch.argmax(torch.softmax(y_pred_logits, dim = 1), dim = 1)\n",
        "    # Append the labels to the preds list\n",
        "    y_preds.append(y_pred_labels)\n",
        "  y_pred = torch.cat(y_preds).cpu()\n",
        "len(y_pred)"
      ],
      "metadata": {
        "colab": {
          "base_uri": "https://localhost:8080/",
          "height": 66,
          "referenced_widgets": [
            "ec6cab6ce03048d3abe4df1b25543063",
            "896bd2f608ff497aaf1c0c67947bde5f",
            "152c3cb72fc6488da04123f0300dda77",
            "f52d56fb81f5478da9d611aa74371fb1",
            "ca66d60986e04532a2fbc155172fa576",
            "0c3990c177ba42bb91fd4bc2af59e4b3",
            "a747745fe0184ab48f870d5c584c8723",
            "80049e40faf147cab08dfdf2304790b8",
            "ad2b2e4a3e1244aab0ace0fa2579f5b1",
            "9694db7dacbb49e7af5b93eb3a7ca1a3",
            "0e7813595a55480ba8dfe3c724489d22"
          ]
        },
        "id": "qhKs08p73z2v",
        "outputId": "f9686f20-0b4f-40f9-bc2f-a1b9d680be97"
      },
      "execution_count": 29,
      "outputs": [
        {
          "output_type": "display_data",
          "data": {
            "text/plain": [
              "0it [00:00, ?it/s]"
            ],
            "application/vnd.jupyter.widget-view+json": {
              "version_major": 2,
              "version_minor": 0,
              "model_id": "ec6cab6ce03048d3abe4df1b25543063"
            }
          },
          "metadata": {}
        },
        {
          "output_type": "execute_result",
          "data": {
            "text/plain": [
              "10000"
            ]
          },
          "metadata": {},
          "execution_count": 29
        }
      ]
    },
    {
      "cell_type": "code",
      "source": [
        "test_data.targets[:10], y_pred[:10]"
      ],
      "metadata": {
        "colab": {
          "base_uri": "https://localhost:8080/"
        },
        "id": "lOMoKEdj7LTm",
        "outputId": "a8ca49be-f3e2-4e51-9077-a05f3286eafe"
      },
      "execution_count": 30,
      "outputs": [
        {
          "output_type": "execute_result",
          "data": {
            "text/plain": [
              "(tensor([7, 2, 1, 0, 4, 1, 4, 9, 5, 9]),\n",
              " tensor([7, 2, 1, 0, 4, 1, 4, 9, 5, 9]))"
            ]
          },
          "metadata": {},
          "execution_count": 30
        }
      ]
    },
    {
      "cell_type": "code",
      "source": [
        "from torchmetrics import ConfusionMatrix\n",
        "from mlxtend.plotting import plot_confusion_matrix\n",
        "\n",
        "# Setup confusion matrix\n",
        "confmat = ConfusionMatrix(task = 'multiclass', num_classes = len(class_names))\n",
        "confmat_tensor = confmat(preds = y_pred,\n",
        "                         target = test_data.targets)\n",
        "\n",
        "# Plot the confusion matrix\n",
        "fig, ax = plot_confusion_matrix(\n",
        "    conf_mat = confmat_tensor.numpy(),\n",
        "    class_names = class_names,\n",
        "    figsize = (10, 7)\n",
        ")"
      ],
      "metadata": {
        "colab": {
          "base_uri": "https://localhost:8080/",
          "height": 660
        },
        "id": "aF3uuHzR7kYG",
        "outputId": "d73a8f96-d0c3-429c-c46c-2b2837e97e08"
      },
      "execution_count": 32,
      "outputs": [
        {
          "output_type": "display_data",
          "data": {
            "text/plain": [
              "<Figure size 1000x700 with 1 Axes>"
            ],
            "image/png": "[encoded data removed]"
          },
          "metadata": {}
        }
      ]
    },
    {
      "cell_type": "markdown",
      "source": [
        "###**Create a random tensor of shape [1, 3, 64, 64] and pass it through a nn.Conv2d() layer with various hyperparameter settings (these can be any settings you choose), what do you notice if the kernel_size parameter goes up and down?**"
      ],
      "metadata": {
        "id": "WbVT2ngL_0OT"
      }
    },
    {
      "cell_type": "code",
      "source": [
        "random_tensor = torch.rand([1, 3, 64, 64])\n",
        "random_tensor.shape"
      ],
      "metadata": {
        "colab": {
          "base_uri": "https://localhost:8080/"
        },
        "id": "LEnL4bR-7m5O",
        "outputId": "49d0ce0f-d71d-40c3-f276-cc5b0fce698f"
      },
      "execution_count": 33,
      "outputs": [
        {
          "output_type": "execute_result",
          "data": {
            "text/plain": [
              "torch.Size([1, 3, 64, 64])"
            ]
          },
          "metadata": {},
          "execution_count": 33
        }
      ]
    },
    {
      "cell_type": "code",
      "source": [
        "conv_layer = nn.Conv2d(in_channels = 3,\n",
        "                       out_channels = 64,\n",
        "                       kernel_size = 3,\n",
        "                       stride = 2,\n",
        "                       padding = 1)\n",
        "print(f\"Random tensor original shape: {random_tensor.shape}\")\n",
        "random_tensor_through_conv_layer = conv_layer(random_tensor)\n",
        "print(f\"Random tensor through conv layer shape: {random_tensor_through_conv_layer.shape}\")"
      ],
      "metadata": {
        "colab": {
          "base_uri": "https://localhost:8080/"
        },
        "id": "hzwo31ySAMSG",
        "outputId": "22eea2f9-6f2f-42ca-f6a7-1689a402b504"
      },
      "execution_count": 34,
      "outputs": [
        {
          "output_type": "stream",
          "name": "stdout",
          "text": [
            "Random tensor original shape: torch.Size([1, 3, 64, 64])\n",
            "Random tensor through conv layer shape: torch.Size([1, 64, 32, 32])\n"
          ]
        }
      ]
    },
    {
      "cell_type": "markdown",
      "source": [
        "###**Trying FashionMNIST dataset on same model**"
      ],
      "metadata": {
        "id": "D69hdA-ZBIgT"
      }
    },
    {
      "cell_type": "code",
      "source": [
        "from torchvision import datasets\n",
        "from torchvision import transforms\n",
        "\n",
        "fashion_mnist_train = datasets.FashionMNIST(root = '.',\n",
        "                                            train = True,\n",
        "                                            download = True,\n",
        "                                            transform = transforms.ToTensor())\n",
        "\n",
        "fashion_mnist_test = datasets.FashionMNIST(root = '.',\n",
        "                                           train = False,\n",
        "                                           download = True,\n",
        "                                           transform = transforms.ToTensor())\n",
        "len(fashion_mnist_train), len(fashion_mnist_test)"
      ],
      "metadata": {
        "colab": {
          "base_uri": "https://localhost:8080/"
        },
        "id": "IpTDK_aoA1SG",
        "outputId": "dd7edfa4-5ccb-4618-abe2-d11e31b864b3"
      },
      "execution_count": 35,
      "outputs": [
        {
          "output_type": "stream",
          "name": "stdout",
          "text": [
            "Downloading http://fashion-mnist.s3-website.eu-central-1.amazonaws.com/train-images-idx3-ubyte.gz\n",
            "Downloading http://fashion-mnist.s3-website.eu-central-1.amazonaws.com/train-images-idx3-ubyte.gz to ./FashionMNIST/raw/train-images-idx3-ubyte.gz\n"
          ]
        },
        {
          "output_type": "stream",
          "name": "stderr",
          "text": [
            "100%|██████████| 26421880/26421880 [00:01<00:00, 13372349.84it/s]\n"
          ]
        },
        {
          "output_type": "stream",
          "name": "stdout",
          "text": [
            "Extracting ./FashionMNIST/raw/train-images-idx3-ubyte.gz to ./FashionMNIST/raw\n",
            "\n",
            "Downloading http://fashion-mnist.s3-website.eu-central-1.amazonaws.com/train-labels-idx1-ubyte.gz\n",
            "Downloading http://fashion-mnist.s3-website.eu-central-1.amazonaws.com/train-labels-idx1-ubyte.gz to ./FashionMNIST/raw/train-labels-idx1-ubyte.gz\n"
          ]
        },
        {
          "output_type": "stream",
          "name": "stderr",
          "text": [
            "100%|██████████| 29515/29515 [00:00<00:00, 271230.78it/s]\n"
          ]
        },
        {
          "output_type": "stream",
          "name": "stdout",
          "text": [
            "Extracting ./FashionMNIST/raw/train-labels-idx1-ubyte.gz to ./FashionMNIST/raw\n",
            "\n",
            "Downloading http://fashion-mnist.s3-website.eu-central-1.amazonaws.com/t10k-images-idx3-ubyte.gz\n",
            "Downloading http://fashion-mnist.s3-website.eu-central-1.amazonaws.com/t10k-images-idx3-ubyte.gz to ./FashionMNIST/raw/t10k-images-idx3-ubyte.gz\n"
          ]
        },
        {
          "output_type": "stream",
          "name": "stderr",
          "text": [
            "100%|██████████| 4422102/4422102 [00:00<00:00, 5076154.78it/s]\n"
          ]
        },
        {
          "output_type": "stream",
          "name": "stdout",
          "text": [
            "Extracting ./FashionMNIST/raw/t10k-images-idx3-ubyte.gz to ./FashionMNIST/raw\n",
            "\n",
            "Downloading http://fashion-mnist.s3-website.eu-central-1.amazonaws.com/t10k-labels-idx1-ubyte.gz\n",
            "Downloading http://fashion-mnist.s3-website.eu-central-1.amazonaws.com/t10k-labels-idx1-ubyte.gz to ./FashionMNIST/raw/t10k-labels-idx1-ubyte.gz\n"
          ]
        },
        {
          "output_type": "stream",
          "name": "stderr",
          "text": [
            "100%|██████████| 5148/5148 [00:00<00:00, 19347918.45it/s]"
          ]
        },
        {
          "output_type": "stream",
          "name": "stdout",
          "text": [
            "Extracting ./FashionMNIST/raw/t10k-labels-idx1-ubyte.gz to ./FashionMNIST/raw\n",
            "\n"
          ]
        },
        {
          "output_type": "stream",
          "name": "stderr",
          "text": [
            "\n"
          ]
        },
        {
          "output_type": "execute_result",
          "data": {
            "text/plain": [
              "(60000, 10000)"
            ]
          },
          "metadata": {},
          "execution_count": 35
        }
      ]
    },
    {
      "cell_type": "code",
      "source": [
        "# Get the class names of the Fashion MNIST dataset\n",
        "fashion_mnist_class_names = fashion_mnist_train.classes\n",
        "fashion_mnist_class_names"
      ],
      "metadata": {
        "colab": {
          "base_uri": "https://localhost:8080/"
        },
        "id": "UsdbNxNgEzZP",
        "outputId": "10c4a287-f9ce-486f-9879-440bd274d1e2"
      },
      "execution_count": 36,
      "outputs": [
        {
          "output_type": "execute_result",
          "data": {
            "text/plain": [
              "['T-shirt/top',\n",
              " 'Trouser',\n",
              " 'Pullover',\n",
              " 'Dress',\n",
              " 'Coat',\n",
              " 'Sandal',\n",
              " 'Shirt',\n",
              " 'Sneaker',\n",
              " 'Bag',\n",
              " 'Ankle boot']"
            ]
          },
          "metadata": {},
          "execution_count": 36
        }
      ]
    },
    {
      "cell_type": "code",
      "source": [
        "# Turn FashionMNIST datasets into dataloaders\n",
        "from torch.utils.data import DataLoader\n",
        "\n",
        "fashion_mnist_train_dataloader = DataLoader(fashion_mnist_train,\n",
        "                                            batch_size = 32,\n",
        "                                            shuffle = True)\n",
        "\n",
        "fashion_mnist_test_dataloader = DataLoader(fashion_mnist_test,\n",
        "                                           batch_size = 32,\n",
        "                                           shuffle = False)\n",
        "len(fashion_mnist_train_dataloader), len(fashion_mnist_test_dataloader)"
      ],
      "metadata": {
        "colab": {
          "base_uri": "https://localhost:8080/"
        },
        "id": "HgV2c9KHE79P",
        "outputId": "bf14b229-6bfe-4cf0-dc8f-5271ceab738c"
      },
      "execution_count": 37,
      "outputs": [
        {
          "output_type": "execute_result",
          "data": {
            "text/plain": [
              "(1875, 313)"
            ]
          },
          "metadata": {},
          "execution_count": 37
        }
      ]
    },
    {
      "cell_type": "code",
      "source": [
        "model_2 = ModelV1(input_shape = 1,\n",
        "                  hidden_unit = 10,\n",
        "                  output_shape = 10).to(device)\n",
        "model_2"
      ],
      "metadata": {
        "colab": {
          "base_uri": "https://localhost:8080/"
        },
        "id": "2gtJuIFdFTUH",
        "outputId": "27637934-4637-41a6-ed01-471159738180"
      },
      "execution_count": 38,
      "outputs": [
        {
          "output_type": "execute_result",
          "data": {
            "text/plain": [
              "ModelV1(\n",
              "  (conv_block_1): Sequential(\n",
              "    (0): Conv2d(1, 10, kernel_size=(3, 3), stride=(1, 1), padding=(1, 1))\n",
              "    (1): ReLU()\n",
              "    (2): Conv2d(10, 10, kernel_size=(3, 3), stride=(1, 1), padding=(1, 1))\n",
              "    (3): ReLU()\n",
              "    (4): MaxPool2d(kernel_size=2, stride=2, padding=0, dilation=1, ceil_mode=False)\n",
              "  )\n",
              "  (conv_block_2): Sequential(\n",
              "    (0): Conv2d(10, 10, kernel_size=(3, 3), stride=(1, 1), padding=(1, 1))\n",
              "    (1): ReLU()\n",
              "    (2): Conv2d(10, 10, kernel_size=(3, 3), stride=(1, 1), padding=(1, 1))\n",
              "    (3): ReLU()\n",
              "    (4): MaxPool2d(kernel_size=2, stride=2, padding=0, dilation=1, ceil_mode=False)\n",
              "  )\n",
              "  (classifier): Sequential(\n",
              "    (0): Flatten(start_dim=1, end_dim=-1)\n",
              "    (1): Linear(in_features=490, out_features=10, bias=True)\n",
              "  )\n",
              ")"
            ]
          },
          "metadata": {},
          "execution_count": 38
        }
      ]
    },
    {
      "cell_type": "code",
      "source": [
        "# Setup loss and optimizer\n",
        "from torch import nn\n",
        "loss_fn = nn.CrossEntropyLoss()\n",
        "optimizer = torch.optim.SGD(model_2.parameters(),\n",
        "                            lr = 0.01)"
      ],
      "metadata": {
        "id": "9xZhmWazFiYf"
      },
      "execution_count": 39,
      "outputs": []
    },
    {
      "cell_type": "code",
      "source": [
        "# Setup metrics\n",
        "from tqdm.auto import tqdm\n",
        "from torchmetrics import Accuracy\n",
        "\n",
        "acc_fn = Accuracy(task = 'multiclass', num_classes=len(fashion_mnist_class_names)).to(device)"
      ],
      "metadata": {
        "id": "9tnwP5MSFurv"
      },
      "execution_count": 44,
      "outputs": []
    },
    {
      "cell_type": "code",
      "source": [
        "# Setup training/testing loop\n",
        "epoch = 5\n",
        "for epoch in tqdm(range(epochs)):\n",
        "  train_loss, test_loss_total = 0, 0\n",
        "  train_acc, test_acc = 0, 0\n",
        "\n",
        "  ## Training\n",
        "  model_2.train()\n",
        "  for batch, (X_train, y_train) in enumerate(fashion_mnist_train_dataloader):\n",
        "    X_train, y_train = X_train.to(device), y_train.to(device)\n",
        "\n",
        "    # Forward pass and loss\n",
        "    y_pred = model_2(X_train)\n",
        "    loss = loss_fn(y_pred, y_train)\n",
        "    train_loss += loss\n",
        "    train_acc += acc_fn(y_pred, y_train)\n",
        "\n",
        "    # Backprop and gradient descent\n",
        "    optimizer.zero_grad()\n",
        "    loss.backward()\n",
        "    optimizer.step()\n",
        "\n",
        "  # Adjust the loss/acc (find the loss/acc per epoch)\n",
        "  train_loss /= len(fashion_mnist_train_dataloader)\n",
        "  train_acc  /= len(fashion_mnist_test_dataloader)\n",
        "\n",
        "  ### Testing\n",
        "  model_2.eval()\n",
        "  with torch.inference_mode():\n",
        "    for batch, (X_test, y_test) in enumerate(fashion_mnist_test_dataloader):\n",
        "      X_test, y_test = X_test.to(device), y_test.to(device)\n",
        "\n",
        "      # Forward pass and loss\n",
        "      y_pred_test = model_2(X_test)\n",
        "      test_loss = loss_fn(y_pred_test, y_test)\n",
        "      test_loss_total += test_loss\n",
        "\n",
        "      test_acc += acc_fn(y_pred_test, y_test)\n",
        "\n",
        "    # Adjust the loss/acc (find the loss/acc per epoch)\n",
        "    test_loss /= len(fashion_mnist_test_dataloader)\n",
        "    test_acc /= len(fashion_mnist_test_dataloader)\n",
        "\n",
        "  # Print out what's happening\n",
        "  print(f\"Epoch: {epoch} | Train loss: {train_loss:.3f} | Train acc: {train_acc:.2f} | Test loss: {test_loss_total:.3f} | Test acc: {test_acc:.2f}\")"
      ],
      "metadata": {
        "colab": {
          "base_uri": "https://localhost:8080/",
          "height": 136,
          "referenced_widgets": [
            "d26f89a7d8a84c48932b938e9576a060",
            "d75c6ae929944b37a34052632297dd3f",
            "7009251d54304def8699b5dacf1eb4c1",
            "ca8dd52a2acf478abb720e6bc9e4297f",
            "89e0ddd9826d4e5497b9953ac8052b93",
            "2558de93ac4a430eb5fb9ad321265efb",
            "41022cbfa84f4774a92a9f0479d6182f",
            "2270c439937a4184926b8bcbac44cb76",
            "75243c355af042dd89144ebc619f56b3",
            "3080ff812a0b450d96c35c2b6b0c9b11",
            "902692f2f86e49c7ade00dbee9df64b7"
          ]
        },
        "id": "hWBncqbyF9fn",
        "outputId": "2e080252-a9a5-403d-8728-139903f46cca"
      },
      "execution_count": 48,
      "outputs": [
        {
          "output_type": "display_data",
          "data": {
            "text/plain": [
              "  0%|          | 0/5 [00:00<?, ?it/s]"
            ],
            "application/vnd.jupyter.widget-view+json": {
              "version_major": 2,
              "version_minor": 0,
              "model_id": "d26f89a7d8a84c48932b938e9576a060"
            }
          },
          "metadata": {}
        },
        {
          "output_type": "stream",
          "name": "stdout",
          "text": [
            "Epoch: 0 | Train loss: 0.514 | Train acc: 4.89 | Test loss: 149.798 | Test acc: 0.83\n",
            "Epoch: 1 | Train loss: 0.428 | Train acc: 5.07 | Test loss: 137.541 | Test acc: 0.84\n",
            "Epoch: 2 | Train loss: 0.388 | Train acc: 5.16 | Test loss: 121.363 | Test acc: 0.86\n",
            "Epoch: 3 | Train loss: 0.364 | Train acc: 5.21 | Test loss: 119.498 | Test acc: 0.87\n",
            "Epoch: 4 | Train loss: 0.346 | Train acc: 5.26 | Test loss: 112.709 | Test acc: 0.87\n"
          ]
        }
      ]
    },
    {
      "cell_type": "code",
      "source": [
        "# Make predictions with trained model_2\n",
        "test_preds = []\n",
        "model_2.eval()\n",
        "with torch.inference_mode():\n",
        "  for X_test, y_test in tqdm(fashion_mnist_test_dataloader):\n",
        "    y_logits = model_2(X_test.to(device))\n",
        "    y_pred_probs = torch.softmax(y_logits, dim = 1)\n",
        "    y_pred_labels = torch.argmax(y_pred_probs, dim = 1)\n",
        "    test_preds.append(y_pred_labels)\n",
        "test_preds = torch.cat(test_preds).cpu()\n",
        "print(f'Predicted Values: {test_preds[:10]}')\n",
        "print(f'Actual Values: {fashion_mnist_test.targets[:10]}')\n",
        "len(test_preds)"
      ],
      "metadata": {
        "colab": {
          "base_uri": "https://localhost:8080/",
          "height": 101,
          "referenced_widgets": [
            "6c41c57a1d45415b8aedb0451465a2af",
            "7065881522e646a2859654aaffe7128f",
            "7f46a7721b3544f9a946fc870114cf42",
            "d4b76a5cdacc44c4b4e94e491670255e",
            "8d26180003644b96a0042cba23c0e254",
            "18d39118edcc44b3b909ff38ff66fd69",
            "7633c9f5e8e3406996b70ee14ef13e2b",
            "834de2dbb62d4d35b059f173266dea1a",
            "de6452613fde4e1e82bc8c373aa0161d",
            "fe74b8b2b5a84f70bcb53a9f8ab1ce93",
            "a1f4cbbedb21465aadfe8058fd8603dd"
          ]
        },
        "id": "PNLU9PU-IKCx",
        "outputId": "b99b7400-d9fc-4d27-d1bf-5a12d42e330f"
      },
      "execution_count": 53,
      "outputs": [
        {
          "output_type": "display_data",
          "data": {
            "text/plain": [
              "  0%|          | 0/313 [00:00<?, ?it/s]"
            ],
            "application/vnd.jupyter.widget-view+json": {
              "version_major": 2,
              "version_minor": 0,
              "model_id": "6c41c57a1d45415b8aedb0451465a2af"
            }
          },
          "metadata": {}
        },
        {
          "output_type": "stream",
          "name": "stdout",
          "text": [
            "Predicted Values: tensor([9, 2, 1, 1, 6, 1, 4, 6, 5, 7])\n",
            "Actual Values: tensor([9, 2, 1, 1, 6, 1, 4, 6, 5, 7])\n"
          ]
        },
        {
          "output_type": "execute_result",
          "data": {
            "text/plain": [
              "10000"
            ]
          },
          "metadata": {},
          "execution_count": 53
        }
      ]
    },
    {
      "cell_type": "code",
      "source": [
        "# Get wrong prediction indexes\n",
        "import numpy as np\n",
        "wrong_pred_indexes = np.where(test_preds != fashion_mnist_test.targets)[0]\n",
        "len(wrong_pred_indexes)"
      ],
      "metadata": {
        "colab": {
          "base_uri": "https://localhost:8080/"
        },
        "id": "dZfQtmuPMFsy",
        "outputId": "2f6e6bb8-aa2c-4b14-b5df-949c35ce55c3"
      },
      "execution_count": 54,
      "outputs": [
        {
          "output_type": "execute_result",
          "data": {
            "text/plain": [
              "1264"
            ]
          },
          "metadata": {},
          "execution_count": 54
        }
      ]
    },
    {
      "cell_type": "code",
      "source": [
        "# Select random 9 wrong predictions and plot them\n",
        "import random\n",
        "random_selection = random.sample(list(wrong_pred_indexes), k=9)\n",
        "\n",
        "plt.figure(figsize=(10, 10))\n",
        "for i, idx in enumerate(random_selection):\n",
        "  # Get true and pred labels\n",
        "  true_label = fashion_mnist_class_names[fashion_mnist_test[idx][1]]\n",
        "  pred_label = fashion_mnist_class_names[test_preds[idx]]\n",
        "\n",
        "  # Plot the wrong prediction with its original label\n",
        "  plt.subplot(3, 3, i+1)\n",
        "  plt.imshow(fashion_mnist_test[idx][0].squeeze(), cmap=\"gray\")\n",
        "  plt.title(f\"True: {true_label} | Pred: {pred_label}\", c=\"r\")\n",
        "  plt.axis(False);"
      ],
      "metadata": {
        "colab": {
          "base_uri": "https://localhost:8080/",
          "height": 829
        },
        "id": "erPfPgQhMJ4-",
        "outputId": "6d185d65-7aae-4f43-aa22-3483634af5bc"
      },
      "execution_count": 55,
      "outputs": [
        {
          "output_type": "display_data",
          "data": {
            "text/plain": [
              "<Figure size 1000x1000 with 9 Axes>"
            ],
            "image/png": "[encoded data removed]"
          },
          "metadata": {}
        }
      ]
    },
    {
      "cell_type": "code",
      "source": [],
      "metadata": {
        "id": "0mMVyrcrMM_O"
      },
      "execution_count": null,
      "outputs": []
    }
  ]
}